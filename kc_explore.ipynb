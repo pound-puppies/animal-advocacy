{
 "cells": [
  {
   "cell_type": "code",
   "execution_count": 1,
   "id": "7b9d0e6c-493f-4d0a-a1d5-3e9003dfdcfb",
   "metadata": {},
   "outputs": [],
   "source": [
    "import warnings\n",
    "warnings.filterwarnings(\"ignore\")\n",
    "import wrangle as w\n",
    "\n",
    "import pandas as pd\n",
    "import numpy as np\n",
    "\n",
    "#splits\n",
    "from sklearn.model_selection import train_test_split\n",
    "\n",
    "#visualization\n",
    "import matplotlib.pyplot as plt\n",
    "from matplotlib import cm\n",
    "import seaborn as sns\n",
    "\n",
    "#scaling\n",
    "from sklearn.preprocessing import MinMaxScaler, StandardScaler, RobustScaler\n",
    "from sklearn.metrics import precision_score, accuracy_score, recall_score, classification_report\n",
    "\n",
    "#model\n",
    "from sklearn.ensemble import RandomForestClassifier\n",
    "from sklearn.tree import DecisionTreeClassifier, plot_tree\n",
    "from sklearn.linear_model import LogisticRegression\n",
    "import kc_wrangle as w\n",
    "import wrangle as ww\n"
   ]
  },
  {
   "cell_type": "markdown",
   "id": "4b134300-0dab-42ab-8e31-b5c646ae8d3d",
   "metadata": {},
   "source": [
    "# Acquire"
   ]
  },
  {
   "cell_type": "code",
   "execution_count": 2,
   "id": "08ab00e4",
   "metadata": {},
   "outputs": [],
   "source": [
    "df = pd.read_csv(\"merged_data - merged_data.csv\")"
   ]
  },
  {
   "cell_type": "code",
   "execution_count": 3,
   "id": "afb3147d-e98e-4d0f-83c7-14d5c2a56a4c",
   "metadata": {},
   "outputs": [],
   "source": [
    "df = ww.get_prep_aa(df)"
   ]
  },
  {
   "cell_type": "markdown",
   "id": "b1017b77",
   "metadata": {},
   "source": [
    "* lowercase variables\n",
    "* intake age/ outcome age leave just days\n",
    "* name column made need to be dropped from too many nulls \n",
    "* animal id column change to id \n"
   ]
  },
  {
   "cell_type": "markdown",
   "id": "99607fbc-daac-40f8-a791-a058c5a0bb95",
   "metadata": {},
   "source": [
    "# Prepare"
   ]
  },
  {
   "cell_type": "code",
   "execution_count": 4,
   "id": "ff41f2db",
   "metadata": {},
   "outputs": [
    {
     "data": {
      "text/plain": [
       "Index(['intake_age', 'outcome_age'], dtype='object')"
      ]
     },
     "execution_count": 4,
     "metadata": {},
     "output_type": "execute_result"
    }
   ],
   "source": [
    "#find numeric columns\n",
    "num_col = df.select_dtypes(include='number').columns\n",
    "num_col"
   ]
  },
  {
   "cell_type": "code",
   "execution_count": 5,
   "id": "677d944b-9e09-4ed8-a45f-9e45236e7221",
   "metadata": {},
   "outputs": [],
   "source": [
    "#get string columns\n",
    "str_col = ['outcome', 'intake_type', 'intake_condition',\n",
    "       'species', 'found_location', 'intake_sex', 'breed', 'color']"
   ]
  },
  {
   "cell_type": "code",
   "execution_count": 6,
   "id": "7c410dd2",
   "metadata": {},
   "outputs": [
    {
     "data": {
      "text/plain": [
       "intact male      57597\n",
       "intact female    53284\n",
       "neutered male    39091\n",
       "spayed female    30913\n",
       "unknown           4723\n",
       "nan                  2\n",
       "Name: intake_sex, dtype: int64"
      ]
     },
     "execution_count": 6,
     "metadata": {},
     "output_type": "execute_result"
    }
   ],
   "source": [
    "df.intake_sex.value_counts()"
   ]
  },
  {
   "cell_type": "code",
   "execution_count": 7,
   "id": "3df3df75-b59f-4d1a-9306-f6da7193b131",
   "metadata": {},
   "outputs": [
    {
     "data": {
      "text/plain": [
       "normal        165607\n",
       "injured         8562\n",
       "sick            5116\n",
       "nursing         3849\n",
       "neonatal         863\n",
       "aged             538\n",
       "other            365\n",
       "medical          297\n",
       "feral            142\n",
       "pregnant         135\n",
       "behavior          96\n",
       "med attn          16\n",
       "neurologic         7\n",
       "med urgent         5\n",
       "space              4\n",
       "unknown            4\n",
       "parvo              3\n",
       "panleuk            1\n",
       "Name: intake_condition, dtype: int64"
      ]
     },
     "execution_count": 7,
     "metadata": {},
     "output_type": "execute_result"
    }
   ],
   "source": [
    "df.intake_condition.value_counts()"
   ]
  },
  {
   "cell_type": "markdown",
   "id": "e511e72f",
   "metadata": {},
   "source": [
    "rename intake_conditions: Normal, Injured, Immediate attn needed, mental, delayed/terminal"
   ]
  },
  {
   "cell_type": "code",
   "execution_count": 8,
   "id": "cf7ac71d",
   "metadata": {},
   "outputs": [
    {
     "data": {
      "text/html": [
       "<div>\n",
       "<style scoped>\n",
       "    .dataframe tbody tr th:only-of-type {\n",
       "        vertical-align: middle;\n",
       "    }\n",
       "\n",
       "    .dataframe tbody tr th {\n",
       "        vertical-align: top;\n",
       "    }\n",
       "\n",
       "    .dataframe thead th {\n",
       "        text-align: right;\n",
       "    }\n",
       "</style>\n",
       "<table border=\"1\" class=\"dataframe\">\n",
       "  <thead>\n",
       "    <tr style=\"text-align: right;\">\n",
       "      <th></th>\n",
       "      <th>name</th>\n",
       "      <th>outcome</th>\n",
       "      <th>dob</th>\n",
       "      <th>intake_type</th>\n",
       "      <th>intake_datetime</th>\n",
       "      <th>outcome_datetime</th>\n",
       "      <th>intake_condition</th>\n",
       "      <th>intake_age</th>\n",
       "      <th>outcome_age</th>\n",
       "      <th>species</th>\n",
       "      <th>found_location</th>\n",
       "      <th>intake_sex</th>\n",
       "      <th>breed</th>\n",
       "      <th>color</th>\n",
       "    </tr>\n",
       "  </thead>\n",
       "  <tbody>\n",
       "    <tr>\n",
       "      <th>0</th>\n",
       "      <td>chunk</td>\n",
       "      <td>rto-adopt</td>\n",
       "      <td>2017-05-02</td>\n",
       "      <td>owner surrender</td>\n",
       "      <td>2019-05-02 16:51:00</td>\n",
       "      <td>2019-05-08 18:20:00</td>\n",
       "      <td>normal</td>\n",
       "      <td>24</td>\n",
       "      <td>24</td>\n",
       "      <td>cat</td>\n",
       "      <td>austin (tx)</td>\n",
       "      <td>neutered male</td>\n",
       "      <td>domestic shorthair mix</td>\n",
       "      <td>brown tabby/white</td>\n",
       "    </tr>\n",
       "    <tr>\n",
       "      <th>1</th>\n",
       "      <td>gizmo</td>\n",
       "      <td>adoption</td>\n",
       "      <td>2017-07-12</td>\n",
       "      <td>stray</td>\n",
       "      <td>2018-07-12 12:46:00</td>\n",
       "      <td>2018-07-18 16:02:00</td>\n",
       "      <td>normal</td>\n",
       "      <td>12</td>\n",
       "      <td>12</td>\n",
       "      <td>dog</td>\n",
       "      <td>7201 levander loop in austin (tx)</td>\n",
       "      <td>intact male</td>\n",
       "      <td>chihuahua shorthair mix</td>\n",
       "      <td>white/brown</td>\n",
       "    </tr>\n",
       "    <tr>\n",
       "      <th>3</th>\n",
       "      <td>moose</td>\n",
       "      <td>adoption</td>\n",
       "      <td>2015-10-08</td>\n",
       "      <td>stray</td>\n",
       "      <td>2016-02-08 11:05:00</td>\n",
       "      <td>2016-02-13 17:59:00</td>\n",
       "      <td>normal</td>\n",
       "      <td>4</td>\n",
       "      <td>4</td>\n",
       "      <td>dog</td>\n",
       "      <td>dove dr and e stassney in austin (tx)</td>\n",
       "      <td>intact male</td>\n",
       "      <td>anatol shepherd/labrador retriever</td>\n",
       "      <td>buff</td>\n",
       "    </tr>\n",
       "    <tr>\n",
       "      <th>4</th>\n",
       "      <td>moose</td>\n",
       "      <td>adoption</td>\n",
       "      <td>2015-10-08</td>\n",
       "      <td>owner surrender</td>\n",
       "      <td>2016-02-15 10:37:00</td>\n",
       "      <td>2016-02-13 17:59:00</td>\n",
       "      <td>normal</td>\n",
       "      <td>4</td>\n",
       "      <td>4</td>\n",
       "      <td>dog</td>\n",
       "      <td>austin (tx)</td>\n",
       "      <td>neutered male</td>\n",
       "      <td>anatol shepherd/labrador retriever</td>\n",
       "      <td>buff</td>\n",
       "    </tr>\n",
       "    <tr>\n",
       "      <th>5</th>\n",
       "      <td>nan</td>\n",
       "      <td>transfer</td>\n",
       "      <td>2014-03-12</td>\n",
       "      <td>stray</td>\n",
       "      <td>2014-03-18 07:11:00</td>\n",
       "      <td>2014-03-18 11:47:00</td>\n",
       "      <td>nursing</td>\n",
       "      <td>0</td>\n",
       "      <td>0</td>\n",
       "      <td>cat</td>\n",
       "      <td>12034 research in austin (tx)</td>\n",
       "      <td>intact male</td>\n",
       "      <td>domestic shorthair mix</td>\n",
       "      <td>orange tabby</td>\n",
       "    </tr>\n",
       "  </tbody>\n",
       "</table>\n",
       "</div>"
      ],
      "text/plain": [
       "    name    outcome        dob      intake_type     intake_datetime  \\\n",
       "0  chunk  rto-adopt 2017-05-02  owner surrender 2019-05-02 16:51:00   \n",
       "1  gizmo   adoption 2017-07-12            stray 2018-07-12 12:46:00   \n",
       "3  moose   adoption 2015-10-08            stray 2016-02-08 11:05:00   \n",
       "4  moose   adoption 2015-10-08  owner surrender 2016-02-15 10:37:00   \n",
       "5    nan   transfer 2014-03-12            stray 2014-03-18 07:11:00   \n",
       "\n",
       "     outcome_datetime intake_condition  intake_age  outcome_age species  \\\n",
       "0 2019-05-08 18:20:00           normal          24           24     cat   \n",
       "1 2018-07-18 16:02:00           normal          12           12     dog   \n",
       "3 2016-02-13 17:59:00           normal           4            4     dog   \n",
       "4 2016-02-13 17:59:00           normal           4            4     dog   \n",
       "5 2014-03-18 11:47:00          nursing           0            0     cat   \n",
       "\n",
       "                          found_location     intake_sex  \\\n",
       "0                            austin (tx)  neutered male   \n",
       "1      7201 levander loop in austin (tx)    intact male   \n",
       "3  dove dr and e stassney in austin (tx)    intact male   \n",
       "4                            austin (tx)  neutered male   \n",
       "5          12034 research in austin (tx)    intact male   \n",
       "\n",
       "                                breed              color  \n",
       "0              domestic shorthair mix  brown tabby/white  \n",
       "1             chihuahua shorthair mix        white/brown  \n",
       "3  anatol shepherd/labrador retriever               buff  \n",
       "4  anatol shepherd/labrador retriever               buff  \n",
       "5              domestic shorthair mix       orange tabby  "
      ]
     },
     "execution_count": 8,
     "metadata": {},
     "output_type": "execute_result"
    }
   ],
   "source": [
    "df.head()"
   ]
  },
  {
   "cell_type": "code",
   "execution_count": 9,
   "id": "710df595",
   "metadata": {},
   "outputs": [],
   "source": [
    "# lowercase everything\n",
    "df = df.apply(lambda x: x.astype(str).str.lower())"
   ]
  },
  {
   "cell_type": "code",
   "execution_count": 10,
   "id": "027f58fc",
   "metadata": {},
   "outputs": [],
   "source": [
    "def transform_intake_condition(df):\n",
    "    df = df.apply(lambda x: x.astype(str).str.lower())\n",
    "    # Change 'Feral', 'Neurologic', 'Behavior', 'Space' to 'mental' category\n",
    "    df['intake_condition'] = df['intake_condition'].replace(['feral', 'neurologic', 'behavior', 'space'], 'mental')\n",
    "    \n",
    "    # Set values indicating medical attention\n",
    "    df['intake_condition'] = df['intake_condition'].replace(['nursing', 'neonatal', 'medical', 'pregnant', 'med attn', 'med urgent', 'parvo', 'agonal', 'panleuk'], 'medical attention')\n",
    "    \n",
    "    # Drop rows with 'other', 'unknown', and 'nan' values\n",
    "    df = df[df['intake_condition'].isin(['other', 'unknown', 'nan']) == False]\n",
    "    \n",
    "    return df"
   ]
  },
  {
   "cell_type": "code",
   "execution_count": 11,
   "id": "b0da76aa",
   "metadata": {},
   "outputs": [],
   "source": [
    "df = w.transform_intake_condition(df)"
   ]
  },
  {
   "cell_type": "markdown",
   "id": "abc09abc",
   "metadata": {},
   "source": [
    "# top ten colors and other for erybody else, or for simplify all colors"
   ]
  },
  {
   "cell_type": "code",
   "execution_count": 12,
   "id": "a85ab1f4",
   "metadata": {},
   "outputs": [],
   "source": [
    "def transform_color(df):\n",
    "    # lowercase everything\n",
    "    df = df.apply(lambda x: x.astype(str).str.lower())\n",
    "\n",
    "    \n",
    "    # Add spaces between color names separated by slashes\n",
    "    df['color'] = df['color'].str.replace('/', ' / ')\n",
    "    \n",
    "    # Replace color names with their corresponding standard names\n",
    "    replacements = {\n",
    "        'chocolate': 'brown',\n",
    "        'liver': 'brown',\n",
    "        'ruddy': 'brown',\n",
    "        'apricot': 'orange',\n",
    "        'pink': 'red',\n",
    "        'cream': 'white',\n",
    "        'flame point': 'white',\n",
    "        'blue': 'gray',\n",
    "        'silver': 'gray',\n",
    "        'yellow': 'gold',\n",
    "        'torbie': 'tricolor',\n",
    "        'tortie': 'tricolor',\n",
    "        'calico': 'tricolor'\n",
    "    }\n",
    "    df['color'] = df['color'].replace(replacements, regex=True)\n",
    "    \n",
    "    # Create new column 'primary_color' with the first color\n",
    "    colors = ['black', 'brown', 'white', 'tan', 'brindle', 'gray', 'fawn', 'red', 'sable', 'buff', 'orange', 'blue', 'tricolor', 'gold', 'cream', 'lynx point', 'seal point', 'agouti', 'lilac point']\n",
    "    for color in colors:\n",
    "        df.loc[df['color'].str.startswith(color), 'primary_color'] = color\n",
    "    \n",
    "    # Drop rows with 'unknown' color\n",
    "    df = df[df['color'] != 'unknown']\n",
    "    \n",
    "    # Create column indicating if the animal has a tabby pattern\n",
    "    df['is_tabby'] = df['color'].str.contains('tabby').astype(int)\n",
    "    \n",
    "    # Create column indicating if the animal has mixed colors\n",
    "    df[\"mix_color\"] = np.where(df['color'].str.contains(r'\\/|tricolor|torbie|tortie'), 1, 0)\n",
    "    \n",
    "    return df\n",
    "\n",
    "\n"
   ]
  },
  {
   "cell_type": "code",
   "execution_count": 13,
   "id": "7cb27532",
   "metadata": {},
   "outputs": [],
   "source": [
    "df = w.transform_color(df)"
   ]
  },
  {
   "cell_type": "markdown",
   "id": "f1967324-16f6-412c-aeb3-a4ff0453559a",
   "metadata": {},
   "source": [
    "# Question and Hypothesis Statement"
   ]
  },
  {
   "cell_type": "code",
   "execution_count": null,
   "id": "a3069868-3397-4fd4-8848-7a1cf75e7e8f",
   "metadata": {},
   "outputs": [],
   "source": []
  },
  {
   "cell_type": "code",
   "execution_count": null,
   "id": "8427a1b7-5739-45c6-b460-4b3cbe3f2ff6",
   "metadata": {},
   "outputs": [],
   "source": []
  },
  {
   "cell_type": "markdown",
   "id": "9fdf98ed-dcd0-475f-902d-c988eb6a730c",
   "metadata": {},
   "source": [
    "# Conclusion"
   ]
  },
  {
   "cell_type": "code",
   "execution_count": null,
   "id": "893a4f15-e3d6-48ae-85e2-01645b591f7e",
   "metadata": {},
   "outputs": [],
   "source": []
  },
  {
   "cell_type": "code",
   "execution_count": null,
   "id": "3024756c-d805-457e-bae3-e8dcb8d92ac2",
   "metadata": {},
   "outputs": [],
   "source": []
  },
  {
   "cell_type": "code",
   "execution_count": null,
   "id": "0992070f-9529-4a3c-a8f2-1cedc5facd85",
   "metadata": {},
   "outputs": [],
   "source": []
  },
  {
   "cell_type": "code",
   "execution_count": null,
   "id": "5bb800df-6ebf-4423-adfd-03c3a7b9ee78",
   "metadata": {},
   "outputs": [],
   "source": []
  },
  {
   "cell_type": "markdown",
   "id": "f85269e6-b7e5-443c-a004-92d0ac0d386c",
   "metadata": {},
   "source": [
    "# Question and Hypothesis Statement"
   ]
  },
  {
   "cell_type": "code",
   "execution_count": null,
   "id": "36a62b51-266b-4277-bda3-d3b3a291b53a",
   "metadata": {},
   "outputs": [],
   "source": []
  },
  {
   "cell_type": "code",
   "execution_count": null,
   "id": "2f3c45bf-e797-4362-9b46-51dd478e3b08",
   "metadata": {},
   "outputs": [],
   "source": []
  },
  {
   "cell_type": "code",
   "execution_count": null,
   "id": "38003905-7924-48a2-b19f-3e89aba68154",
   "metadata": {},
   "outputs": [],
   "source": []
  },
  {
   "cell_type": "code",
   "execution_count": null,
   "id": "785ff02a-00d8-4c1c-b655-48d879928dac",
   "metadata": {},
   "outputs": [],
   "source": []
  },
  {
   "cell_type": "markdown",
   "id": "faff10f7-71c6-49ee-8c95-8b180a9e6e62",
   "metadata": {},
   "source": [
    "# Conclusion"
   ]
  },
  {
   "cell_type": "code",
   "execution_count": null,
   "id": "14ad2e8c-de85-4b59-8d1c-9fc1aa97a349",
   "metadata": {},
   "outputs": [],
   "source": []
  },
  {
   "cell_type": "code",
   "execution_count": null,
   "id": "098adb44-18ed-47c8-ae5f-f765f4e3ce74",
   "metadata": {},
   "outputs": [],
   "source": []
  },
  {
   "cell_type": "code",
   "execution_count": null,
   "id": "f698958d-a6dc-4f2e-91ce-b89dea00842d",
   "metadata": {},
   "outputs": [],
   "source": []
  },
  {
   "cell_type": "markdown",
   "id": "a9d602fb-6d06-407c-bf72-afc1829bde73",
   "metadata": {},
   "source": [
    "# Question and Hypothesis Statement"
   ]
  },
  {
   "cell_type": "code",
   "execution_count": null,
   "id": "987c80f3-a071-4937-8f9b-0f21273761c2",
   "metadata": {},
   "outputs": [],
   "source": []
  },
  {
   "cell_type": "code",
   "execution_count": null,
   "id": "13777fc7-b5be-4ff4-8c95-2fc5e9c85958",
   "metadata": {},
   "outputs": [],
   "source": []
  },
  {
   "cell_type": "code",
   "execution_count": null,
   "id": "e0b444ea-d88d-4b9a-9663-3cd2ac585757",
   "metadata": {},
   "outputs": [],
   "source": []
  },
  {
   "cell_type": "markdown",
   "id": "0a9dd157-18a4-4e00-8450-9be9c9edcb7a",
   "metadata": {},
   "source": [
    "# Conclusion"
   ]
  }
 ],
 "metadata": {
  "kernelspec": {
   "display_name": "Python 3 (ipykernel)",
   "language": "python",
   "name": "python3"
  },
  "language_info": {
   "codemirror_mode": {
    "name": "ipython",
    "version": 3
   },
   "file_extension": ".py",
   "mimetype": "text/x-python",
   "name": "python",
   "nbconvert_exporter": "python",
   "pygments_lexer": "ipython3",
   "version": "3.9.13"
  }
 },
 "nbformat": 4,
 "nbformat_minor": 5
}
