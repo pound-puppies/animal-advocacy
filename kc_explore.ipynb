{
 "cells": [
  {
   "cell_type": "code",
   "execution_count": 1,
   "id": "7b9d0e6c-493f-4d0a-a1d5-3e9003dfdcfb",
   "metadata": {},
   "outputs": [],
   "source": [
    "import warnings\n",
    "warnings.filterwarnings(\"ignore\")\n",
    "import wrangle as w\n",
    "\n",
    "import pandas as pd\n",
    "import numpy as np\n",
    "\n",
    "#splits\n",
    "from sklearn.model_selection import train_test_split\n",
    "\n",
    "#visualization\n",
    "import matplotlib.pyplot as plt\n",
    "from matplotlib import cm\n",
    "import seaborn as sns\n",
    "\n",
    "#scaling\n",
    "from sklearn.preprocessing import MinMaxScaler, StandardScaler, RobustScaler\n",
    "from sklearn.metrics import precision_score, accuracy_score, recall_score, classification_report\n",
    "\n",
    "#model\n",
    "from sklearn.ensemble import RandomForestClassifier\n",
    "from sklearn.tree import DecisionTreeClassifier, plot_tree\n",
    "from sklearn.linear_model import LogisticRegression\n",
    "import kc_wrangle as w\n",
    "import wrangle as ww\n"
   ]
  },
  {
   "cell_type": "markdown",
   "id": "4b134300-0dab-42ab-8e31-b5c646ae8d3d",
   "metadata": {},
   "source": [
    "# Acquire"
   ]
  },
  {
   "cell_type": "code",
   "execution_count": 45,
   "id": "4faec38a",
   "metadata": {},
   "outputs": [],
   "source": [
    "import pandas as pd\n",
    "import matplotlib.pyplot as plt\n",
    "import seaborn as sns\n",
    "import numpy as np\n",
    "import os\n",
    "from sklearn.model_selection import train_test_split\n",
    "from sqlalchemy import text, create_engine\n",
    "\n",
    "import warnings\n",
    "warnings.filterwarnings(\"ignore\")\n",
    "\n",
    "np.random.seed(42)\n",
    "\n",
    "####################### Imports ############################\n",
    "\n",
    "                                                        ############### Acquire Functions ###########################\n",
    "\n",
    "def get_aa_data(fn, query, url):\n",
    "    \"\"\"\n",
    "    check if file exists in my local directory, if not, pull from sql db\n",
    "    return dataframe\n",
    "    \"\"\"\n",
    "    if os.path.isfile(fn):\n",
    "        print('csv file found and loaded')\n",
    "        return pd.read_csv(fn, index_col=0)\n",
    "    else:\n",
    "        print('creating df and exporting csv')\n",
    "        df = pd.read_sql(query, url)\n",
    "        df.to_csv(fn)\n",
    "        return df\n",
    "    \n",
    "def get_prep_aa(df):\n",
    "    # made all column names lower case\n",
    "    df.columns = df.columns.str.lower()\n",
    "    df = df.apply(lambda x: x.astype(str).str.lower())\n",
    "    new_columns = {\n",
    "        'datetime_x': 'outcome_datetime',\n",
    "        'datetime_y': 'intake_datetime',\n",
    "        'monthyear_x': 'outcome_monthyear',\n",
    "        'monthyear_y': 'intake_monthyear',\n",
    "        'name_y': 'name',\n",
    "        'breed_y': 'breed',\n",
    "        'animal type_y': 'species',\n",
    "        'outcome type': 'outcome',\n",
    "        'color_y': 'color',\n",
    "        'sex upon outcome': 'outcome_sex',\n",
    "        'sex upon intake': 'intake_sex',\n",
    "        'intake type': 'intake_type',\n",
    "        'age upon intake': 'intake_age',\n",
    "        'age upon outcome': 'outcome_age',\n",
    "        'date of birth': 'dob',\n",
    "        'intake condition': 'intake_condition',\n",
    "        'found location': 'found_location',\n",
    "        'animal id': 'id'      \n",
    "    }\n",
    "    df = df.rename(columns=new_columns)\n",
    "    #dropped unnecessary column names, outcome subtype, due to having over 119k of 193k rows empty, intake_monthyear, outcome_month_year, animal type_x, are predominantly the same, \n",
    "    columns_to_drop = ['outcome subtype', 'name_x', 'breed_x', 'animal type_x', 'color_x', 'intake_monthyear', 'outcome_monthyear']\n",
    "    df = df.drop(columns=columns_to_drop)\n",
    "\n",
    "    # dropping nulls\n",
    "    df.dropna(subset=['intake_sex'], inplace=True)\n",
    "    df.dropna(subset=['outcome'], inplace=True)\n",
    "\n",
    "    # create dates\n",
    "#     df['outcome_date'] = pd.to_datetime(df['outcome_datetime']).dt.strftime('%m/%d/%Y').astype(\"datetime64\")\n",
    "#     df['intake_date'] = pd.to_datetime(df['intake_datetime']).dt.strftime('%m/%d/%Y').astype(\"datetime64\")\n",
    "    df['dob'] = pd.to_datetime(df['dob'], format='%m/%d/%Y')\n",
    "\n",
    "#     # create ages\n",
    "#     df['intake_age'] = (df.intake_date - df.dob).dt.days\n",
    "#     df['outcome_age'] = (df.outcome_date - df.dob).dt.days\n",
    "\n",
    "#     # days in center\n",
    "#     df[\"tenure_days\"] = (df['outcome_age'] - df['intake_age'] )\n",
    "#     # filter weird dates\n",
    "#     df = df[df.tenure_days > 0]\n",
    "\n",
    "    # color and intake condition columns\n",
    "    df = transform_color(df)\n",
    "    df = transform_intake_condition(df)\n",
    "\n",
    "    #filtered for cats and dogs\n",
    "    df = df[df['species'].isin(['cat', 'dog'])]\n",
    "    df = df[df['outcome'].isin(['adoption', 'transfer', 'rto-adopt', 'return to owner', 'euthanasia'])]\n",
    "    df = df[df['intake_type'].isin(['stray', 'owner surrender', 'public assist', 'abandoned'])]\n",
    "\n",
    "    # mix breeds columns\n",
    "#     df['mix_breeds'] = np.where(df['breed'].str.contains('mix', case=False, na=False), mix, 0)\n",
    "#     df['two_breeds'] = np.where(df['breed'].str.contains('/', case=False, na=False), 1, 0)\n",
    "#     df['pure_breed'] = np.where((df['mix_breeds'] == 0) & (df['two_breeds'] == 0), 1, 0)\n",
    "\n",
    "    df['breed_cat'] = df.loc[df['breed'].str.contains('mix', case=False, na=False), 'breed'] = 'mix breed'\n",
    "    df['breed_cat'] = df.loc[df['breed'].str.contains('/', case=False, na=False), 'breed'] = 'multiple breeds'\n",
    "    df['breed_cat'] = df.loc[~df['breed'].str.contains('mix|/', case=False, na=False), 'breed'] = 'single breed'\n",
    "\n",
    "    # if pet has a name 1, if not 0 place in column has_name\n",
    "    df['has_name'] = np.where(df['name'] != 'nan', 1, 0)\n",
    "\n",
    "    # dropping unknown sex from df\n",
    "    df = df[(df.intake_sex != 'unknown') & (df.intake_sex != 'nan')]\n",
    "\n",
    "    # keep these columns\n",
    "    keep_col= ['has_name', 'outcome', 'dob',\n",
    "               'species', 'intake_type', 'intake_condition',\n",
    "               'intake_date', 'outcome_date', 'intake_age',\n",
    "               'outcome_age', 'tenure_days', 'intake_sex',\n",
    "               'breed','primary_color', 'is_tabby', 'mix_color']\n",
    "    df = df[keep_col]\n",
    "\n",
    "    dummies_df = pd.get_dummies(df, columns=['outcome', 'species', 'intake_type',\n",
    "                                             'intake_condition', 'intake_sex', 'primary_color'], drop_first = True)\n",
    "    model_df = dummies_df.drop(columns=['dob', 'intake_date', 'outcome_date', 'breed'])\n",
    "    return df, model_df\n",
    "\n",
    "                                                        #################### Prepare Functions ##########################\n",
    "\n",
    "def transform_intake_condition(df):\n",
    "    \"\"\"\n",
    "    Transforms the intake_condition column of a DataFrame by performing several operations.\n",
    "\n",
    "    Args:\n",
    "        df (pandas.DataFrame): The input DataFrame containing an 'intake_condition' column.\n",
    "\n",
    "    Returns:\n",
    "        pandas.DataFrame: The transformed DataFrame.\n",
    "\n",
    "    \"\"\"\n",
    "\n",
    "    df = df.apply(lambda x: x.astype(str).str.lower())\n",
    "\n",
    "    # Change 'Feral', 'Neurologic', 'Behavior', 'Space' to 'mental' category\n",
    "    df['intake_condition'] = df['intake_condition'].replace(['feral', 'neurologic', 'behavior', 'space'], 'mental')\n",
    "\n",
    "    # Set values indicating medical attention\n",
    "    df['intake_condition'] = df['intake_condition'].replace(['nursing', 'neonatal', 'medical', 'pregnant', 'med attn', \n",
    "                                                            'med urgent', 'parvo', 'agonal', 'panleuk'], 'medical attention')\n",
    "\n",
    "    # Drop rows with 'other', 'unknown', and 'nan' values\n",
    "    df = df[df['intake_condition'].isin(['other', 'unknown', 'nan']) == False]\n",
    "\n",
    "    return df\n",
    "\n",
    "    \n",
    "def transform_color(df):\n",
    "    \"\"\"\n",
    "    Transforms the color column of a DataFrame by performing several operations.\n",
    "\n",
    "    Args:\n",
    "        df (pandas.DataFrame): The input DataFrame containing a 'color' column.\n",
    "\n",
    "    Returns:\n",
    "        pandas.DataFrame: The transformed DataFrame with additional columns.\n",
    "\n",
    "    \"\"\"\n",
    "\n",
    "    # lowercase everything\n",
    "    df = df.apply(lambda x: x.astype(str).str.lower())\n",
    "\n",
    "    # Add spaces between color names separated by slashes\n",
    "    df['color'] = df['color'].str.replace('/', ' / ')\n",
    "\n",
    "    # Replace color names with their corresponding standard names\n",
    "    replacements = {\n",
    "        'chocolate': 'brown',\n",
    "        'liver': 'brown',\n",
    "        'ruddy': 'brown',\n",
    "        'apricot': 'orange',\n",
    "        'pink': 'red',\n",
    "        'cream': 'white',\n",
    "        'flame point': 'white',\n",
    "        'blue': 'gray',\n",
    "        'silver': 'gray',\n",
    "        'yellow': 'gold',\n",
    "        'torbie': 'tricolor',\n",
    "        'tortie': 'tricolor',\n",
    "        'calico': 'tricolor'\n",
    "    }\n",
    "    df['color'] = df['color'].replace(replacements, regex=True)\n",
    "\n",
    "    # Create new column 'primary_color' with the first color\n",
    "    colors = ['black', 'brown', 'white', 'tan', 'brindle', 'gray', 'fawn', 'red', 'sable', 'buff', 'orange', 'blue',\n",
    "              'tricolor', 'gold', 'cream', 'lynx point', 'seal point', 'agouti', 'lilac point']\n",
    "    for color in colors:\n",
    "        df.loc[df['color'].str.startswith(color), 'primary_color'] = color\n",
    "\n",
    "    # Drop rows with 'unknown' color\n",
    "    df = df[df['color'] != 'unknown']\n",
    "\n",
    "    # Create column indicating if the animal has a tabby pattern\n",
    "    df['is_tabby'] = df['color'].str.contains('tabby').astype(int)\n",
    "\n",
    "    # Create column indicating if the animal has mixed colors\n",
    "    df[\"mix_color\"] = np.where(df['color'].str.contains(r'\\/|tricolor|torbie|tortie'), 1, 0)\n",
    "\n",
    "    df = df.drop(columns=[\"color\"])\n",
    "\n",
    "    return df\n",
    "\n",
    "\n",
    "def split_data(df, target_variable):\n",
    "    '''\n",
    "    Takes in two arguments the dataframe name and the (\"target_variable\" - must be in string format) to stratify  and \n",
    "    return train, validate, test subset dataframes will output train, validate, and test in that order.\n",
    "    '''\n",
    "    train, test = train_test_split(df, #first split\n",
    "                                   test_size=.2, \n",
    "                                   random_state=123, \n",
    "                                   stratify= df[target_variable])\n",
    "    train, validate = train_test_split(train, #second split\n",
    "                                    test_size=.25, \n",
    "                                    random_state=123, \n",
    "                                    stratify=train[target_variable])\n",
    "    return train, validate, test"
   ]
  },
  {
   "cell_type": "code",
   "execution_count": 51,
   "id": "3b1bffcf",
   "metadata": {},
   "outputs": [],
   "source": [
    "df = pd.read_csv(\"merged_data - merged_data.csv\")"
   ]
  },
  {
   "cell_type": "code",
   "execution_count": 53,
   "id": "e0159200",
   "metadata": {},
   "outputs": [],
   "source": [
    "df, model_df = get_prep_aa(df)"
   ]
  },
  {
   "cell_type": "code",
   "execution_count": 54,
   "id": "1c05efe1",
   "metadata": {},
   "outputs": [
    {
     "data": {
      "text/html": [
       "<div>\n",
       "<style scoped>\n",
       "    .dataframe tbody tr th:only-of-type {\n",
       "        vertical-align: middle;\n",
       "    }\n",
       "\n",
       "    .dataframe tbody tr th {\n",
       "        vertical-align: top;\n",
       "    }\n",
       "\n",
       "    .dataframe thead th {\n",
       "        text-align: right;\n",
       "    }\n",
       "</style>\n",
       "<table border=\"1\" class=\"dataframe\">\n",
       "  <thead>\n",
       "    <tr style=\"text-align: right;\">\n",
       "      <th></th>\n",
       "      <th>has_name</th>\n",
       "      <th>outcome</th>\n",
       "      <th>dob</th>\n",
       "      <th>species</th>\n",
       "      <th>intake_type</th>\n",
       "      <th>intake_condition</th>\n",
       "      <th>intake_date</th>\n",
       "      <th>outcome_date</th>\n",
       "      <th>intake_age</th>\n",
       "      <th>outcome_age</th>\n",
       "      <th>tenure_days</th>\n",
       "      <th>intake_sex</th>\n",
       "      <th>breed</th>\n",
       "      <th>primary_color</th>\n",
       "      <th>is_tabby</th>\n",
       "      <th>mix_color</th>\n",
       "    </tr>\n",
       "  </thead>\n",
       "  <tbody>\n",
       "    <tr>\n",
       "      <th>0</th>\n",
       "      <td>1</td>\n",
       "      <td>rto-adopt</td>\n",
       "      <td>2017-05-02</td>\n",
       "      <td>cat</td>\n",
       "      <td>owner surrender</td>\n",
       "      <td>normal</td>\n",
       "      <td>2019-05-02</td>\n",
       "      <td>2019-05-08</td>\n",
       "      <td>730.0</td>\n",
       "      <td>736</td>\n",
       "      <td>6.0</td>\n",
       "      <td>neutered male</td>\n",
       "      <td>mix breed</td>\n",
       "      <td>brown</td>\n",
       "      <td>1</td>\n",
       "      <td>1</td>\n",
       "    </tr>\n",
       "    <tr>\n",
       "      <th>1</th>\n",
       "      <td>1</td>\n",
       "      <td>adoption</td>\n",
       "      <td>2017-07-12</td>\n",
       "      <td>dog</td>\n",
       "      <td>stray</td>\n",
       "      <td>normal</td>\n",
       "      <td>2018-07-12</td>\n",
       "      <td>2018-07-18</td>\n",
       "      <td>365.0</td>\n",
       "      <td>371</td>\n",
       "      <td>6.0</td>\n",
       "      <td>intact male</td>\n",
       "      <td>mix breed</td>\n",
       "      <td>white</td>\n",
       "      <td>0</td>\n",
       "      <td>1</td>\n",
       "    </tr>\n",
       "    <tr>\n",
       "      <th>3</th>\n",
       "      <td>1</td>\n",
       "      <td>adoption</td>\n",
       "      <td>2015-10-08</td>\n",
       "      <td>dog</td>\n",
       "      <td>stray</td>\n",
       "      <td>normal</td>\n",
       "      <td>2016-02-08</td>\n",
       "      <td>2016-02-13</td>\n",
       "      <td>123.0</td>\n",
       "      <td>128</td>\n",
       "      <td>5.0</td>\n",
       "      <td>intact male</td>\n",
       "      <td>single breed</td>\n",
       "      <td>buff</td>\n",
       "      <td>0</td>\n",
       "      <td>0</td>\n",
       "    </tr>\n",
       "    <tr>\n",
       "      <th>6</th>\n",
       "      <td>1</td>\n",
       "      <td>adoption</td>\n",
       "      <td>2013-03-24</td>\n",
       "      <td>dog</td>\n",
       "      <td>owner surrender</td>\n",
       "      <td>normal</td>\n",
       "      <td>2018-06-13</td>\n",
       "      <td>2020-10-05</td>\n",
       "      <td>1907.0</td>\n",
       "      <td>2752</td>\n",
       "      <td>845.0</td>\n",
       "      <td>spayed female</td>\n",
       "      <td>mix breed</td>\n",
       "      <td>brown</td>\n",
       "      <td>0</td>\n",
       "      <td>0</td>\n",
       "    </tr>\n",
       "    <tr>\n",
       "      <th>8</th>\n",
       "      <td>1</td>\n",
       "      <td>adoption</td>\n",
       "      <td>2018-03-01</td>\n",
       "      <td>dog</td>\n",
       "      <td>owner surrender</td>\n",
       "      <td>normal</td>\n",
       "      <td>2020-03-01</td>\n",
       "      <td>2020-05-06</td>\n",
       "      <td>731.0</td>\n",
       "      <td>797</td>\n",
       "      <td>66.0</td>\n",
       "      <td>neutered male</td>\n",
       "      <td>single breed</td>\n",
       "      <td>white</td>\n",
       "      <td>0</td>\n",
       "      <td>1</td>\n",
       "    </tr>\n",
       "  </tbody>\n",
       "</table>\n",
       "</div>"
      ],
      "text/plain": [
       "   has_name    outcome         dob species      intake_type intake_condition  \\\n",
       "0         1  rto-adopt  2017-05-02     cat  owner surrender           normal   \n",
       "1         1   adoption  2017-07-12     dog            stray           normal   \n",
       "3         1   adoption  2015-10-08     dog            stray           normal   \n",
       "6         1   adoption  2013-03-24     dog  owner surrender           normal   \n",
       "8         1   adoption  2018-03-01     dog  owner surrender           normal   \n",
       "\n",
       "  intake_date outcome_date intake_age outcome_age tenure_days     intake_sex  \\\n",
       "0  2019-05-02   2019-05-08      730.0         736         6.0  neutered male   \n",
       "1  2018-07-12   2018-07-18      365.0         371         6.0    intact male   \n",
       "3  2016-02-08   2016-02-13      123.0         128         5.0    intact male   \n",
       "6  2018-06-13   2020-10-05     1907.0        2752       845.0  spayed female   \n",
       "8  2020-03-01   2020-05-06      731.0         797        66.0  neutered male   \n",
       "\n",
       "          breed primary_color is_tabby mix_color  \n",
       "0     mix breed         brown        1         1  \n",
       "1     mix breed         white        0         1  \n",
       "3  single breed          buff        0         0  \n",
       "6     mix breed         brown        0         0  \n",
       "8  single breed         white        0         1  "
      ]
     },
     "execution_count": 54,
     "metadata": {},
     "output_type": "execute_result"
    }
   ],
   "source": [
    "df.head()"
   ]
  },
  {
   "cell_type": "code",
   "execution_count": 35,
   "id": "7d2735cb",
   "metadata": {},
   "outputs": [
    {
     "data": {
      "text/plain": [
       "0    113051\n",
       "1     31576\n",
       "Name: pure_breed, dtype: int64"
      ]
     },
     "execution_count": 35,
     "metadata": {},
     "output_type": "execute_result"
    }
   ],
   "source": [
    "df.pure_breed.value_counts()"
   ]
  },
  {
   "cell_type": "code",
   "execution_count": 3,
   "id": "932777d8",
   "metadata": {},
   "outputs": [],
   "source": [
    "df, model_df = w.get_prep_aa(df)"
   ]
  },
  {
   "cell_type": "code",
   "execution_count": 9,
   "id": "8e446476",
   "metadata": {},
   "outputs": [],
   "source": [
    "def split_data(df, target_variable):\n",
    "    '''\n",
    "    Takes in two arguments the dataframe name and the (\"target_variable\" - must be in string format) to stratify  and \n",
    "    return train, validate, test subset dataframes will output train, validate, and test in that order.\n",
    "    '''\n",
    "    train, test = train_test_split(df, #first split\n",
    "                                   test_size=.2, \n",
    "                                   random_state=123, \n",
    "                                   stratify= df[target_variable])\n",
    "    train, validate = train_test_split(train, #second split\n",
    "                                    test_size=.25, \n",
    "                                    random_state=123, \n",
    "                                    stratify=train[target_variable])\n",
    "    return train, validate, test"
   ]
  },
  {
   "cell_type": "code",
   "execution_count": 11,
   "id": "36dc0e64",
   "metadata": {},
   "outputs": [],
   "source": [
    "train, validate, test = split_data(df, \"outcome\")"
   ]
  },
  {
   "cell_type": "code",
   "execution_count": 13,
   "id": "655f61a0",
   "metadata": {},
   "outputs": [],
   "source": [
    "train.to_csv(\"train.csv\")"
   ]
  },
  {
   "cell_type": "markdown",
   "id": "3f4d4d65",
   "metadata": {},
   "source": [
    "* lowercase variables\n",
    "* intake age/ outcome age leave just days\n",
    "* name column made need to be dropped from too many nulls \n",
    "* animal id column change to id \n"
   ]
  },
  {
   "cell_type": "code",
   "execution_count": 15,
   "id": "4df29204",
   "metadata": {},
   "outputs": [
    {
     "data": {
      "text/plain": [
       "normal               78779\n",
       "injured               3818\n",
       "sick                  1971\n",
       "medical attention     1859\n",
       "aged                   239\n",
       "mental                 109\n",
       "Name: intake_condition, dtype: int64"
      ]
     },
     "execution_count": 15,
     "metadata": {},
     "output_type": "execute_result"
    }
   ],
   "source": [
    "train.intake_condition.value_counts()"
   ]
  },
  {
   "cell_type": "code",
   "execution_count": null,
   "id": "f16aabb2",
   "metadata": {},
   "outputs": [],
   "source": []
  },
  {
   "cell_type": "code",
   "execution_count": null,
   "id": "17105efe",
   "metadata": {},
   "outputs": [],
   "source": [
    "df.head()"
   ]
  },
  {
   "cell_type": "markdown",
   "id": "99607fbc-daac-40f8-a791-a058c5a0bb95",
   "metadata": {},
   "source": [
    "# Prepare"
   ]
  },
  {
   "cell_type": "code",
   "execution_count": null,
   "id": "b2e79c94",
   "metadata": {},
   "outputs": [],
   "source": [
    "#find numeric columns\n",
    "num_col = df.select_dtypes(include='number').columns\n",
    "num_col"
   ]
  },
  {
   "cell_type": "code",
   "execution_count": null,
   "id": "677d944b-9e09-4ed8-a45f-9e45236e7221",
   "metadata": {},
   "outputs": [],
   "source": [
    "#get string columns\n",
    "str_col = ['outcome', 'intake_type', 'intake_condition',\n",
    "       'species', 'found_location', 'intake_sex', 'breed', 'color']"
   ]
  },
  {
   "cell_type": "code",
   "execution_count": null,
   "id": "cd5bb25a",
   "metadata": {},
   "outputs": [],
   "source": [
    "df.intake_sex.value_counts()"
   ]
  },
  {
   "cell_type": "code",
   "execution_count": null,
   "id": "3df3df75-b59f-4d1a-9306-f6da7193b131",
   "metadata": {},
   "outputs": [],
   "source": [
    "df.intake_condition.value_counts()"
   ]
  },
  {
   "cell_type": "markdown",
   "id": "d4da8b35",
   "metadata": {},
   "source": [
    "rename intake_conditions: Normal, Injured, Immediate attn needed, mental, delayed/terminal"
   ]
  },
  {
   "cell_type": "code",
   "execution_count": null,
   "id": "7624629c",
   "metadata": {},
   "outputs": [],
   "source": [
    "df.head()"
   ]
  },
  {
   "cell_type": "code",
   "execution_count": null,
   "id": "76e56570",
   "metadata": {},
   "outputs": [],
   "source": [
    "# lowercase everything\n",
    "df = df.apply(lambda x: x.astype(str).str.lower())"
   ]
  },
  {
   "cell_type": "markdown",
   "id": "3e996c3a",
   "metadata": {},
   "source": [
    "# top ten colors and other for erybody else, or for simplify all colors"
   ]
  },
  {
   "cell_type": "markdown",
   "id": "f1967324-16f6-412c-aeb3-a4ff0453559a",
   "metadata": {},
   "source": [
    "# Question and Hypothesis Statement"
   ]
  },
  {
   "cell_type": "code",
   "execution_count": 20,
   "id": "f7f18f70",
   "metadata": {},
   "outputs": [],
   "source": [
    "# imports \n",
    "import pandas as pd\n",
    "import numpy as np\n",
    "import matplotlib.pyplot as plt\n",
    "import seaborn as sns\n",
    "from scipy import stats\n",
    "\n",
    "def cross_function(train, target_variable, feature_variable, alpha=0.05):\n",
    "    '''\n",
    "    This function will take the train, target_variable, feature_variable, null_hypothesis, alternative_hypothesis, alpha=0.05\n",
    "    and print the results and the p-value\n",
    "    '''\n",
    "    observed = pd.crosstab(train[target_variable], train[feature_variable])\n",
    "\n",
    "    chi2, p, degf, expected = stats.chi2_contingency(observed)\n",
    "\n",
    "    if p < alpha:\n",
    "        print(f\"Reject the null hypothesis\")\n",
    "        print(f\"Sufficient evidence to move forward with {feature_variable}\")\n",
    "    else:\n",
    "        print(\"Insufficient evidence to reject the null\")\n",
    "    print(f\" chi^2 = {chi2} p = {p}\")"
   ]
  },
  {
   "cell_type": "markdown",
   "id": "e8859803",
   "metadata": {},
   "source": [
    "# Does condition affect whether an animal will be adopted?\n",
    "- What's the relationship between condition and adoption?\n",
    "I will use chi-square to investigate whether condition and adoption are related\n",
    "\n",
    "I will use a confidence interval of 95%\n",
    "\n",
    "The alpha is .05\n",
    "\n",
    ": 'condition' and 'adoption' are independent.\n",
    "\n",
    ": 'condition' and 'adoption' are related."
   ]
  },
  {
   "cell_type": "code",
   "execution_count": 21,
   "id": "3610167a",
   "metadata": {},
   "outputs": [],
   "source": [
    "target_variable = \"outcome\"\n",
    "feature_variable = \"intake_condition\""
   ]
  },
  {
   "cell_type": "code",
   "execution_count": 22,
   "id": "8427a1b7-5739-45c6-b460-4b3cbe3f2ff6",
   "metadata": {},
   "outputs": [
    {
     "name": "stdout",
     "output_type": "stream",
     "text": [
      "Reject the null hypothesis\n",
      "Sufficient evidence to move forward with intake_condition\n",
      " chi^2 = 3306.2207512093287 p = 0.0\n"
     ]
    }
   ],
   "source": [
    "cross_function(train, target_variable, feature_variable)"
   ]
  },
  {
   "cell_type": "code",
   "execution_count": 24,
   "id": "d8cedbb4",
   "metadata": {},
   "outputs": [
    {
     "data": {
      "text/plain": [
       "0    86775\n",
       "Name: pure_breed, dtype: int64"
      ]
     },
     "execution_count": 24,
     "metadata": {},
     "output_type": "execute_result"
    }
   ],
   "source": [
    "train.pure_breed.value_counts()"
   ]
  },
  {
   "cell_type": "code",
   "execution_count": 55,
   "id": "90c315ab",
   "metadata": {},
   "outputs": [
    {
     "data": {
      "text/html": [
       "<div>\n",
       "<style scoped>\n",
       "    .dataframe tbody tr th:only-of-type {\n",
       "        vertical-align: middle;\n",
       "    }\n",
       "\n",
       "    .dataframe tbody tr th {\n",
       "        vertical-align: top;\n",
       "    }\n",
       "\n",
       "    .dataframe thead th {\n",
       "        text-align: right;\n",
       "    }\n",
       "</style>\n",
       "<table border=\"1\" class=\"dataframe\">\n",
       "  <thead>\n",
       "    <tr style=\"text-align: right;\">\n",
       "      <th></th>\n",
       "      <th>has_name</th>\n",
       "      <th>outcome</th>\n",
       "      <th>dob</th>\n",
       "      <th>species</th>\n",
       "      <th>intake_type</th>\n",
       "      <th>intake_condition</th>\n",
       "      <th>intake_date</th>\n",
       "      <th>outcome_date</th>\n",
       "      <th>intake_age</th>\n",
       "      <th>outcome_age</th>\n",
       "      <th>tenure_days</th>\n",
       "      <th>intake_sex</th>\n",
       "      <th>breed</th>\n",
       "      <th>primary_color</th>\n",
       "      <th>is_tabby</th>\n",
       "      <th>mix_color</th>\n",
       "    </tr>\n",
       "  </thead>\n",
       "  <tbody>\n",
       "    <tr>\n",
       "      <th>0</th>\n",
       "      <td>1</td>\n",
       "      <td>rto-adopt</td>\n",
       "      <td>2017-05-02</td>\n",
       "      <td>cat</td>\n",
       "      <td>owner surrender</td>\n",
       "      <td>normal</td>\n",
       "      <td>2019-05-02</td>\n",
       "      <td>2019-05-08</td>\n",
       "      <td>730.0</td>\n",
       "      <td>736</td>\n",
       "      <td>6.0</td>\n",
       "      <td>neutered male</td>\n",
       "      <td>mix breed</td>\n",
       "      <td>brown</td>\n",
       "      <td>1</td>\n",
       "      <td>1</td>\n",
       "    </tr>\n",
       "    <tr>\n",
       "      <th>1</th>\n",
       "      <td>1</td>\n",
       "      <td>adoption</td>\n",
       "      <td>2017-07-12</td>\n",
       "      <td>dog</td>\n",
       "      <td>stray</td>\n",
       "      <td>normal</td>\n",
       "      <td>2018-07-12</td>\n",
       "      <td>2018-07-18</td>\n",
       "      <td>365.0</td>\n",
       "      <td>371</td>\n",
       "      <td>6.0</td>\n",
       "      <td>intact male</td>\n",
       "      <td>mix breed</td>\n",
       "      <td>white</td>\n",
       "      <td>0</td>\n",
       "      <td>1</td>\n",
       "    </tr>\n",
       "    <tr>\n",
       "      <th>3</th>\n",
       "      <td>1</td>\n",
       "      <td>adoption</td>\n",
       "      <td>2015-10-08</td>\n",
       "      <td>dog</td>\n",
       "      <td>stray</td>\n",
       "      <td>normal</td>\n",
       "      <td>2016-02-08</td>\n",
       "      <td>2016-02-13</td>\n",
       "      <td>123.0</td>\n",
       "      <td>128</td>\n",
       "      <td>5.0</td>\n",
       "      <td>intact male</td>\n",
       "      <td>single breed</td>\n",
       "      <td>buff</td>\n",
       "      <td>0</td>\n",
       "      <td>0</td>\n",
       "    </tr>\n",
       "    <tr>\n",
       "      <th>6</th>\n",
       "      <td>1</td>\n",
       "      <td>adoption</td>\n",
       "      <td>2013-03-24</td>\n",
       "      <td>dog</td>\n",
       "      <td>owner surrender</td>\n",
       "      <td>normal</td>\n",
       "      <td>2018-06-13</td>\n",
       "      <td>2020-10-05</td>\n",
       "      <td>1907.0</td>\n",
       "      <td>2752</td>\n",
       "      <td>845.0</td>\n",
       "      <td>spayed female</td>\n",
       "      <td>mix breed</td>\n",
       "      <td>brown</td>\n",
       "      <td>0</td>\n",
       "      <td>0</td>\n",
       "    </tr>\n",
       "    <tr>\n",
       "      <th>8</th>\n",
       "      <td>1</td>\n",
       "      <td>adoption</td>\n",
       "      <td>2018-03-01</td>\n",
       "      <td>dog</td>\n",
       "      <td>owner surrender</td>\n",
       "      <td>normal</td>\n",
       "      <td>2020-03-01</td>\n",
       "      <td>2020-05-06</td>\n",
       "      <td>731.0</td>\n",
       "      <td>797</td>\n",
       "      <td>66.0</td>\n",
       "      <td>neutered male</td>\n",
       "      <td>single breed</td>\n",
       "      <td>white</td>\n",
       "      <td>0</td>\n",
       "      <td>1</td>\n",
       "    </tr>\n",
       "  </tbody>\n",
       "</table>\n",
       "</div>"
      ],
      "text/plain": [
       "   has_name    outcome         dob species      intake_type intake_condition  \\\n",
       "0         1  rto-adopt  2017-05-02     cat  owner surrender           normal   \n",
       "1         1   adoption  2017-07-12     dog            stray           normal   \n",
       "3         1   adoption  2015-10-08     dog            stray           normal   \n",
       "6         1   adoption  2013-03-24     dog  owner surrender           normal   \n",
       "8         1   adoption  2018-03-01     dog  owner surrender           normal   \n",
       "\n",
       "  intake_date outcome_date intake_age outcome_age tenure_days     intake_sex  \\\n",
       "0  2019-05-02   2019-05-08      730.0         736         6.0  neutered male   \n",
       "1  2018-07-12   2018-07-18      365.0         371         6.0    intact male   \n",
       "3  2016-02-08   2016-02-13      123.0         128         5.0    intact male   \n",
       "6  2018-06-13   2020-10-05     1907.0        2752       845.0  spayed female   \n",
       "8  2020-03-01   2020-05-06      731.0         797        66.0  neutered male   \n",
       "\n",
       "          breed primary_color is_tabby mix_color  \n",
       "0     mix breed         brown        1         1  \n",
       "1     mix breed         white        0         1  \n",
       "3  single breed          buff        0         0  \n",
       "6     mix breed         brown        0         0  \n",
       "8  single breed         white        0         1  "
      ]
     },
     "execution_count": 55,
     "metadata": {},
     "output_type": "execute_result"
    }
   ],
   "source": [
    "df.head()"
   ]
  },
  {
   "cell_type": "markdown",
   "id": "9fdf98ed-dcd0-475f-902d-c988eb6a730c",
   "metadata": {},
   "source": [
    "# Conclusion"
   ]
  },
  {
   "cell_type": "code",
   "execution_count": null,
   "id": "893a4f15-e3d6-48ae-85e2-01645b591f7e",
   "metadata": {},
   "outputs": [],
   "source": []
  },
  {
   "cell_type": "code",
   "execution_count": null,
   "id": "3024756c-d805-457e-bae3-e8dcb8d92ac2",
   "metadata": {},
   "outputs": [],
   "source": []
  },
  {
   "cell_type": "code",
   "execution_count": null,
   "id": "0992070f-9529-4a3c-a8f2-1cedc5facd85",
   "metadata": {},
   "outputs": [],
   "source": []
  },
  {
   "cell_type": "code",
   "execution_count": null,
   "id": "5bb800df-6ebf-4423-adfd-03c3a7b9ee78",
   "metadata": {},
   "outputs": [],
   "source": []
  },
  {
   "cell_type": "markdown",
   "id": "f85269e6-b7e5-443c-a004-92d0ac0d386c",
   "metadata": {},
   "source": [
    "# Question and Hypothesis Statement"
   ]
  },
  {
   "cell_type": "code",
   "execution_count": null,
   "id": "36a62b51-266b-4277-bda3-d3b3a291b53a",
   "metadata": {},
   "outputs": [],
   "source": []
  },
  {
   "cell_type": "code",
   "execution_count": null,
   "id": "2f3c45bf-e797-4362-9b46-51dd478e3b08",
   "metadata": {},
   "outputs": [],
   "source": []
  },
  {
   "cell_type": "code",
   "execution_count": null,
   "id": "38003905-7924-48a2-b19f-3e89aba68154",
   "metadata": {},
   "outputs": [],
   "source": []
  },
  {
   "cell_type": "code",
   "execution_count": null,
   "id": "785ff02a-00d8-4c1c-b655-48d879928dac",
   "metadata": {},
   "outputs": [],
   "source": []
  },
  {
   "cell_type": "markdown",
   "id": "faff10f7-71c6-49ee-8c95-8b180a9e6e62",
   "metadata": {},
   "source": [
    "# Conclusion"
   ]
  },
  {
   "cell_type": "code",
   "execution_count": null,
   "id": "14ad2e8c-de85-4b59-8d1c-9fc1aa97a349",
   "metadata": {},
   "outputs": [],
   "source": []
  },
  {
   "cell_type": "code",
   "execution_count": null,
   "id": "098adb44-18ed-47c8-ae5f-f765f4e3ce74",
   "metadata": {},
   "outputs": [],
   "source": []
  },
  {
   "cell_type": "code",
   "execution_count": null,
   "id": "f698958d-a6dc-4f2e-91ce-b89dea00842d",
   "metadata": {},
   "outputs": [],
   "source": []
  },
  {
   "cell_type": "markdown",
   "id": "a9d602fb-6d06-407c-bf72-afc1829bde73",
   "metadata": {},
   "source": [
    "# Question and Hypothesis Statement"
   ]
  },
  {
   "cell_type": "code",
   "execution_count": null,
   "id": "987c80f3-a071-4937-8f9b-0f21273761c2",
   "metadata": {},
   "outputs": [],
   "source": []
  },
  {
   "cell_type": "code",
   "execution_count": null,
   "id": "13777fc7-b5be-4ff4-8c95-2fc5e9c85958",
   "metadata": {},
   "outputs": [],
   "source": []
  },
  {
   "cell_type": "code",
   "execution_count": null,
   "id": "e0b444ea-d88d-4b9a-9663-3cd2ac585757",
   "metadata": {},
   "outputs": [],
   "source": []
  },
  {
   "cell_type": "markdown",
   "id": "0a9dd157-18a4-4e00-8450-9be9c9edcb7a",
   "metadata": {},
   "source": [
    "# Conclusion"
   ]
  }
 ],
 "metadata": {
  "kernelspec": {
   "display_name": "Python 3 (ipykernel)",
   "language": "python",
   "name": "python3"
  },
  "language_info": {
   "codemirror_mode": {
    "name": "ipython",
    "version": 3
   },
   "file_extension": ".py",
   "mimetype": "text/x-python",
   "name": "python",
   "nbconvert_exporter": "python",
   "pygments_lexer": "ipython3",
   "version": "3.9.13"
  }
 },
 "nbformat": 4,
 "nbformat_minor": 5
}
