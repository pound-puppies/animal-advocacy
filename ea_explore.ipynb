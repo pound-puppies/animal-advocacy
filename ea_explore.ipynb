{
 "cells": [
  {
   "cell_type": "code",
   "execution_count": 1,
   "id": "7b9d0e6c-493f-4d0a-a1d5-3e9003dfdcfb",
   "metadata": {},
   "outputs": [],
   "source": [
    "import warnings\n",
    "warnings.filterwarnings(\"ignore\")\n",
    "import ea_wrangle as w\n",
    "\n",
    "import pandas as pd\n",
    "import numpy as np\n",
    "\n",
    "#splits\n",
    "from sklearn.model_selection import train_test_split\n",
    "\n",
    "#visualization\n",
    "import matplotlib.pyplot as plt\n",
    "from matplotlib import cm\n",
    "import seaborn as sns\n",
    "\n",
    "#scaling\n",
    "from sklearn.preprocessing import MinMaxScaler, StandardScaler, RobustScaler\n",
    "from sklearn.metrics import precision_score, accuracy_score, recall_score, classification_report\n",
    "\n",
    "#model\n",
    "from sklearn.ensemble import RandomForestClassifier\n",
    "from sklearn.tree import DecisionTreeClassifier, plot_tree\n",
    "from sklearn.linear_model import LogisticRegression\n"
   ]
  },
  {
   "cell_type": "markdown",
   "id": "4b134300-0dab-42ab-8e31-b5c646ae8d3d",
   "metadata": {},
   "source": [
    "# Acquire"
   ]
  },
  {
   "cell_type": "code",
   "execution_count": 2,
   "id": "afb3147d-e98e-4d0f-83c7-14d5c2a56a4c",
   "metadata": {},
   "outputs": [],
   "source": [
    "merged_data = w.left_join_csv('austin_animal_outcomes.csv', 'austin_animal_intakes.csv', 'merged_data.csv')"
   ]
  },
  {
   "cell_type": "code",
   "execution_count": 3,
   "id": "4aa0092c-cd1c-4cd6-80a6-1925bbb62d16",
   "metadata": {},
   "outputs": [
    {
     "data": {
      "text/html": [
       "<div>\n",
       "<style scoped>\n",
       "    .dataframe tbody tr th:only-of-type {\n",
       "        vertical-align: middle;\n",
       "    }\n",
       "\n",
       "    .dataframe tbody tr th {\n",
       "        vertical-align: top;\n",
       "    }\n",
       "\n",
       "    .dataframe thead th {\n",
       "        text-align: right;\n",
       "    }\n",
       "</style>\n",
       "<table border=\"1\" class=\"dataframe\">\n",
       "  <thead>\n",
       "    <tr style=\"text-align: right;\">\n",
       "      <th></th>\n",
       "      <th>Animal ID</th>\n",
       "      <th>Name_x</th>\n",
       "      <th>DateTime_x</th>\n",
       "      <th>MonthYear_x</th>\n",
       "      <th>Date of Birth</th>\n",
       "      <th>Outcome Type</th>\n",
       "      <th>Outcome Subtype</th>\n",
       "      <th>Animal Type_x</th>\n",
       "      <th>Sex upon Outcome</th>\n",
       "      <th>Age upon Outcome</th>\n",
       "      <th>...</th>\n",
       "      <th>DateTime_y</th>\n",
       "      <th>MonthYear_y</th>\n",
       "      <th>Found Location</th>\n",
       "      <th>Intake Type</th>\n",
       "      <th>Intake Condition</th>\n",
       "      <th>Animal Type_y</th>\n",
       "      <th>Sex upon Intake</th>\n",
       "      <th>Age upon Intake</th>\n",
       "      <th>Breed_y</th>\n",
       "      <th>Color_y</th>\n",
       "    </tr>\n",
       "  </thead>\n",
       "  <tbody>\n",
       "    <tr>\n",
       "      <th>0</th>\n",
       "      <td>A794011</td>\n",
       "      <td>Chunk</td>\n",
       "      <td>05/08/2019 06:20:00 PM</td>\n",
       "      <td>May 2019</td>\n",
       "      <td>05/02/2017</td>\n",
       "      <td>Rto-Adopt</td>\n",
       "      <td>NaN</td>\n",
       "      <td>Cat</td>\n",
       "      <td>Neutered Male</td>\n",
       "      <td>2 years</td>\n",
       "      <td>...</td>\n",
       "      <td>05/02/2019 04:51:00 PM</td>\n",
       "      <td>May 2019</td>\n",
       "      <td>Austin (TX)</td>\n",
       "      <td>Owner Surrender</td>\n",
       "      <td>Normal</td>\n",
       "      <td>Cat</td>\n",
       "      <td>Neutered Male</td>\n",
       "      <td>2 years</td>\n",
       "      <td>Domestic Shorthair Mix</td>\n",
       "      <td>Brown Tabby/White</td>\n",
       "    </tr>\n",
       "    <tr>\n",
       "      <th>1</th>\n",
       "      <td>A776359</td>\n",
       "      <td>Gizmo</td>\n",
       "      <td>07/18/2018 04:02:00 PM</td>\n",
       "      <td>Jul 2018</td>\n",
       "      <td>07/12/2017</td>\n",
       "      <td>Adoption</td>\n",
       "      <td>NaN</td>\n",
       "      <td>Dog</td>\n",
       "      <td>Neutered Male</td>\n",
       "      <td>1 year</td>\n",
       "      <td>...</td>\n",
       "      <td>07/12/2018 12:46:00 PM</td>\n",
       "      <td>July 2018</td>\n",
       "      <td>7201 Levander Loop in Austin (TX)</td>\n",
       "      <td>Stray</td>\n",
       "      <td>Normal</td>\n",
       "      <td>Dog</td>\n",
       "      <td>Intact Male</td>\n",
       "      <td>1 year</td>\n",
       "      <td>Chihuahua Shorthair Mix</td>\n",
       "      <td>White/Brown</td>\n",
       "    </tr>\n",
       "    <tr>\n",
       "      <th>2</th>\n",
       "      <td>A821648</td>\n",
       "      <td>NaN</td>\n",
       "      <td>08/16/2020 11:38:00 AM</td>\n",
       "      <td>Aug 2020</td>\n",
       "      <td>08/16/2019</td>\n",
       "      <td>Euthanasia</td>\n",
       "      <td>NaN</td>\n",
       "      <td>Other</td>\n",
       "      <td>Unknown</td>\n",
       "      <td>1 year</td>\n",
       "      <td>...</td>\n",
       "      <td>08/16/2020 10:10:00 AM</td>\n",
       "      <td>August 2020</td>\n",
       "      <td>Armadillo Rd And Clubway Ln in Austin (TX)</td>\n",
       "      <td>Wildlife</td>\n",
       "      <td>Sick</td>\n",
       "      <td>Other</td>\n",
       "      <td>Unknown</td>\n",
       "      <td>1 year</td>\n",
       "      <td>Raccoon</td>\n",
       "      <td>Gray</td>\n",
       "    </tr>\n",
       "    <tr>\n",
       "      <th>3</th>\n",
       "      <td>A720371</td>\n",
       "      <td>Moose</td>\n",
       "      <td>02/13/2016 05:59:00 PM</td>\n",
       "      <td>Feb 2016</td>\n",
       "      <td>10/08/2015</td>\n",
       "      <td>Adoption</td>\n",
       "      <td>NaN</td>\n",
       "      <td>Dog</td>\n",
       "      <td>Neutered Male</td>\n",
       "      <td>4 months</td>\n",
       "      <td>...</td>\n",
       "      <td>02/08/2016 11:05:00 AM</td>\n",
       "      <td>February 2016</td>\n",
       "      <td>Dove Dr And E Stassney in Austin (TX)</td>\n",
       "      <td>Stray</td>\n",
       "      <td>Normal</td>\n",
       "      <td>Dog</td>\n",
       "      <td>Intact Male</td>\n",
       "      <td>4 months</td>\n",
       "      <td>Anatol Shepherd/Labrador Retriever</td>\n",
       "      <td>Buff</td>\n",
       "    </tr>\n",
       "    <tr>\n",
       "      <th>4</th>\n",
       "      <td>A720371</td>\n",
       "      <td>Moose</td>\n",
       "      <td>02/13/2016 05:59:00 PM</td>\n",
       "      <td>Feb 2016</td>\n",
       "      <td>10/08/2015</td>\n",
       "      <td>Adoption</td>\n",
       "      <td>NaN</td>\n",
       "      <td>Dog</td>\n",
       "      <td>Neutered Male</td>\n",
       "      <td>4 months</td>\n",
       "      <td>...</td>\n",
       "      <td>02/15/2016 10:37:00 AM</td>\n",
       "      <td>February 2016</td>\n",
       "      <td>Austin (TX)</td>\n",
       "      <td>Owner Surrender</td>\n",
       "      <td>Normal</td>\n",
       "      <td>Dog</td>\n",
       "      <td>Neutered Male</td>\n",
       "      <td>4 months</td>\n",
       "      <td>Anatol Shepherd/Labrador Retriever</td>\n",
       "      <td>Buff</td>\n",
       "    </tr>\n",
       "  </tbody>\n",
       "</table>\n",
       "<p>5 rows × 23 columns</p>\n",
       "</div>"
      ],
      "text/plain": [
       "  Animal ID Name_x              DateTime_x MonthYear_x Date of Birth  \\\n",
       "0   A794011  Chunk  05/08/2019 06:20:00 PM    May 2019    05/02/2017   \n",
       "1   A776359  Gizmo  07/18/2018 04:02:00 PM    Jul 2018    07/12/2017   \n",
       "2   A821648    NaN  08/16/2020 11:38:00 AM    Aug 2020    08/16/2019   \n",
       "3   A720371  Moose  02/13/2016 05:59:00 PM    Feb 2016    10/08/2015   \n",
       "4   A720371  Moose  02/13/2016 05:59:00 PM    Feb 2016    10/08/2015   \n",
       "\n",
       "  Outcome Type Outcome Subtype Animal Type_x Sex upon Outcome  \\\n",
       "0    Rto-Adopt             NaN           Cat    Neutered Male   \n",
       "1     Adoption             NaN           Dog    Neutered Male   \n",
       "2   Euthanasia             NaN         Other          Unknown   \n",
       "3     Adoption             NaN           Dog    Neutered Male   \n",
       "4     Adoption             NaN           Dog    Neutered Male   \n",
       "\n",
       "  Age upon Outcome  ...              DateTime_y    MonthYear_y  \\\n",
       "0          2 years  ...  05/02/2019 04:51:00 PM       May 2019   \n",
       "1           1 year  ...  07/12/2018 12:46:00 PM      July 2018   \n",
       "2           1 year  ...  08/16/2020 10:10:00 AM    August 2020   \n",
       "3         4 months  ...  02/08/2016 11:05:00 AM  February 2016   \n",
       "4         4 months  ...  02/15/2016 10:37:00 AM  February 2016   \n",
       "\n",
       "                               Found Location      Intake Type  \\\n",
       "0                                 Austin (TX)  Owner Surrender   \n",
       "1           7201 Levander Loop in Austin (TX)            Stray   \n",
       "2  Armadillo Rd And Clubway Ln in Austin (TX)         Wildlife   \n",
       "3       Dove Dr And E Stassney in Austin (TX)            Stray   \n",
       "4                                 Austin (TX)  Owner Surrender   \n",
       "\n",
       "  Intake Condition Animal Type_y Sex upon Intake Age upon Intake  \\\n",
       "0           Normal           Cat   Neutered Male         2 years   \n",
       "1           Normal           Dog     Intact Male          1 year   \n",
       "2             Sick         Other         Unknown          1 year   \n",
       "3           Normal           Dog     Intact Male        4 months   \n",
       "4           Normal           Dog   Neutered Male        4 months   \n",
       "\n",
       "                              Breed_y            Color_y  \n",
       "0              Domestic Shorthair Mix  Brown Tabby/White  \n",
       "1             Chihuahua Shorthair Mix        White/Brown  \n",
       "2                             Raccoon               Gray  \n",
       "3  Anatol Shepherd/Labrador Retriever               Buff  \n",
       "4  Anatol Shepherd/Labrador Retriever               Buff  \n",
       "\n",
       "[5 rows x 23 columns]"
      ]
     },
     "execution_count": 3,
     "metadata": {},
     "output_type": "execute_result"
    }
   ],
   "source": [
    "df = merged_data\n",
    "df.head()"
   ]
  },
  {
   "cell_type": "code",
   "execution_count": 4,
   "id": "9946c86e-379c-4837-b2fa-335843a6098a",
   "metadata": {},
   "outputs": [],
   "source": [
    "df = w.get_prep_aa(df)"
   ]
  },
  {
   "cell_type": "code",
   "execution_count": null,
   "id": "147bd791-e711-4c6e-bd6a-9f6012762567",
   "metadata": {},
   "outputs": [],
   "source": [
    "df.head()"
   ]
  },
  {
   "cell_type": "markdown",
   "id": "99607fbc-daac-40f8-a791-a058c5a0bb95",
   "metadata": {},
   "source": [
    "# Prepare"
   ]
  },
  {
   "cell_type": "markdown",
   "id": "04b67881-753e-43fe-9800-12609556a3de",
   "metadata": {},
   "source": [
    "df.columns = df.columns.str.lower()"
   ]
  },
  {
   "cell_type": "markdown",
   "id": "89cef8c2-2771-4073-81bb-ce758d3d581f",
   "metadata": {},
   "source": [
    "df.shape"
   ]
  },
  {
   "cell_type": "markdown",
   "id": "e564d1b8-e940-4a18-a785-564722658c17",
   "metadata": {},
   "source": [
    "columns_to_view = ['name_x', 'name_y']\n",
    "df_view = df[columns_to_view]"
   ]
  },
  {
   "cell_type": "markdown",
   "id": "b9428168-f37a-430d-9546-2b7396366c40",
   "metadata": {
    "jupyter": {
     "outputs_hidden": true
    },
    "tags": []
   },
   "source": [
    "df_view.head(50)"
   ]
  },
  {
   "cell_type": "markdown",
   "id": "0fa62eef-01c7-46dd-9509-6a5931278849",
   "metadata": {
    "tags": []
   },
   "source": [
    "new_columns = {'datetime_x': 'outcome_datetime',\n",
    "               'datetime_y': 'intake_datetime',\n",
    "              'monthyear_x': 'outcome_monthyear',\n",
    "              'monthyear_y': 'intake_monthyear',\n",
    "              'name_x': 'name',\n",
    "              'breed_y': 'breed',\n",
    "              'animal type_y': 'species',\n",
    "               'outcome type': 'outcome',\n",
    "               'color_y': 'color',\n",
    "               'sex upon outcome': 'outcome_sex',\n",
    "               'sex upon intake': 'intake_sex',\n",
    "               'intake type': 'intake_type',\n",
    "               'age upon intake': 'intake_age',\n",
    "               'age upon outcome': 'outcome_age',\n",
    "               'date of birth': 'dob',\n",
    "               'intake condition': 'intake_condition',\n",
    "               'found location': 'found_location'\n",
    "              }"
   ]
  },
  {
   "cell_type": "markdown",
   "id": "959eba78-43c4-4bb8-b29f-c256a7b998b4",
   "metadata": {},
   "source": [
    "df = df.rename(columns=new_columns)"
   ]
  },
  {
   "cell_type": "markdown",
   "id": "42cea035-f27f-4a91-a094-54095609e1f2",
   "metadata": {
    "tags": []
   },
   "source": [
    "df.columns"
   ]
  },
  {
   "cell_type": "markdown",
   "id": "9e4cbc3e-ba79-4d03-a60f-a50c58464507",
   "metadata": {
    "tags": []
   },
   "source": [
    "df.head()"
   ]
  },
  {
   "cell_type": "markdown",
   "id": "9b3787ee-af26-464a-bd10-03d098b975e8",
   "metadata": {},
   "source": [
    "#dropped because they have duplicate information, outcome subtype had over 119k null rows\n",
    "columns_to_drop = ['outcome subtype', 'name_y', 'breed_x', 'animal type_x', 'color_x']\n",
    "df = df.drop(columns=columns_to_drop)\n"
   ]
  },
  {
   "cell_type": "markdown",
   "id": "5578ae3d-f813-4b06-8f98-cc0ea96fb86b",
   "metadata": {},
   "source": [
    "df.columns"
   ]
  },
  {
   "cell_type": "markdown",
   "id": "6c5c9af9-a5b9-494e-8885-50621ca0cd65",
   "metadata": {},
   "source": [
    "df.dtypes"
   ]
  },
  {
   "cell_type": "markdown",
   "id": "06b7778d-68be-489d-8928-a50c99a551f8",
   "metadata": {
    "tags": []
   },
   "source": [
    "df['outcome_datetime'] = pd.to_datetime(df['outcome_datetime'])\n",
    "df['intake_datetime'] = pd.to_datetime(df['intake_datetime'])"
   ]
  },
  {
   "cell_type": "markdown",
   "id": "2d3469a3-5673-4d60-a16f-1301a03d84b0",
   "metadata": {
    "tags": []
   },
   "source": [
    "df.dtypes"
   ]
  },
  {
   "cell_type": "markdown",
   "id": "3619f207-eaf9-4f27-a2aa-1fbee93a5843",
   "metadata": {},
   "source": [
    "df.shape"
   ]
  },
  {
   "cell_type": "markdown",
   "id": "f42839c3-7635-4839-b9b1-27a35817e2d9",
   "metadata": {},
   "source": [
    "df = df[df['species'].isin(['Cat', 'Dog'])]"
   ]
  },
  {
   "cell_type": "markdown",
   "id": "b813e0f3-3b84-4812-a8d9-16f136575f57",
   "metadata": {},
   "source": [
    "df.shape"
   ]
  },
  {
   "cell_type": "markdown",
   "id": "f1967324-16f6-412c-aeb3-a4ff0453559a",
   "metadata": {},
   "source": [
    "# Question and Hypothesis Statement"
   ]
  },
  {
   "cell_type": "code",
   "execution_count": null,
   "id": "1b164e40-106e-4cce-a912-e817972eee46",
   "metadata": {},
   "outputs": [],
   "source": []
  },
  {
   "cell_type": "code",
   "execution_count": null,
   "id": "4b8cb320-d5e3-4b7e-903a-7f71d11cb2b3",
   "metadata": {},
   "outputs": [],
   "source": []
  },
  {
   "cell_type": "code",
   "execution_count": null,
   "id": "a3069868-3397-4fd4-8848-7a1cf75e7e8f",
   "metadata": {},
   "outputs": [],
   "source": []
  },
  {
   "cell_type": "code",
   "execution_count": null,
   "id": "8427a1b7-5739-45c6-b460-4b3cbe3f2ff6",
   "metadata": {},
   "outputs": [],
   "source": []
  },
  {
   "cell_type": "markdown",
   "id": "9fdf98ed-dcd0-475f-902d-c988eb6a730c",
   "metadata": {},
   "source": [
    "# Conclusion"
   ]
  },
  {
   "cell_type": "code",
   "execution_count": null,
   "id": "893a4f15-e3d6-48ae-85e2-01645b591f7e",
   "metadata": {},
   "outputs": [],
   "source": []
  },
  {
   "cell_type": "code",
   "execution_count": null,
   "id": "3024756c-d805-457e-bae3-e8dcb8d92ac2",
   "metadata": {},
   "outputs": [],
   "source": []
  },
  {
   "cell_type": "code",
   "execution_count": null,
   "id": "0992070f-9529-4a3c-a8f2-1cedc5facd85",
   "metadata": {},
   "outputs": [],
   "source": []
  },
  {
   "cell_type": "code",
   "execution_count": null,
   "id": "5bb800df-6ebf-4423-adfd-03c3a7b9ee78",
   "metadata": {},
   "outputs": [],
   "source": []
  },
  {
   "cell_type": "markdown",
   "id": "f85269e6-b7e5-443c-a004-92d0ac0d386c",
   "metadata": {},
   "source": [
    "# Question and Hypothesis Statement"
   ]
  },
  {
   "cell_type": "code",
   "execution_count": null,
   "id": "36a62b51-266b-4277-bda3-d3b3a291b53a",
   "metadata": {},
   "outputs": [],
   "source": []
  },
  {
   "cell_type": "code",
   "execution_count": null,
   "id": "2f3c45bf-e797-4362-9b46-51dd478e3b08",
   "metadata": {},
   "outputs": [],
   "source": []
  },
  {
   "cell_type": "code",
   "execution_count": null,
   "id": "38003905-7924-48a2-b19f-3e89aba68154",
   "metadata": {},
   "outputs": [],
   "source": []
  },
  {
   "cell_type": "code",
   "execution_count": null,
   "id": "785ff02a-00d8-4c1c-b655-48d879928dac",
   "metadata": {},
   "outputs": [],
   "source": []
  },
  {
   "cell_type": "markdown",
   "id": "faff10f7-71c6-49ee-8c95-8b180a9e6e62",
   "metadata": {},
   "source": [
    "# Conclusion"
   ]
  },
  {
   "cell_type": "code",
   "execution_count": null,
   "id": "14ad2e8c-de85-4b59-8d1c-9fc1aa97a349",
   "metadata": {},
   "outputs": [],
   "source": []
  },
  {
   "cell_type": "code",
   "execution_count": null,
   "id": "098adb44-18ed-47c8-ae5f-f765f4e3ce74",
   "metadata": {},
   "outputs": [],
   "source": []
  },
  {
   "cell_type": "code",
   "execution_count": null,
   "id": "f698958d-a6dc-4f2e-91ce-b89dea00842d",
   "metadata": {},
   "outputs": [],
   "source": []
  },
  {
   "cell_type": "markdown",
   "id": "a9d602fb-6d06-407c-bf72-afc1829bde73",
   "metadata": {},
   "source": [
    "# Question and Hypothesis Statement"
   ]
  },
  {
   "cell_type": "code",
   "execution_count": null,
   "id": "987c80f3-a071-4937-8f9b-0f21273761c2",
   "metadata": {},
   "outputs": [],
   "source": []
  },
  {
   "cell_type": "code",
   "execution_count": null,
   "id": "13777fc7-b5be-4ff4-8c95-2fc5e9c85958",
   "metadata": {},
   "outputs": [],
   "source": []
  },
  {
   "cell_type": "code",
   "execution_count": null,
   "id": "e0b444ea-d88d-4b9a-9663-3cd2ac585757",
   "metadata": {},
   "outputs": [],
   "source": []
  },
  {
   "cell_type": "markdown",
   "id": "0a9dd157-18a4-4e00-8450-9be9c9edcb7a",
   "metadata": {},
   "source": [
    "# Conclusion"
   ]
  }
 ],
 "metadata": {
  "kernelspec": {
   "display_name": "Python 3 (ipykernel)",
   "language": "python",
   "name": "python3"
  },
  "language_info": {
   "codemirror_mode": {
    "name": "ipython",
    "version": 3
   },
   "file_extension": ".py",
   "mimetype": "text/x-python",
   "name": "python",
   "nbconvert_exporter": "python",
   "pygments_lexer": "ipython3",
   "version": "3.9.13"
  }
 },
 "nbformat": 4,
 "nbformat_minor": 5
}
