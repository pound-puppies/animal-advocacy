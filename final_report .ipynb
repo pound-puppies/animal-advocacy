{
 "cells": [
  {
   "cell_type": "markdown",
   "id": "7c9298ea-d17c-4b5a-8bc6-6cf1727ade7d",
   "metadata": {},
   "source": [
    "# Final Report\n",
    "## Anomoly Detection Project\n",
    "* Brian Oneill\n",
    "* Scott Barnett\n",
    "* Keila Camarillo\n",
    "* Esayas Asefa\n",
    "\n",
    "* 11 June 2023"
   ]
  },
  {
   "cell_type": "markdown",
   "id": "3bc23e11-8e2e-4a48-a6bb-78996e908d56",
   "metadata": {},
   "source": [
    "## Goals\n",
    "* Find the answers to the provided questions\n",
    "* Deliver a final report to the data science team \n",
    "* Deliver a slide of findings to the Data Science team\n",
    "* Deliver a professional email to the stakeholder reviewing our findings"
   ]
  },
  {
   "cell_type": "markdown",
   "id": "771ff34b-4b39-46ec-9e72-893a4ed8b369",
   "metadata": {
    "tags": []
   },
   "source": [
    "## Imports"
   ]
  },
  {
   "cell_type": "code",
   "execution_count": 1,
   "id": "938f8785-6d6f-4df7-b121-6578d6cd045e",
   "metadata": {},
   "outputs": [],
   "source": [
    "import warnings\n",
    "warnings.filterwarnings(\"ignore\")\n",
    "import pandas as pd\n",
    "import seaborn as sns\n",
    "import env\n",
    "import os\n",
    "import wrangle\n",
    "import functions"
   ]
  },
  {
   "cell_type": "markdown",
   "id": "d2a7890d-065c-48df-9653-7e35f206e9a3",
   "metadata": {},
   "source": [
    "## Acquire\n",
    "\n",
    "* Data acquired from the Codeup Database and the provided anonymized-curriculum-access.txt document \n",
    "    * Files were merged on id and cohort_id respectively\n",
    "* It contained **900,223 rows and 8 columns**\n",
    "* The data was aquired on **14 JUNE 2023**\n",
    "* Each row represents a page access of the Codeup lesson server\n",
    "* Each column represents a feature of the access event\n"
   ]
  },
  {
   "cell_type": "markdown",
   "id": "c910c06f-78c6-43eb-8448-086c4d8e05da",
   "metadata": {
    "tags": []
   },
   "source": [
    "## Prepare\n",
    "\n",
    "* The only column with null values from the .txt file was cohort_id which we filled with 0\n",
    "* After adding the sql pull to get the cohort's name, start_date, end-date, and program_id; nulls were created in those columns when cohort_id was 0. We filled those nulls with with \"Unknown cohort\", 2000-01-01, 2000-01-01, and 0 respectively.\n",
    "* The date column was changed to a datetime, set as the index, and the index was sorted (earliest to latest)\n",
    "* No columns were removed or renamed\n",
    "* No additional features were added\n",
    "* No encoding, scaling was accomplished\n",
    "* Data was not split into train/validate/test for this analysis\n",
    "* Outliers were not adressed as they were part of the target\n"
   ]
  },
  {
   "cell_type": "markdown",
   "id": "f0e59c79-77be-4df4-8068-f920443a89f1",
   "metadata": {},
   "source": [
    "### Data Dictionary"
   ]
  },
  {
   "cell_type": "markdown",
   "id": "32facd0e-082e-4cff-a186-c2534977de78",
   "metadata": {},
   "source": [
    "| Feature | Datatype | Key | Definition |\n",
    "|---|---|---|---|\n",
    "| date | datetime64 | YYYY-MM-DD | Date of activity; Index |\n",
    "| endpoint | object | unique | In the url, everything after \"...codeup.com/\" |\n",
    "| user_id | int64 | unique # | Unique ID # assigned to user |\n",
    "| cohort_id | int64 | unique # | Unique ID # assigned to cohort |\n",
    "| source_ip | object | IP ##.###.##.## | Unique IP address assigned to user device |\n",
    "| name | object | unique | Name assigned to cohort |\n",
    "| start_date | datetime64 | YYYY-MM-DD | Date cohort started |\n",
    "| end_date | datetime64 | YYYY-MM-DD | Date cohort graduated |\n",
    "| program_id | int64 | 1,2,3,4 | Program identifier: 1,2,4 - Webdev; 3 - Data Science |"
   ]
  },
  {
   "cell_type": "markdown",
   "id": "7b4d21e0-248c-459f-848c-ba82b6dc612b",
   "metadata": {},
   "source": [
    "### Bring in Data for Exploration"
   ]
  },
  {
   "cell_type": "code",
   "execution_count": 2,
   "id": "82b55ba1-fa0b-4898-8161-35c3b922e48e",
   "metadata": {},
   "outputs": [],
   "source": [
    "# Bringing in data and prparing it for exploration\n",
    "df = wrangle.wrangle_curriculum_logs()"
   ]
  },
  {
   "cell_type": "markdown",
   "id": "d20ea549-d03b-4671-aaf0-2fac30ea4d0e",
   "metadata": {},
   "source": [
    "### Sneak Peak at the Data\n"
   ]
  },
  {
   "cell_type": "code",
   "execution_count": 3,
   "id": "e52be9b6-cd07-43ed-a13b-48c4f8b9a659",
   "metadata": {},
   "outputs": [
    {
     "data": {
      "text/html": [
       "<div>\n",
       "<style scoped>\n",
       "    .dataframe tbody tr th:only-of-type {\n",
       "        vertical-align: middle;\n",
       "    }\n",
       "\n",
       "    .dataframe tbody tr th {\n",
       "        vertical-align: top;\n",
       "    }\n",
       "\n",
       "    .dataframe thead th {\n",
       "        text-align: right;\n",
       "    }\n",
       "</style>\n",
       "<table border=\"1\" class=\"dataframe\">\n",
       "  <thead>\n",
       "    <tr style=\"text-align: right;\">\n",
       "      <th></th>\n",
       "      <th>endpoint</th>\n",
       "      <th>user_id</th>\n",
       "      <th>cohort_id</th>\n",
       "      <th>source_ip</th>\n",
       "      <th>name</th>\n",
       "      <th>start_date</th>\n",
       "      <th>end_date</th>\n",
       "      <th>program_id</th>\n",
       "    </tr>\n",
       "    <tr>\n",
       "      <th>date</th>\n",
       "      <th></th>\n",
       "      <th></th>\n",
       "      <th></th>\n",
       "      <th></th>\n",
       "      <th></th>\n",
       "      <th></th>\n",
       "      <th></th>\n",
       "      <th></th>\n",
       "    </tr>\n",
       "  </thead>\n",
       "  <tbody>\n",
       "    <tr>\n",
       "      <th>2018-01-26</th>\n",
       "      <td>/</td>\n",
       "      <td>1</td>\n",
       "      <td>8</td>\n",
       "      <td>97.105.19.61</td>\n",
       "      <td>Hampton</td>\n",
       "      <td>2015-09-22</td>\n",
       "      <td>2016-02-06</td>\n",
       "      <td>1</td>\n",
       "    </tr>\n",
       "    <tr>\n",
       "      <th>2018-01-26</th>\n",
       "      <td>javascript-i/introduction/working-with-data-ty...</td>\n",
       "      <td>39</td>\n",
       "      <td>22</td>\n",
       "      <td>97.105.19.61</td>\n",
       "      <td>Teddy</td>\n",
       "      <td>2018-01-08</td>\n",
       "      <td>2018-05-17</td>\n",
       "      <td>2</td>\n",
       "    </tr>\n",
       "    <tr>\n",
       "      <th>2018-01-26</th>\n",
       "      <td>javascript-i/javascript-with-html</td>\n",
       "      <td>39</td>\n",
       "      <td>22</td>\n",
       "      <td>97.105.19.61</td>\n",
       "      <td>Teddy</td>\n",
       "      <td>2018-01-08</td>\n",
       "      <td>2018-05-17</td>\n",
       "      <td>2</td>\n",
       "    </tr>\n",
       "  </tbody>\n",
       "</table>\n",
       "</div>"
      ],
      "text/plain": [
       "                                                     endpoint  user_id  \\\n",
       "date                                                                     \n",
       "2018-01-26                                                  /        1   \n",
       "2018-01-26  javascript-i/introduction/working-with-data-ty...       39   \n",
       "2018-01-26                  javascript-i/javascript-with-html       39   \n",
       "\n",
       "            cohort_id     source_ip     name start_date   end_date  program_id  \n",
       "date                                                                            \n",
       "2018-01-26          8  97.105.19.61  Hampton 2015-09-22 2016-02-06           1  \n",
       "2018-01-26         22  97.105.19.61    Teddy 2018-01-08 2018-05-17           2  \n",
       "2018-01-26         22  97.105.19.61    Teddy 2018-01-08 2018-05-17           2  "
      ]
     },
     "execution_count": 3,
     "metadata": {},
     "output_type": "execute_result"
    }
   ],
   "source": [
    "df.head(3)"
   ]
  },
  {
   "cell_type": "code",
   "execution_count": 4,
   "id": "e9616431-a2ad-4874-9523-82397e64ded8",
   "metadata": {},
   "outputs": [
    {
     "name": "stdout",
     "output_type": "stream",
     "text": [
      "<class 'pandas.core.frame.DataFrame'>\n",
      "DatetimeIndex: 900223 entries, 2018-01-26 to 2021-04-21\n",
      "Data columns (total 8 columns):\n",
      " #   Column      Non-Null Count   Dtype         \n",
      "---  ------      --------------   -----         \n",
      " 0   endpoint    900222 non-null  object        \n",
      " 1   user_id     900223 non-null  int64         \n",
      " 2   cohort_id   900223 non-null  int64         \n",
      " 3   source_ip   900223 non-null  object        \n",
      " 4   name        900223 non-null  object        \n",
      " 5   start_date  900223 non-null  datetime64[ns]\n",
      " 6   end_date    900223 non-null  datetime64[ns]\n",
      " 7   program_id  900223 non-null  int64         \n",
      "dtypes: datetime64[ns](2), int64(3), object(3)\n",
      "memory usage: 61.8+ MB\n"
     ]
    }
   ],
   "source": [
    "df.info()"
   ]
  },
  {
   "cell_type": "markdown",
   "id": "fc2c096e-d449-4973-82a6-b9631eaff7a4",
   "metadata": {},
   "source": [
    "### Summary of Data"
   ]
  },
  {
   "cell_type": "code",
   "execution_count": 5,
   "id": "753af9a8-b82b-47e2-9076-326184f44731",
   "metadata": {},
   "outputs": [
    {
     "data": {
      "text/html": [
       "<div>\n",
       "<style scoped>\n",
       "    .dataframe tbody tr th:only-of-type {\n",
       "        vertical-align: middle;\n",
       "    }\n",
       "\n",
       "    .dataframe tbody tr th {\n",
       "        vertical-align: top;\n",
       "    }\n",
       "\n",
       "    .dataframe thead th {\n",
       "        text-align: right;\n",
       "    }\n",
       "</style>\n",
       "<table border=\"1\" class=\"dataframe\">\n",
       "  <thead>\n",
       "    <tr style=\"text-align: right;\">\n",
       "      <th></th>\n",
       "      <th>user_id</th>\n",
       "      <th>cohort_id</th>\n",
       "      <th>program_id</th>\n",
       "    </tr>\n",
       "  </thead>\n",
       "  <tbody>\n",
       "    <tr>\n",
       "      <th>count</th>\n",
       "      <td>900223.000000</td>\n",
       "      <td>900223.000000</td>\n",
       "      <td>900223.000000</td>\n",
       "    </tr>\n",
       "    <tr>\n",
       "      <th>mean</th>\n",
       "      <td>458.825707</td>\n",
       "      <td>45.651349</td>\n",
       "      <td>1.963440</td>\n",
       "    </tr>\n",
       "    <tr>\n",
       "      <th>std</th>\n",
       "      <td>249.296767</td>\n",
       "      <td>33.800035</td>\n",
       "      <td>0.618478</td>\n",
       "    </tr>\n",
       "    <tr>\n",
       "      <th>min</th>\n",
       "      <td>1.000000</td>\n",
       "      <td>0.000000</td>\n",
       "      <td>0.000000</td>\n",
       "    </tr>\n",
       "    <tr>\n",
       "      <th>25%</th>\n",
       "      <td>269.000000</td>\n",
       "      <td>26.000000</td>\n",
       "      <td>2.000000</td>\n",
       "    </tr>\n",
       "    <tr>\n",
       "      <th>50%</th>\n",
       "      <td>475.000000</td>\n",
       "      <td>33.000000</td>\n",
       "      <td>2.000000</td>\n",
       "    </tr>\n",
       "    <tr>\n",
       "      <th>75%</th>\n",
       "      <td>660.000000</td>\n",
       "      <td>57.000000</td>\n",
       "      <td>2.000000</td>\n",
       "    </tr>\n",
       "    <tr>\n",
       "      <th>max</th>\n",
       "      <td>981.000000</td>\n",
       "      <td>139.000000</td>\n",
       "      <td>4.000000</td>\n",
       "    </tr>\n",
       "  </tbody>\n",
       "</table>\n",
       "</div>"
      ],
      "text/plain": [
       "             user_id      cohort_id     program_id\n",
       "count  900223.000000  900223.000000  900223.000000\n",
       "mean      458.825707      45.651349       1.963440\n",
       "std       249.296767      33.800035       0.618478\n",
       "min         1.000000       0.000000       0.000000\n",
       "25%       269.000000      26.000000       2.000000\n",
       "50%       475.000000      33.000000       2.000000\n",
       "75%       660.000000      57.000000       2.000000\n",
       "max       981.000000     139.000000       4.000000"
      ]
     },
     "execution_count": 5,
     "metadata": {},
     "output_type": "execute_result"
    }
   ],
   "source": [
    "df.describe()"
   ]
  },
  {
   "cell_type": "markdown",
   "id": "8d2f6eeb-6226-4091-a869-56950471443d",
   "metadata": {},
   "source": [
    "## Exploration"
   ]
  },
  {
   "cell_type": "markdown",
   "id": "ff2352d5-1b7d-403a-9fef-a4b7981220f7",
   "metadata": {},
   "source": [
    "* Questions 1,2,3,6, and 7 were selected for evaluation\n"
   ]
  },
  {
   "cell_type": "markdown",
   "id": "f4410da8-55bc-4b3f-bad7-04b1188e60e3",
   "metadata": {},
   "source": [
    "### 1. Which lesson appears to attract the most traffic consistently across cohorts (per program)?"
   ]
  },
  {
   "cell_type": "markdown",
   "id": "adf54ddb-4e56-4261-ae34-edf219e68783",
   "metadata": {
    "tags": []
   },
   "source": [
    "#### Observations: \n",
    "* program_id 1 (WebDev): javascript-i is the most accessed lesson\n",
    "* program_id 2 (WebDev): javascript-i is the most accessed lesson\n",
    "* program_id 3 (Data Science): classification/overview is the most accessed lesson\n",
    "* program_id 4 (Apollo cohort): only 4 rows in the dataset: content/html-css is the most accessed\n",
    "* program_id 0 (UNKNOWN): javascript-i is the most accessed lesson "
   ]
  },
  {
   "cell_type": "code",
   "execution_count": 6,
   "id": "d96f2084-f1df-49cd-940e-b39912484a55",
   "metadata": {},
   "outputs": [
    {
     "name": "stdout",
     "output_type": "stream",
     "text": [
      "Top 5 page access counts for program 0: \n",
      "endpoint\n",
      "search/search_index.json    1985\n",
      "javascript-i                 780\n",
      "toc                          706\n",
      "spring                       641\n",
      "java-iii                     567\n",
      "Name: endpoint, dtype: int64\n",
      "---------------------------\n",
      "Top 5 page access counts for program 1: \n",
      "endpoint\n",
      "index.html      1011\n",
      "javascript-i     736\n",
      "html-css         542\n",
      "spring           501\n",
      "java-iii         479\n",
      "Name: endpoint, dtype: int64\n",
      "---------------------------\n",
      "Top 5 page access counts for program 2: \n",
      "endpoint\n",
      "javascript-i                17457\n",
      "toc                         17428\n",
      "search/search_index.json    15212\n",
      "java-iii                    12683\n",
      "html-css                    12569\n",
      "Name: endpoint, dtype: int64\n",
      "---------------------------\n",
      "Top 5 page access counts for program 3: \n",
      "endpoint\n",
      "search/search_index.json                    2203\n",
      "classification/overview                     1785\n",
      "1-fundamentals/modern-data-scientist.jpg    1655\n",
      "1-fundamentals/AI-ML-DL-timeline.jpg        1651\n",
      "1-fundamentals/1.1-intro-to-data-science    1633\n",
      "Name: endpoint, dtype: int64\n",
      "---------------------------\n",
      "Top 5 page access counts for program 4: \n",
      "endpoint\n",
      "content/html-css                               2\n",
      "content/html-css/gitbook/images/favicon.ico    1\n",
      "content/html-css/introduction.html             1\n",
      "Name: endpoint, dtype: int64\n",
      "---------------------------\n"
     ]
    }
   ],
   "source": [
    "# Get question 1 exploration - get top 5 pages of each program_id (0-4)\n",
    "functions.question1_7(df, number=5, bottom=False)"
   ]
  },
  {
   "cell_type": "markdown",
   "id": "32f2fd68-bee8-443b-bd6a-3e086245332f",
   "metadata": {},
   "source": [
    "### 2. Is there a cohort that referred to a lesson significantly more than other cohorts seemed to gloss over?"
   ]
  },
  {
   "cell_type": "markdown",
   "id": "e34ea7b4-665e-4122-a668-291e48a928ca",
   "metadata": {
    "tags": []
   },
   "source": [
    "####  Observations: \n",
    "* The only program where a cohort referred to a lesson significantly more than other cohorts was the Data Science program\n",
    "    * The advanced-dataframes lesson was accessed a lot by Bayes, but very little by Curie and Darden\n",
    "    * The Timeseries explore lesson was accessed a lot by Bayes and Curie, but very little by Darden"
   ]
  },
  {
   "cell_type": "code",
   "execution_count": 7,
   "id": "cd9fb291-8bee-4c32-9c4c-4847c8e8e909",
   "metadata": {},
   "outputs": [],
   "source": [
    "## After exploring, we decided to just look at a subset of the data that includes classes\n",
    "#    that were active during the timespan of the data we have, to better understand class activity\n",
    "## Get all the rows that are part of classes that started\n",
    "#    after the start of our data and ended before the end of our data\n",
    "subset_df = df[(df.start_date >= df.index[0].strftime(format='%Y-%m-%d')) &\n",
    "               (df.end_date <= df.index[len(df)-1].strftime(format='%Y-%m-%d'))]"
   ]
  },
  {
   "cell_type": "code",
   "execution_count": 8,
   "id": "69ed31db-c42e-4e2b-8dab-b3c7f7b29c75",
   "metadata": {},
   "outputs": [],
   "source": [
    "# break up subset_df into programs (1,2 are webdev, 3 is data science)\n",
    "p0_df = subset_df[subset_df.program_id == 0]\n",
    "p12_df = subset_df[subset_df['program_id'].isin([1,2])]\n",
    "p3_df = subset_df[subset_df.program_id == 3]"
   ]
  },
  {
   "cell_type": "code",
   "execution_count": 9,
   "id": "4499b706-c3fb-42bd-81a0-2574b1c0ffc6",
   "metadata": {},
   "outputs": [
    {
     "data": {
      "text/html": [
       "<div>\n",
       "<style scoped>\n",
       "    .dataframe tbody tr th:only-of-type {\n",
       "        vertical-align: middle;\n",
       "    }\n",
       "\n",
       "    .dataframe tbody tr th {\n",
       "        vertical-align: top;\n",
       "    }\n",
       "\n",
       "    .dataframe thead th {\n",
       "        text-align: right;\n",
       "    }\n",
       "</style>\n",
       "<table border=\"1\" class=\"dataframe\">\n",
       "  <thead>\n",
       "    <tr style=\"text-align: right;\">\n",
       "      <th></th>\n",
       "      <th>endpoint</th>\n",
       "      <th>Bayes</th>\n",
       "      <th>Curie</th>\n",
       "      <th>Darden</th>\n",
       "    </tr>\n",
       "  </thead>\n",
       "  <tbody>\n",
       "    <tr>\n",
       "      <th>0</th>\n",
       "      <td>4-python/7.4.4-advanced-dataframes</td>\n",
       "      <td>219</td>\n",
       "      <td>1</td>\n",
       "      <td>0</td>\n",
       "    </tr>\n",
       "    <tr>\n",
       "      <th>1</th>\n",
       "      <td>9-timeseries/4-explore</td>\n",
       "      <td>212</td>\n",
       "      <td>109</td>\n",
       "      <td>1</td>\n",
       "    </tr>\n",
       "  </tbody>\n",
       "</table>\n",
       "</div>"
      ],
      "text/plain": [
       "                             endpoint  Bayes  Curie  Darden\n",
       "0  4-python/7.4.4-advanced-dataframes    219      1       0\n",
       "1              9-timeseries/4-explore    212    109       1"
      ]
     },
     "execution_count": 9,
     "metadata": {},
     "output_type": "execute_result"
    }
   ],
   "source": [
    "# Data Science program (program_id == 3) is the only program with pages that have inconsistent access counts\n",
    "functions.question2(p3_df, multiplier=3)"
   ]
  },
  {
   "cell_type": "markdown",
   "id": "64726d7d-8fff-4083-8411-b0f6f7f5ce43",
   "metadata": {},
   "source": [
    "### 3. Are there students who, when active, hardly access the curriculum? If so, what information do you have about these students?"
   ]
  },
  {
   "cell_type": "markdown",
   "id": "ea54d254-8b85-41b4-9335-fcdc076cb996",
   "metadata": {
    "tags": []
   },
   "source": [
    "####  Observations: \n",
    "* There are 10 users in the dataset who, while active, accessed the curriculum <= 10 times\n",
    "    * All users were in program 2\n",
    "    * They were in 9 separate cohorts (2 users in the same cohort)\n",
    "* Seven of the ten users accessed the curriculum on the first or second day of class only, indicating students who may have dropped out\n",
    "* 3 of the 10 accessed the curriculum much later in the program\n",
    "    * User 278, 812, 832 from Voyageurs, Hyperion, and Jupiter cohorts respectively\n",
    "    * No good explanation for this: could be an error in capturing the data or some sort of unauthorized access "
   ]
  },
  {
   "cell_type": "code",
   "execution_count": 10,
   "id": "b3834665-74fb-41fc-aa4e-b02921d651d6",
   "metadata": {
    "scrolled": true,
    "tags": []
   },
   "outputs": [
    {
     "data": {
      "text/html": [
       "<div>\n",
       "<style scoped>\n",
       "    .dataframe tbody tr th:only-of-type {\n",
       "        vertical-align: middle;\n",
       "    }\n",
       "\n",
       "    .dataframe tbody tr th {\n",
       "        vertical-align: top;\n",
       "    }\n",
       "\n",
       "    .dataframe thead th {\n",
       "        text-align: right;\n",
       "    }\n",
       "</style>\n",
       "<table border=\"1\" class=\"dataframe\">\n",
       "  <thead>\n",
       "    <tr style=\"text-align: right;\">\n",
       "      <th></th>\n",
       "      <th>endpoint</th>\n",
       "      <th>user_id</th>\n",
       "      <th>cohort_id</th>\n",
       "      <th>source_ip</th>\n",
       "      <th>name</th>\n",
       "      <th>start_date</th>\n",
       "      <th>end_date</th>\n",
       "      <th>program_id</th>\n",
       "    </tr>\n",
       "    <tr>\n",
       "      <th>date</th>\n",
       "      <th></th>\n",
       "      <th></th>\n",
       "      <th></th>\n",
       "      <th></th>\n",
       "      <th></th>\n",
       "      <th></th>\n",
       "      <th></th>\n",
       "      <th></th>\n",
       "    </tr>\n",
       "  </thead>\n",
       "  <tbody>\n",
       "    <tr>\n",
       "      <th>2020-03-23</th>\n",
       "      <td>/</td>\n",
       "      <td>619</td>\n",
       "      <td>57</td>\n",
       "      <td>97.105.19.58</td>\n",
       "      <td>Ganymede</td>\n",
       "      <td>2020-03-23</td>\n",
       "      <td>2020-08-20</td>\n",
       "      <td>2</td>\n",
       "    </tr>\n",
       "    <tr>\n",
       "      <th>2021-01-26</th>\n",
       "      <td>/</td>\n",
       "      <td>879</td>\n",
       "      <td>135</td>\n",
       "      <td>136.50.50.187</td>\n",
       "      <td>Marco</td>\n",
       "      <td>2021-01-25</td>\n",
       "      <td>2021-07-19</td>\n",
       "      <td>2</td>\n",
       "    </tr>\n",
       "    <tr>\n",
       "      <th>2021-03-15</th>\n",
       "      <td>/</td>\n",
       "      <td>940</td>\n",
       "      <td>138</td>\n",
       "      <td>70.121.129.79</td>\n",
       "      <td>Neptune</td>\n",
       "      <td>2021-03-15</td>\n",
       "      <td>2021-09-03</td>\n",
       "      <td>2</td>\n",
       "    </tr>\n",
       "    <tr>\n",
       "      <th>2021-03-15</th>\n",
       "      <td>/</td>\n",
       "      <td>918</td>\n",
       "      <td>138</td>\n",
       "      <td>71.221.46.112</td>\n",
       "      <td>Neptune</td>\n",
       "      <td>2021-03-15</td>\n",
       "      <td>2021-09-03</td>\n",
       "      <td>2</td>\n",
       "    </tr>\n",
       "  </tbody>\n",
       "</table>\n",
       "</div>"
      ],
      "text/plain": [
       "           endpoint  user_id  cohort_id      source_ip      name start_date  \\\n",
       "date                                                                          \n",
       "2020-03-23        /      619         57   97.105.19.58  Ganymede 2020-03-23   \n",
       "2021-01-26        /      879        135  136.50.50.187     Marco 2021-01-25   \n",
       "2021-03-15        /      940        138  70.121.129.79   Neptune 2021-03-15   \n",
       "2021-03-15        /      918        138  71.221.46.112   Neptune 2021-03-15   \n",
       "\n",
       "             end_date  program_id  \n",
       "date                               \n",
       "2020-03-23 2020-08-20           2  \n",
       "2021-01-26 2021-07-19           2  \n",
       "2021-03-15 2021-09-03           2  \n",
       "2021-03-15 2021-09-03           2  "
      ]
     },
     "execution_count": 10,
     "metadata": {},
     "output_type": "execute_result"
    }
   ],
   "source": [
    "# Get users that only access the curriculum a small amount of times\n",
    "# For a smaller printout, we set limit to 1, but you can set it to 10 to see the results described above\n",
    "functions.question3(df, limit=1)"
   ]
  },
  {
   "cell_type": "markdown",
   "id": "03933b4a-a65c-4840-a295-c13beac00edc",
   "metadata": {},
   "source": [
    "### 6. What topics are grads continuing to reference after graduation and into their jobs (for each program)?"
   ]
  },
  {
   "cell_type": "markdown",
   "id": "c89c390c-98a8-4486-9961-4866d8cf6e2f",
   "metadata": {},
   "source": [
    "####  Observations: \n",
    "* As seen in the chart below the most referenced topics after graduation are:\n",
    "    * Web Development - Java and Javascript\n",
    "    * Data Science - SQL and classification"
   ]
  },
  {
   "cell_type": "code",
   "execution_count": 11,
   "id": "62d6e2d2-475f-4c4e-93fa-672e96b93428",
   "metadata": {},
   "outputs": [
    {
     "data": {
      "image/png": "[encoded data removed]",
      "text/plain": [
       "<Figure size 1200x1600 with 2 Axes>"
      ]
     },
     "metadata": {},
     "output_type": "display_data"
    }
   ],
   "source": [
    "# Plot top 10 page access counts occuring post graduation\n",
    "functions.question6(df)"
   ]
  },
  {
   "cell_type": "markdown",
   "id": "79cb3115-2e4b-4b4b-9cec-05910031d8d3",
   "metadata": {},
   "source": [
    "### 7. Which lessons are least accessed?"
   ]
  },
  {
   "cell_type": "markdown",
   "id": "cba3ebdc-8a87-4243-a3a8-ced7c8194538",
   "metadata": {},
   "source": [
    "####  Observations: \n",
    "* 457 pages were accessed only once in the dataset\n",
    "* It is unknown how many pages were not accessed at all as that info is not in the dataset\n",
    "* Of the 457 pages accessed only once, here are a few trends by program. (This will take some more analysis):\n",
    "    * program_id 1 (WebDev): jquery pages are low-access\n",
    "    * program_id 2 (WebDev): cli pages are low-access\n",
    "    * program_id 3 (Data Science): storytelling, classification\n",
    "    * program_id 4 (Apollo cohort): only 4 rows in the dataset: content/html-css is all that was accessed\n",
    "    * program_id 0 (UNKNOWN): classification lessons are low-access"
   ]
  },
  {
   "cell_type": "code",
   "execution_count": 12,
   "id": "bcac7f8f-95ba-41d3-b285-b701f9705a09",
   "metadata": {},
   "outputs": [
    {
     "data": {
      "text/plain": [
       "(457,)"
      ]
     },
     "execution_count": 12,
     "metadata": {},
     "output_type": "execute_result"
    }
   ],
   "source": [
    "# Question 7 exploration: get the number of pages that were accessed only once\n",
    "pages = df.endpoint.value_counts()\n",
    "pages[pages == 1].shape"
   ]
  },
  {
   "cell_type": "code",
   "execution_count": 13,
   "id": "f30dcd2c-7ba0-4ca7-b87a-ac90d3c4d70a",
   "metadata": {},
   "outputs": [
    {
     "name": "stdout",
     "output_type": "stream",
     "text": [
      "Bottom 5 page access counts for program 0: \n",
      "endpoint\n",
      "fundamentals/DataToAction_v2.jpg              1\n",
      "7-classification/ensemble                     1\n",
      "content/git/initializing-a-repository.html    1\n",
      "7-classification/confusion-matrix             1\n",
      "7-classification/6.4-knn                      1\n",
      "Name: endpoint, dtype: int64\n",
      "---------------------------\n",
      "Bottom 5 page access counts for program 1: \n",
      "endpoint\n",
      "html-css/media-queries                              1\n",
      "content/jquery/events/keyboard-events.html          1\n",
      "content/jquery/events/gitbook/images/favicon.ico    1\n",
      "content/jquery/events                               1\n",
      "content/jquery/essential-methods/traversing.html    1\n",
      "Name: endpoint, dtype: int64\n",
      "---------------------------\n",
      "Bottom 5 page access counts for program 2: \n",
      "endpoint\n",
      "'                                        1\n",
      "classification/user-defined-functions    1\n",
      "cli-02-listing-files                     1\n",
      "cli-03-file-paths                        1\n",
      "cli-07-more-topics                       1\n",
      "Name: endpoint, dtype: int64\n",
      "---------------------------\n",
      "Bottom 5 page access counts for program 3: \n",
      "endpoint\n",
      "%20https://github.com/RaulCPena    1\n",
      "2-storytelling/chart-types         1\n",
      "bad-charts                         1\n",
      "capstones                          1\n",
      "case-statements                    1\n",
      "Name: endpoint, dtype: int64\n",
      "---------------------------\n",
      "Bottom 5 page access counts for program 4: \n",
      "endpoint\n",
      "content/html-css/gitbook/images/favicon.ico    1\n",
      "content/html-css/introduction.html             1\n",
      "content/html-css                               2\n",
      "Name: endpoint, dtype: int64\n",
      "---------------------------\n"
     ]
    }
   ],
   "source": [
    "# Question 7 exploration - - get bottom 5 pages of each program_id (0-4)\n",
    "functions.question1_7(df, number=5, bottom=True)"
   ]
  },
  {
   "cell_type": "markdown",
   "id": "593736ce-4878-4340-b518-c74002fff7df",
   "metadata": {},
   "source": [
    "## Exploration Summary\n",
    "* 1. The lessons with the most traffic consistently across cohorts (per program) are:\n",
    "    * WebDev (Pro.1): javascript-i \n",
    "    * WebDev (Pro.2): javascript-i \n",
    "    * Data Science (Pro.3): classification/overview is the most accessed lesson\n",
    "    * Apollo cohort (Pro.4):  content/html-css \n",
    "    * Unkown Grouo (Pro.0): javascript-i \n",
    "* 2. The only program where a cohort that referred to a lesson significantly more than other cohorts was the Data Science program\n",
    "    * The advanced-dataframes lesson was accessed a lot by Bayes, but very little by Curie and Darden\n",
    "    * The Timeseries explore lesson was accessed a lot by Bayes and Curie, but very little by Darden\n",
    "* 3. There are 10 users in the dataset who, while active, accessed the curriculum <= 10 times\n",
    "        * All users were in program 2\n",
    "        * They were in 9 separate cohorts (2 users in the same cohort)\n",
    "    * Seven of the ten users accessed the curriculum on the first or second day of class only, indicating students who may have dropped out\n",
    "    * 3 of the 10 accessed the curriculum much later in the program\n",
    "        * User 278, 812, 832 from Voyageurs, Hyperion, and Jupiter cohorts respectively\n",
    "        * No good explanation for this: could be an error in capturing the data or some sort of unauthorized access\n",
    "* 6. The most referenced topics after graduation are:\n",
    "    * Web Development - Java and Javascript\n",
    "    * Data Science - SQL and classification\n",
    "* 7. Lesson accessed the least is collection of 457 lesson pages that were only accessed once."
   ]
  },
  {
   "cell_type": "markdown",
   "id": "2e9ef6dd-7a7e-40e8-90e3-52fbb6246213",
   "metadata": {},
   "source": [
    "## Report - Conclusion\n",
    "* We were able to address 5 of the 7 questions asked\n",
    "### Summary\n",
    "1. Which lesson appears to attract the most traffic consistently across cohorts (per program)?\n",
    "    * The lessons withe most traffic consistently across cohorts (per program) are:\n",
    "        * WebDev Programs 1, 2 and unassigned:  javascript-i \n",
    "        * Data Science Program 3: classification overview \n",
    "\n",
    "2. Is there a cohort that referred to a lesson significantly more than other cohorts seemed to gloss over?\n",
    "    * The only program where a cohort that referred to a lesson significantly more than other cohorts was the Data Science program\n",
    "        * The advanced-dataframes lesson was accessed a lot by Bayes, but very little by Curie and Darden\n",
    "        * The Timeseries explore lesson was accessed a lot by Bayes and Curie, but very little by Darden\n",
    "\n",
    "3. Are there students who, when active, hardly access the curriculum? If so, what information do you have about these students?\n",
    "    * There are 10 users in the dataset who, while active, accessed the curriculum <= 10 times\n",
    "        * All users were in program 2\n",
    "        * They were in 9 separate cohorts (2 users in the same cohort)\n",
    "    * Seven of the ten users accessed the curriculum on the first or second day of class only, indicating students who may have dropped out\n",
    "    * 3 of the 10 accessed the curriculum much later in the program\n",
    "        * User 278, 812, 832 from Voyageurs, Hyperion, and Jupiter cohorts respectively\n",
    "        * No good explanation for this: could be an error in capturing the data or some sort of unauthorized access\n",
    "\n",
    "6. What topics are grads continuing to reference after graduation and into their jobs (for each program)?\n",
    "\t* The most referenced topics after graduation are: \n",
    "\t\t* Web Development - Java and Javascript\n",
    "\t    * Data Science - SQL and classification\n",
    "\n",
    "7. Which lessons are least accessed?\n",
    "    * Lesson accessed the least is collection of 457 lesson pages that were only accessed once\n",
    "\n",
    "### Recommendations\n",
    "\n",
    "* Provide additional takeaways or downloadable docs for extensively used topics\n",
    "* Investigate the need to redo or reorganize the information on the 457 seldom used pages\n",
    "\n",
    "### Next Steps\n",
    "* If provided more time we could have looked further into the additional two questions, and connected unknown users to cohorts"
   ]
  }
 ],
 "metadata": {
  "kernelspec": {
   "display_name": "Python 3 (ipykernel)",
   "language": "python",
   "name": "python3"
  },
  "language_info": {
   "codemirror_mode": {
    "name": "ipython",
    "version": 3
   },
   "file_extension": ".py",
   "mimetype": "text/x-python",
   "name": "python",
   "nbconvert_exporter": "python",
   "pygments_lexer": "ipython3",
   "version": "3.9.13"
  },
  "toc-autonumbering": false
 },
 "nbformat": 4,
 "nbformat_minor": 5
}
