{
 "cells": [
  {
   "cell_type": "markdown",
   "id": "7c9298ea-d17c-4b5a-8bc6-6cf1727ade7d",
   "metadata": {},
   "source": [
    "# Final Report\n",
    "## \n",
    "* Brian Oneill\n",
    "* Scott Barnett\n",
    "* Keila Camarillo\n",
    "* Esayas Asefa\n",
    "\n",
    "* 11 June 2023"
   ]
  },
  {
   "cell_type": "markdown",
   "id": "3bc23e11-8e2e-4a48-a6bb-78996e908d56",
   "metadata": {},
   "source": [
    "## Goals\n",
    "* \n",
    "*  \n",
    "* \n",
    "* "
   ]
  },
  {
   "cell_type": "markdown",
   "id": "771ff34b-4b39-46ec-9e72-893a4ed8b369",
   "metadata": {
    "tags": []
   },
   "source": [
    "## Imports"
   ]
  },
  {
   "cell_type": "code",
   "execution_count": 1,
   "id": "938f8785-6d6f-4df7-b121-6578d6cd045e",
   "metadata": {},
   "outputs": [],
   "source": [
    "import warnings\n",
    "warnings.filterwarnings(\"ignore\")\n",
    "import wrangle as w\n",
    "\n",
    "import pandas as pd\n",
    "import numpy as np\n",
    "\n",
    "#splits\n",
    "from sklearn.model_selection import train_test_split\n",
    "\n",
    "#visualization\n",
    "import matplotlib.pyplot as plt\n",
    "from matplotlib import cm\n",
    "import seaborn as sns\n",
    "\n",
    "#scaling\n",
    "from sklearn.preprocessing import MinMaxScaler, StandardScaler, RobustScaler\n",
    "from sklearn.metrics import precision_score, accuracy_score, recall_score, classification_report\n",
    "\n",
    "#model\n",
    "from sklearn.ensemble import RandomForestClassifier\n",
    "from sklearn.tree import DecisionTreeClassifier, plot_tree\n",
    "from sklearn.linear_model import LogisticRegression\n"
   ]
  },
  {
   "cell_type": "code",
   "execution_count": 2,
   "id": "74ea0578",
   "metadata": {},
   "outputs": [],
   "source": [
    "df = pd.read_csv('merged_data.csv')"
   ]
  },
  {
   "cell_type": "markdown",
   "id": "d2a7890d-065c-48df-9653-7e35f206e9a3",
   "metadata": {},
   "source": [
    "## Acquire\n",
    "\n",
    "* Data acquired from the Codeup Database and the provided * document \n",
    "    *\n",
    "* It contained ** * rows and * columns**\n",
    "* The data was aquired on **10 JULY 2023**\n",
    "* Each row represents a page access of the Codeup lesson server\n",
    "* Each column represents a feature of the access event\n"
   ]
  },
  {
   "cell_type": "markdown",
   "id": "c910c06f-78c6-43eb-8448-086c4d8e05da",
   "metadata": {
    "tags": []
   },
   "source": [
    "## Prepare\n",
    "\n"
   ]
  },
  {
   "cell_type": "code",
   "execution_count": 3,
   "id": "c8601e67-df2d-42a2-8d3d-9b2f71e05786",
   "metadata": {},
   "outputs": [],
   "source": [
    "df, model_df = w.prep_df(df)"
   ]
  },
  {
   "cell_type": "code",
   "execution_count": 4,
   "id": "ca6d769b-8fb2-47ad-bb8d-bf46e8286951",
   "metadata": {
    "collapsed": true,
    "jupyter": {
     "outputs_hidden": true
    },
    "tags": []
   },
   "outputs": [
    {
     "data": {
      "text/html": [
       "<div>\n",
       "<style scoped>\n",
       "    .dataframe tbody tr th:only-of-type {\n",
       "        vertical-align: middle;\n",
       "    }\n",
       "\n",
       "    .dataframe tbody tr th {\n",
       "        vertical-align: top;\n",
       "    }\n",
       "\n",
       "    .dataframe thead th {\n",
       "        text-align: right;\n",
       "    }\n",
       "</style>\n",
       "<table border=\"1\" class=\"dataframe\">\n",
       "  <thead>\n",
       "    <tr style=\"text-align: right;\">\n",
       "      <th></th>\n",
       "      <th>dob</th>\n",
       "      <th>outcome</th>\n",
       "      <th>sex</th>\n",
       "      <th>name</th>\n",
       "      <th>intake_type</th>\n",
       "      <th>condition</th>\n",
       "      <th>species</th>\n",
       "      <th>breed</th>\n",
       "      <th>outcome_age</th>\n",
       "      <th>rel_month</th>\n",
       "      <th>rel_year</th>\n",
       "      <th>primary_color</th>\n",
       "      <th>is_tabby</th>\n",
       "      <th>mix_color</th>\n",
       "    </tr>\n",
       "  </thead>\n",
       "  <tbody>\n",
       "    <tr>\n",
       "      <th>0</th>\n",
       "      <td>2017-05-02</td>\n",
       "      <td>adoption</td>\n",
       "      <td>neutered male</td>\n",
       "      <td>1</td>\n",
       "      <td>owner surrender</td>\n",
       "      <td>normal</td>\n",
       "      <td>cat</td>\n",
       "      <td>mix</td>\n",
       "      <td>736</td>\n",
       "      <td>may</td>\n",
       "      <td>2019</td>\n",
       "      <td>brown</td>\n",
       "      <td>1</td>\n",
       "      <td>1</td>\n",
       "    </tr>\n",
       "    <tr>\n",
       "      <th>1</th>\n",
       "      <td>2017-07-12</td>\n",
       "      <td>adoption</td>\n",
       "      <td>neutered male</td>\n",
       "      <td>1</td>\n",
       "      <td>stray</td>\n",
       "      <td>normal</td>\n",
       "      <td>dog</td>\n",
       "      <td>mix</td>\n",
       "      <td>371</td>\n",
       "      <td>jul</td>\n",
       "      <td>2018</td>\n",
       "      <td>white</td>\n",
       "      <td>0</td>\n",
       "      <td>1</td>\n",
       "    </tr>\n",
       "    <tr>\n",
       "      <th>5</th>\n",
       "      <td>2014-03-12</td>\n",
       "      <td>transfer</td>\n",
       "      <td>intact male</td>\n",
       "      <td>1</td>\n",
       "      <td>stray</td>\n",
       "      <td>medical attention</td>\n",
       "      <td>cat</td>\n",
       "      <td>mix</td>\n",
       "      <td>6</td>\n",
       "      <td>mar</td>\n",
       "      <td>2014</td>\n",
       "      <td>orange</td>\n",
       "      <td>1</td>\n",
       "      <td>0</td>\n",
       "    </tr>\n",
       "    <tr>\n",
       "      <th>8</th>\n",
       "      <td>2018-03-01</td>\n",
       "      <td>adoption</td>\n",
       "      <td>neutered male</td>\n",
       "      <td>1</td>\n",
       "      <td>owner surrender</td>\n",
       "      <td>normal</td>\n",
       "      <td>dog</td>\n",
       "      <td>two breeds</td>\n",
       "      <td>797</td>\n",
       "      <td>may</td>\n",
       "      <td>2020</td>\n",
       "      <td>white</td>\n",
       "      <td>0</td>\n",
       "      <td>1</td>\n",
       "    </tr>\n",
       "    <tr>\n",
       "      <th>9</th>\n",
       "      <td>2022-05-04</td>\n",
       "      <td>adoption</td>\n",
       "      <td>neutered male</td>\n",
       "      <td>1</td>\n",
       "      <td>stray</td>\n",
       "      <td>normal</td>\n",
       "      <td>cat</td>\n",
       "      <td>mix</td>\n",
       "      <td>76</td>\n",
       "      <td>jul</td>\n",
       "      <td>2022</td>\n",
       "      <td>brown</td>\n",
       "      <td>1</td>\n",
       "      <td>0</td>\n",
       "    </tr>\n",
       "  </tbody>\n",
       "</table>\n",
       "</div>"
      ],
      "text/plain": [
       "         dob   outcome            sex  name      intake_type  \\\n",
       "0 2017-05-02  adoption  neutered male     1  owner surrender   \n",
       "1 2017-07-12  adoption  neutered male     1            stray   \n",
       "5 2014-03-12  transfer    intact male     1            stray   \n",
       "8 2018-03-01  adoption  neutered male     1  owner surrender   \n",
       "9 2022-05-04  adoption  neutered male     1            stray   \n",
       "\n",
       "           condition species       breed  outcome_age rel_month rel_year  \\\n",
       "0             normal     cat         mix          736       may     2019   \n",
       "1             normal     dog         mix          371       jul     2018   \n",
       "5  medical attention     cat         mix            6       mar     2014   \n",
       "8             normal     dog  two breeds          797       may     2020   \n",
       "9             normal     cat         mix           76       jul     2022   \n",
       "\n",
       "  primary_color  is_tabby  mix_color  \n",
       "0         brown         1          1  \n",
       "1         white         0          1  \n",
       "5        orange         1          0  \n",
       "8         white         0          1  \n",
       "9         brown         1          0  "
      ]
     },
     "execution_count": 4,
     "metadata": {},
     "output_type": "execute_result"
    }
   ],
   "source": [
    "df.head()"
   ]
  },
  {
   "cell_type": "code",
   "execution_count": 8,
   "id": "f1a87eb6-acf8-4f8b-a8d7-e258ce2bcd0e",
   "metadata": {},
   "outputs": [
    {
     "data": {
      "text/html": [
       "<div>\n",
       "<style scoped>\n",
       "    .dataframe tbody tr th:only-of-type {\n",
       "        vertical-align: middle;\n",
       "    }\n",
       "\n",
       "    .dataframe tbody tr th {\n",
       "        vertical-align: top;\n",
       "    }\n",
       "\n",
       "    .dataframe thead th {\n",
       "        text-align: right;\n",
       "    }\n",
       "</style>\n",
       "<table border=\"1\" class=\"dataframe\">\n",
       "  <thead>\n",
       "    <tr style=\"text-align: right;\">\n",
       "      <th></th>\n",
       "      <th>name</th>\n",
       "      <th>outcome_age</th>\n",
       "      <th>is_tabby</th>\n",
       "      <th>mix_color</th>\n",
       "      <th>outcome_other</th>\n",
       "      <th>outcome_transfer</th>\n",
       "      <th>sex_intact male</th>\n",
       "      <th>sex_neutered male</th>\n",
       "      <th>sex_spayed female</th>\n",
       "      <th>intake_type_euthanasia request</th>\n",
       "      <th>...</th>\n",
       "      <th>primary_color_gray</th>\n",
       "      <th>primary_color_lilac point</th>\n",
       "      <th>primary_color_lynx point</th>\n",
       "      <th>primary_color_orange</th>\n",
       "      <th>primary_color_red</th>\n",
       "      <th>primary_color_sable</th>\n",
       "      <th>primary_color_seal point</th>\n",
       "      <th>primary_color_tan</th>\n",
       "      <th>primary_color_tricolor</th>\n",
       "      <th>primary_color_white</th>\n",
       "    </tr>\n",
       "  </thead>\n",
       "  <tbody>\n",
       "    <tr>\n",
       "      <th>0</th>\n",
       "      <td>1</td>\n",
       "      <td>736</td>\n",
       "      <td>1</td>\n",
       "      <td>1</td>\n",
       "      <td>0</td>\n",
       "      <td>0</td>\n",
       "      <td>0</td>\n",
       "      <td>1</td>\n",
       "      <td>0</td>\n",
       "      <td>0</td>\n",
       "      <td>...</td>\n",
       "      <td>0</td>\n",
       "      <td>0</td>\n",
       "      <td>0</td>\n",
       "      <td>0</td>\n",
       "      <td>0</td>\n",
       "      <td>0</td>\n",
       "      <td>0</td>\n",
       "      <td>0</td>\n",
       "      <td>0</td>\n",
       "      <td>0</td>\n",
       "    </tr>\n",
       "    <tr>\n",
       "      <th>1</th>\n",
       "      <td>1</td>\n",
       "      <td>371</td>\n",
       "      <td>0</td>\n",
       "      <td>1</td>\n",
       "      <td>0</td>\n",
       "      <td>0</td>\n",
       "      <td>0</td>\n",
       "      <td>1</td>\n",
       "      <td>0</td>\n",
       "      <td>0</td>\n",
       "      <td>...</td>\n",
       "      <td>0</td>\n",
       "      <td>0</td>\n",
       "      <td>0</td>\n",
       "      <td>0</td>\n",
       "      <td>0</td>\n",
       "      <td>0</td>\n",
       "      <td>0</td>\n",
       "      <td>0</td>\n",
       "      <td>0</td>\n",
       "      <td>1</td>\n",
       "    </tr>\n",
       "    <tr>\n",
       "      <th>5</th>\n",
       "      <td>1</td>\n",
       "      <td>6</td>\n",
       "      <td>1</td>\n",
       "      <td>0</td>\n",
       "      <td>0</td>\n",
       "      <td>1</td>\n",
       "      <td>1</td>\n",
       "      <td>0</td>\n",
       "      <td>0</td>\n",
       "      <td>0</td>\n",
       "      <td>...</td>\n",
       "      <td>0</td>\n",
       "      <td>0</td>\n",
       "      <td>0</td>\n",
       "      <td>1</td>\n",
       "      <td>0</td>\n",
       "      <td>0</td>\n",
       "      <td>0</td>\n",
       "      <td>0</td>\n",
       "      <td>0</td>\n",
       "      <td>0</td>\n",
       "    </tr>\n",
       "    <tr>\n",
       "      <th>8</th>\n",
       "      <td>1</td>\n",
       "      <td>797</td>\n",
       "      <td>0</td>\n",
       "      <td>1</td>\n",
       "      <td>0</td>\n",
       "      <td>0</td>\n",
       "      <td>0</td>\n",
       "      <td>1</td>\n",
       "      <td>0</td>\n",
       "      <td>0</td>\n",
       "      <td>...</td>\n",
       "      <td>0</td>\n",
       "      <td>0</td>\n",
       "      <td>0</td>\n",
       "      <td>0</td>\n",
       "      <td>0</td>\n",
       "      <td>0</td>\n",
       "      <td>0</td>\n",
       "      <td>0</td>\n",
       "      <td>0</td>\n",
       "      <td>1</td>\n",
       "    </tr>\n",
       "    <tr>\n",
       "      <th>9</th>\n",
       "      <td>1</td>\n",
       "      <td>76</td>\n",
       "      <td>1</td>\n",
       "      <td>0</td>\n",
       "      <td>0</td>\n",
       "      <td>0</td>\n",
       "      <td>0</td>\n",
       "      <td>1</td>\n",
       "      <td>0</td>\n",
       "      <td>0</td>\n",
       "      <td>...</td>\n",
       "      <td>0</td>\n",
       "      <td>0</td>\n",
       "      <td>0</td>\n",
       "      <td>0</td>\n",
       "      <td>0</td>\n",
       "      <td>0</td>\n",
       "      <td>0</td>\n",
       "      <td>0</td>\n",
       "      <td>0</td>\n",
       "      <td>0</td>\n",
       "    </tr>\n",
       "  </tbody>\n",
       "</table>\n",
       "<p>5 rows × 57 columns</p>\n",
       "</div>"
      ],
      "text/plain": [
       "   name  outcome_age  is_tabby  mix_color  outcome_other  outcome_transfer  \\\n",
       "0     1          736         1          1              0                 0   \n",
       "1     1          371         0          1              0                 0   \n",
       "5     1            6         1          0              0                 1   \n",
       "8     1          797         0          1              0                 0   \n",
       "9     1           76         1          0              0                 0   \n",
       "\n",
       "   sex_intact male  sex_neutered male  sex_spayed female  \\\n",
       "0                0                  1                  0   \n",
       "1                0                  1                  0   \n",
       "5                1                  0                  0   \n",
       "8                0                  1                  0   \n",
       "9                0                  1                  0   \n",
       "\n",
       "   intake_type_euthanasia request  ...  primary_color_gray  \\\n",
       "0                               0  ...                   0   \n",
       "1                               0  ...                   0   \n",
       "5                               0  ...                   0   \n",
       "8                               0  ...                   0   \n",
       "9                               0  ...                   0   \n",
       "\n",
       "   primary_color_lilac point  primary_color_lynx point  primary_color_orange  \\\n",
       "0                          0                         0                     0   \n",
       "1                          0                         0                     0   \n",
       "5                          0                         0                     1   \n",
       "8                          0                         0                     0   \n",
       "9                          0                         0                     0   \n",
       "\n",
       "   primary_color_red  primary_color_sable  primary_color_seal point  \\\n",
       "0                  0                    0                         0   \n",
       "1                  0                    0                         0   \n",
       "5                  0                    0                         0   \n",
       "8                  0                    0                         0   \n",
       "9                  0                    0                         0   \n",
       "\n",
       "   primary_color_tan  primary_color_tricolor  primary_color_white  \n",
       "0                  0                       0                    0  \n",
       "1                  0                       0                    1  \n",
       "5                  0                       0                    0  \n",
       "8                  0                       0                    1  \n",
       "9                  0                       0                    0  \n",
       "\n",
       "[5 rows x 57 columns]"
      ]
     },
     "execution_count": 8,
     "metadata": {},
     "output_type": "execute_result"
    }
   ],
   "source": [
    "model_df.head()"
   ]
  },
  {
   "cell_type": "markdown",
   "id": "f0e59c79-77be-4df4-8068-f920443a89f1",
   "metadata": {},
   "source": [
    "### Data Dictionary"
   ]
  },
  {
   "cell_type": "markdown",
   "id": "32facd0e-082e-4cff-a186-c2534977de78",
   "metadata": {},
   "source": [
    "|Feature   |Datatype| Unit       |Description   |\n",
    "|----------|--------|------------|--------------|\n",
    "|Animal ID | String |Alphanumeric | Unique number assigned to each animal when their record is created in the database |\n",
    "|Animal Type| String| Alphanumeric|Animal category: dog, cat, wildlife, other, etc.  |\n",
    "|Activity Number|Unique number assigned to an activity related to a service request.|\n",
    "|Activity Sequence|Sequence starts with 1 usually then a follow up sequence is created until activity is completed.|\n",
    "|Census Tract| | |Government census tract in which the action was located.|\n",
    "|Council District|City of Dallas Council District in which the action was located.|\n",
    "|DateTime| | | | |Date and time of action  |\n",
    "|MonthYear|Month and year of aciton|\n",
    "|Kennel Number|Location of the animal at the time of the report|\n",
    "|Kennel Status|Availability of the animal.|\n",
    "|Intake Type|Type or purpose of intake; used primarily to analyze intake trends.|\n",
    "|Intak Total|Additional categorization of purpose of intake; used primarily to analyze intake trends.|\n",
    "|Reason|Reason the animal was surrendered or taken in.|\n",
    "|Staff Id|Unique ID number assigned to the staff person who entered the record.|\n",
    "|Intake Date|Date the animal was intaken by DAS.|\n",
    "|Intake Time|Time the animal was intaken by DAS.|\n",
    "|Due Out|Date the animal's stray hold expires and animal will be available for non-return to owner outcomes; date DAS has full ownership of the animal based on city ordinance.|\n",
    "|Intake Condition|Apparent medical condition of the animal when it was taken in by DAS.|\n",
    "|Hold Request|Routing or pathway identified for the animal at the time of the report. Pathways are used to move animals towards the outcome management recommends at the time based on behavior, medical condition, and history. Pathways are reviewed and updated frequently as an animal's behavior or medical condition changes.|\n",
    "|Outcome Type|Final outcome of the animal if they are no longer under the care of DAS at the time of the report.|\n",
    "|Outcome Subtype|Additional details on the outcome of the animal used primiarly for outcome trend analysis.|\n",
    "|Outcome Date| Date the animal was outcomed by DAS / left DAS' care.|\n",
    "|Outcome Time|Time the animal was outcomed by DAS / left DAS' care.|\n",
    "|Receipt number|Unique number assigned to each financial transaction that occurs in Chameleon database.|\n",
    "|Impound Number|Unique number assigned to each impound performed by DAS staff; each impound can include multiple animals.|\n",
    "|Service Request Number|Unique number assigned to each impound performed by DAS staff; each impound can include multiple animals.|\n",
    "|Outcome condition|Apparent medical condition of the animal when it was released from DAS.|\n",
    "|Chip status|Notates whether staff were successful in scanning animal for a microchip.|\n",
    "|Animal origin| Notates whether the animal came in through DAS' Pet Support Lobby (Over the Counter) or through Field Services (Field).|\n",
    "|Additional Information|Additional staff notes.|\n",
    "|Month|Month the record was created.|\n",
    "|Year |City of Dallas Fiscal Year the record was created.|\n",
    "|Date of Birth | Birth date of the animal  |\n",
    "|Sex upon outcome | Whether the animal was neutered/spayed during outcome  |\n",
    "|Age upon outcome | Age of animal at time of outcome|\n",
    "|Breed |Breed of animal|\n",
    "|Color |The color of the animal|"
   ]
  },
  {
   "cell_type": "markdown",
   "id": "7b4d21e0-248c-459f-848c-ba82b6dc612b",
   "metadata": {},
   "source": [
    "### Bring in Data for Exploration"
   ]
  },
  {
   "cell_type": "code",
   "execution_count": 5,
   "id": "82b55ba1-fa0b-4898-8161-35c3b922e48e",
   "metadata": {},
   "outputs": [],
   "source": [
    "# Bringing in data and prparing it for exploration\n",
    "df = w.left_join_csv('austin_animal_outcomes.csv', 'austin_animal_intakes.csv', 'merged_data.csv')"
   ]
  },
  {
   "cell_type": "code",
   "execution_count": 6,
   "id": "38ee5477-9cd2-4146-b2de-062019c8958b",
   "metadata": {
    "tags": []
   },
   "outputs": [
    {
     "data": {
      "text/html": [
       "<div>\n",
       "<style scoped>\n",
       "    .dataframe tbody tr th:only-of-type {\n",
       "        vertical-align: middle;\n",
       "    }\n",
       "\n",
       "    .dataframe tbody tr th {\n",
       "        vertical-align: top;\n",
       "    }\n",
       "\n",
       "    .dataframe thead th {\n",
       "        text-align: right;\n",
       "    }\n",
       "</style>\n",
       "<table border=\"1\" class=\"dataframe\">\n",
       "  <thead>\n",
       "    <tr style=\"text-align: right;\">\n",
       "      <th></th>\n",
       "      <th>Animal ID</th>\n",
       "      <th>Name_x</th>\n",
       "      <th>DateTime_x</th>\n",
       "      <th>MonthYear_x</th>\n",
       "      <th>Date of Birth</th>\n",
       "      <th>Outcome Type</th>\n",
       "      <th>Outcome Subtype</th>\n",
       "      <th>Animal Type_x</th>\n",
       "      <th>Sex upon Outcome</th>\n",
       "      <th>Age upon Outcome</th>\n",
       "      <th>...</th>\n",
       "      <th>DateTime_y</th>\n",
       "      <th>MonthYear_y</th>\n",
       "      <th>Found Location</th>\n",
       "      <th>Intake Type</th>\n",
       "      <th>Intake Condition</th>\n",
       "      <th>Animal Type_y</th>\n",
       "      <th>Sex upon Intake</th>\n",
       "      <th>Age upon Intake</th>\n",
       "      <th>Breed_y</th>\n",
       "      <th>Color_y</th>\n",
       "    </tr>\n",
       "  </thead>\n",
       "  <tbody>\n",
       "    <tr>\n",
       "      <th>0</th>\n",
       "      <td>A794011</td>\n",
       "      <td>Chunk</td>\n",
       "      <td>05/08/2019 06:20:00 PM</td>\n",
       "      <td>May 2019</td>\n",
       "      <td>05/02/2017</td>\n",
       "      <td>Rto-Adopt</td>\n",
       "      <td>NaN</td>\n",
       "      <td>Cat</td>\n",
       "      <td>Neutered Male</td>\n",
       "      <td>2 years</td>\n",
       "      <td>...</td>\n",
       "      <td>05/02/2019 04:51:00 PM</td>\n",
       "      <td>May 2019</td>\n",
       "      <td>Austin (TX)</td>\n",
       "      <td>Owner Surrender</td>\n",
       "      <td>Normal</td>\n",
       "      <td>Cat</td>\n",
       "      <td>Neutered Male</td>\n",
       "      <td>2 years</td>\n",
       "      <td>Domestic Shorthair Mix</td>\n",
       "      <td>Brown Tabby/White</td>\n",
       "    </tr>\n",
       "    <tr>\n",
       "      <th>1</th>\n",
       "      <td>A776359</td>\n",
       "      <td>Gizmo</td>\n",
       "      <td>07/18/2018 04:02:00 PM</td>\n",
       "      <td>Jul 2018</td>\n",
       "      <td>07/12/2017</td>\n",
       "      <td>Adoption</td>\n",
       "      <td>NaN</td>\n",
       "      <td>Dog</td>\n",
       "      <td>Neutered Male</td>\n",
       "      <td>1 year</td>\n",
       "      <td>...</td>\n",
       "      <td>07/12/2018 12:46:00 PM</td>\n",
       "      <td>July 2018</td>\n",
       "      <td>7201 Levander Loop in Austin (TX)</td>\n",
       "      <td>Stray</td>\n",
       "      <td>Normal</td>\n",
       "      <td>Dog</td>\n",
       "      <td>Intact Male</td>\n",
       "      <td>1 year</td>\n",
       "      <td>Chihuahua Shorthair Mix</td>\n",
       "      <td>White/Brown</td>\n",
       "    </tr>\n",
       "    <tr>\n",
       "      <th>2</th>\n",
       "      <td>A821648</td>\n",
       "      <td>NaN</td>\n",
       "      <td>08/16/2020 11:38:00 AM</td>\n",
       "      <td>Aug 2020</td>\n",
       "      <td>08/16/2019</td>\n",
       "      <td>Euthanasia</td>\n",
       "      <td>NaN</td>\n",
       "      <td>Other</td>\n",
       "      <td>Unknown</td>\n",
       "      <td>1 year</td>\n",
       "      <td>...</td>\n",
       "      <td>08/16/2020 10:10:00 AM</td>\n",
       "      <td>August 2020</td>\n",
       "      <td>Armadillo Rd And Clubway Ln in Austin (TX)</td>\n",
       "      <td>Wildlife</td>\n",
       "      <td>Sick</td>\n",
       "      <td>Other</td>\n",
       "      <td>Unknown</td>\n",
       "      <td>1 year</td>\n",
       "      <td>Raccoon</td>\n",
       "      <td>Gray</td>\n",
       "    </tr>\n",
       "    <tr>\n",
       "      <th>3</th>\n",
       "      <td>A720371</td>\n",
       "      <td>Moose</td>\n",
       "      <td>02/13/2016 05:59:00 PM</td>\n",
       "      <td>Feb 2016</td>\n",
       "      <td>10/08/2015</td>\n",
       "      <td>Adoption</td>\n",
       "      <td>NaN</td>\n",
       "      <td>Dog</td>\n",
       "      <td>Neutered Male</td>\n",
       "      <td>4 months</td>\n",
       "      <td>...</td>\n",
       "      <td>02/08/2016 11:05:00 AM</td>\n",
       "      <td>February 2016</td>\n",
       "      <td>Dove Dr And E Stassney in Austin (TX)</td>\n",
       "      <td>Stray</td>\n",
       "      <td>Normal</td>\n",
       "      <td>Dog</td>\n",
       "      <td>Intact Male</td>\n",
       "      <td>4 months</td>\n",
       "      <td>Anatol Shepherd/Labrador Retriever</td>\n",
       "      <td>Buff</td>\n",
       "    </tr>\n",
       "    <tr>\n",
       "      <th>4</th>\n",
       "      <td>A720371</td>\n",
       "      <td>Moose</td>\n",
       "      <td>02/13/2016 05:59:00 PM</td>\n",
       "      <td>Feb 2016</td>\n",
       "      <td>10/08/2015</td>\n",
       "      <td>Adoption</td>\n",
       "      <td>NaN</td>\n",
       "      <td>Dog</td>\n",
       "      <td>Neutered Male</td>\n",
       "      <td>4 months</td>\n",
       "      <td>...</td>\n",
       "      <td>02/15/2016 10:37:00 AM</td>\n",
       "      <td>February 2016</td>\n",
       "      <td>Austin (TX)</td>\n",
       "      <td>Owner Surrender</td>\n",
       "      <td>Normal</td>\n",
       "      <td>Dog</td>\n",
       "      <td>Neutered Male</td>\n",
       "      <td>4 months</td>\n",
       "      <td>Anatol Shepherd/Labrador Retriever</td>\n",
       "      <td>Buff</td>\n",
       "    </tr>\n",
       "  </tbody>\n",
       "</table>\n",
       "<p>5 rows × 23 columns</p>\n",
       "</div>"
      ],
      "text/plain": [
       "  Animal ID Name_x              DateTime_x MonthYear_x Date of Birth  \\\n",
       "0   A794011  Chunk  05/08/2019 06:20:00 PM    May 2019    05/02/2017   \n",
       "1   A776359  Gizmo  07/18/2018 04:02:00 PM    Jul 2018    07/12/2017   \n",
       "2   A821648    NaN  08/16/2020 11:38:00 AM    Aug 2020    08/16/2019   \n",
       "3   A720371  Moose  02/13/2016 05:59:00 PM    Feb 2016    10/08/2015   \n",
       "4   A720371  Moose  02/13/2016 05:59:00 PM    Feb 2016    10/08/2015   \n",
       "\n",
       "  Outcome Type Outcome Subtype Animal Type_x Sex upon Outcome  \\\n",
       "0    Rto-Adopt             NaN           Cat    Neutered Male   \n",
       "1     Adoption             NaN           Dog    Neutered Male   \n",
       "2   Euthanasia             NaN         Other          Unknown   \n",
       "3     Adoption             NaN           Dog    Neutered Male   \n",
       "4     Adoption             NaN           Dog    Neutered Male   \n",
       "\n",
       "  Age upon Outcome  ...              DateTime_y    MonthYear_y  \\\n",
       "0          2 years  ...  05/02/2019 04:51:00 PM       May 2019   \n",
       "1           1 year  ...  07/12/2018 12:46:00 PM      July 2018   \n",
       "2           1 year  ...  08/16/2020 10:10:00 AM    August 2020   \n",
       "3         4 months  ...  02/08/2016 11:05:00 AM  February 2016   \n",
       "4         4 months  ...  02/15/2016 10:37:00 AM  February 2016   \n",
       "\n",
       "                               Found Location      Intake Type  \\\n",
       "0                                 Austin (TX)  Owner Surrender   \n",
       "1           7201 Levander Loop in Austin (TX)            Stray   \n",
       "2  Armadillo Rd And Clubway Ln in Austin (TX)         Wildlife   \n",
       "3       Dove Dr And E Stassney in Austin (TX)            Stray   \n",
       "4                                 Austin (TX)  Owner Surrender   \n",
       "\n",
       "  Intake Condition Animal Type_y Sex upon Intake Age upon Intake  \\\n",
       "0           Normal           Cat   Neutered Male         2 years   \n",
       "1           Normal           Dog     Intact Male          1 year   \n",
       "2             Sick         Other         Unknown          1 year   \n",
       "3           Normal           Dog     Intact Male        4 months   \n",
       "4           Normal           Dog   Neutered Male        4 months   \n",
       "\n",
       "                              Breed_y            Color_y  \n",
       "0              Domestic Shorthair Mix  Brown Tabby/White  \n",
       "1             Chihuahua Shorthair Mix        White/Brown  \n",
       "2                             Raccoon               Gray  \n",
       "3  Anatol Shepherd/Labrador Retriever               Buff  \n",
       "4  Anatol Shepherd/Labrador Retriever               Buff  \n",
       "\n",
       "[5 rows x 23 columns]"
      ]
     },
     "execution_count": 6,
     "metadata": {},
     "output_type": "execute_result"
    }
   ],
   "source": [
    "df.head()"
   ]
  },
  {
   "cell_type": "code",
   "execution_count": 7,
   "id": "f62cd597-0092-48bb-842a-7d67aee9c868",
   "metadata": {},
   "outputs": [
    {
     "ename": "AttributeError",
     "evalue": "module 'wrangle' has no attribute 'get_prep_aa'",
     "output_type": "error",
     "traceback": [
      "\u001b[0;31m---------------------------------------------------------------------------\u001b[0m",
      "\u001b[0;31mAttributeError\u001b[0m                            Traceback (most recent call last)",
      "Input \u001b[0;32mIn [7]\u001b[0m, in \u001b[0;36m<cell line: 1>\u001b[0;34m()\u001b[0m\n\u001b[0;32m----> 1\u001b[0m df, model_df \u001b[38;5;241m=\u001b[39m \u001b[43mw\u001b[49m\u001b[38;5;241;43m.\u001b[39;49m\u001b[43mget_prep_aa\u001b[49m(df)\n",
      "\u001b[0;31mAttributeError\u001b[0m: module 'wrangle' has no attribute 'get_prep_aa'"
     ]
    }
   ],
   "source": [
    "df, model_df = w.get_prep_aa(df)"
   ]
  },
  {
   "cell_type": "markdown",
   "id": "d20ea549-d03b-4671-aaf0-2fac30ea4d0e",
   "metadata": {},
   "source": [
    "### Sneak Peak at the Data\n"
   ]
  },
  {
   "cell_type": "code",
   "execution_count": null,
   "id": "e52be9b6-cd07-43ed-a13b-48c4f8b9a659",
   "metadata": {
    "tags": []
   },
   "outputs": [],
   "source": [
    "df.describe()"
   ]
  },
  {
   "cell_type": "code",
   "execution_count": null,
   "id": "e9616431-a2ad-4874-9523-82397e64ded8",
   "metadata": {
    "tags": []
   },
   "outputs": [],
   "source": [
    "model_df.describe()"
   ]
  },
  {
   "cell_type": "markdown",
   "id": "fc2c096e-d449-4973-82a6-b9631eaff7a4",
   "metadata": {},
   "source": [
    "### Summary of Data"
   ]
  },
  {
   "cell_type": "code",
   "execution_count": null,
   "id": "753af9a8-b82b-47e2-9076-326184f44731",
   "metadata": {
    "tags": []
   },
   "outputs": [],
   "source": [
    "def plot_categorical_variables_1(df):\n",
    "    for column in df.columns:\n",
    "        if df[column].dtype == 'object':\n",
    "            if len(df[column].unique()) > 10:\n",
    "                   plt.figure(figsize=(12, 6))\n",
    "            else:\n",
    "                plt.figure()\n",
    "                \n",
    "            sns.countplot(df[column])\n",
    "            plt.title(column)\n",
    "            plt.xticks(rotation=45)\n",
    "            plt.show()\n",
    "\n",
    "# Example usage:\n",
    "# Assuming 'data' is your DataFrame containing categorical variables\n",
    "plot_categorical_variables_1(df)"
   ]
  },
  {
   "cell_type": "code",
   "execution_count": null,
   "id": "934ffe93-6e29-4bf4-a1db-8652e035a9b9",
   "metadata": {
    "tags": []
   },
   "outputs": [],
   "source": [
    "import plotly.express as px\n",
    "\n",
    "\n",
    "def plot_categorical_variables_2(df):\n",
    "    for column in df.columns:\n",
    "        if df[column].dtype == 'object':\n",
    "            fig = px.histogram(df, x=column)\n",
    "            fig.update_traces(hovertemplate='Count: %{y}')\n",
    "            fig.update_layout(title=column)\n",
    "            fig.show()\n",
    "\n",
    "# Example usage:\n",
    "# Assuming 'data' is your DataFrame containing categorical variables\n",
    "plot_categorical_variables_2(df)"
   ]
  },
  {
   "cell_type": "code",
   "execution_count": null,
   "id": "cec5efae-9649-406a-b785-cbf0f082ef10",
   "metadata": {},
   "outputs": [],
   "source": [
    "def plot_categorical_variable_3(model_df):\n",
    "    for column in model_df.columns:\n",
    "        if model_df[column].dtype == 'object':\n",
    "            if len(model_df[column].unique()) > 10:\n",
    "                   plt.figure(figsize=(12, 6))\n",
    "            else:\n",
    "                plt.figure()\n",
    "                \n",
    "            sns.countplot(model_df[column])\n",
    "            plt.title(column)\n",
    "            plt.xticks(rotation=45)\n",
    "            plt.show()\n",
    "\n",
    "# Example usage:\n",
    "# Assuming 'data' is your DataFrame containing categorical variables\n",
    "plot_categorical_variables_3(model_df)"
   ]
  },
  {
   "cell_type": "code",
   "execution_count": null,
   "id": "2c113b96-e70a-4426-b024-86d9ae7591bb",
   "metadata": {},
   "outputs": [],
   "source": [
    "def plot_categorical_variables_4(model_df):\n",
    "    for column in model_df.columns:\n",
    "        if model_df[column].dtype == 'object':\n",
    "            fig = px.histogram(model_df, x=column)\n",
    "            fig.update_traces(hovertemplate='Count: %{y}')\n",
    "            fig.update_layout(title=column)\n",
    "            fig.show()\n",
    "\n",
    "# Example usage:\n",
    "# Assuming 'data' is your DataFrame containing categorical variables\n",
    "plot_categorical_variables_4(model_df)"
   ]
  },
  {
   "cell_type": "markdown",
   "id": "8d2f6eeb-6226-4091-a869-56950471443d",
   "metadata": {},
   "source": [
    "## Exploration"
   ]
  },
  {
   "cell_type": "markdown",
   "id": "ff2352d5-1b7d-403a-9fef-a4b7981220f7",
   "metadata": {},
   "source": [
    "* Questions 1,2,3,\n"
   ]
  },
  {
   "cell_type": "markdown",
   "id": "f4410da8-55bc-4b3f-bad7-04b1188e60e3",
   "metadata": {},
   "source": [
    "### Q . "
   ]
  },
  {
   "cell_type": "markdown",
   "id": "adf54ddb-4e56-4261-ae34-edf219e68783",
   "metadata": {
    "tags": []
   },
   "source": [
    "#### Observations: \n"
   ]
  },
  {
   "cell_type": "code",
   "execution_count": null,
   "id": "d96f2084-f1df-49cd-940e-b39912484a55",
   "metadata": {},
   "outputs": [],
   "source": []
  },
  {
   "cell_type": "markdown",
   "id": "32f2fd68-bee8-443b-bd6a-3e086245332f",
   "metadata": {},
   "source": [
    "### Q 1"
   ]
  },
  {
   "cell_type": "markdown",
   "id": "e34ea7b4-665e-4122-a668-291e48a928ca",
   "metadata": {
    "tags": []
   },
   "source": []
  },
  {
   "cell_type": "code",
   "execution_count": null,
   "id": "cd9fb291-8bee-4c32-9c4c-4847c8e8e909",
   "metadata": {},
   "outputs": [],
   "source": []
  },
  {
   "cell_type": "code",
   "execution_count": null,
   "id": "69ed31db-c42e-4e2b-8dab-b3c7f7b29c75",
   "metadata": {},
   "outputs": [],
   "source": []
  },
  {
   "cell_type": "code",
   "execution_count": null,
   "id": "4499b706-c3fb-42bd-81a0-2574b1c0ffc6",
   "metadata": {},
   "outputs": [],
   "source": []
  },
  {
   "cell_type": "markdown",
   "id": "64726d7d-8fff-4083-8411-b0f6f7f5ce43",
   "metadata": {},
   "source": [
    "### Q 2"
   ]
  },
  {
   "cell_type": "markdown",
   "id": "ea54d254-8b85-41b4-9335-fcdc076cb996",
   "metadata": {
    "tags": []
   },
   "source": [
    "####  Observations: \n"
   ]
  },
  {
   "cell_type": "code",
   "execution_count": null,
   "id": "b3834665-74fb-41fc-aa4e-b02921d651d6",
   "metadata": {
    "scrolled": true,
    "tags": []
   },
   "outputs": [],
   "source": []
  },
  {
   "cell_type": "markdown",
   "id": "03933b4a-a65c-4840-a295-c13beac00edc",
   "metadata": {},
   "source": [
    "### Q 3 "
   ]
  },
  {
   "cell_type": "markdown",
   "id": "c89c390c-98a8-4486-9961-4866d8cf6e2f",
   "metadata": {},
   "source": [
    "####  Observations: \n",
    "*"
   ]
  },
  {
   "cell_type": "code",
   "execution_count": null,
   "id": "62d6e2d2-475f-4c4e-93fa-672e96b93428",
   "metadata": {},
   "outputs": [],
   "source": []
  },
  {
   "cell_type": "markdown",
   "id": "79cb3115-2e4b-4b4b-9cec-05910031d8d3",
   "metadata": {},
   "source": [
    "### Q 4 "
   ]
  },
  {
   "cell_type": "markdown",
   "id": "cba3ebdc-8a87-4243-a3a8-ced7c8194538",
   "metadata": {},
   "source": [
    "####  Observations: \n"
   ]
  },
  {
   "cell_type": "code",
   "execution_count": null,
   "id": "bcac7f8f-95ba-41d3-b285-b701f9705a09",
   "metadata": {},
   "outputs": [],
   "source": []
  },
  {
   "cell_type": "code",
   "execution_count": null,
   "id": "f30dcd2c-7ba0-4ca7-b87a-ac90d3c4d70a",
   "metadata": {},
   "outputs": [],
   "source": []
  },
  {
   "cell_type": "markdown",
   "id": "593736ce-4878-4340-b518-c74002fff7df",
   "metadata": {},
   "source": [
    "## Exploration Summary\n"
   ]
  },
  {
   "cell_type": "markdown",
   "id": "2e9ef6dd-7a7e-40e8-90e3-52fbb6246213",
   "metadata": {},
   "source": [
    "## Report - Conclusion\n",
    "### Summary\n",
    "\n",
    "\n",
    "### Recommendations\n",
    "\n",
    "* Provide additional takeaways or downloadable docs for extensively used topics\n",
    "* We have data governance recommendations:\n",
    "    - We found tens of thousands of rows with data that was missing and/or had nonsensical information\n",
    "    * Collect information more information such as: \n",
    "        - Incidents (e.g. biting, abuse hx) \n",
    "        - Stated reason for return \n",
    "        - Reasons for turn in by owners\n",
    "        - Vaccination status\n",
    "        - Who turned the animal in (e.g. citizen, law enforcement, organization)\n",
    "\n",
    "### Next Steps\n",
    "* If provided more time we could have looked further into the additional two questions, and connected unknown users to cohorts"
   ]
  }
 ],
 "metadata": {
  "kernelspec": {
   "display_name": "Python 3 (ipykernel)",
   "language": "python",
   "name": "python3"
  },
  "language_info": {
   "codemirror_mode": {
    "name": "ipython",
    "version": 3
   },
   "file_extension": ".py",
   "mimetype": "text/x-python",
   "name": "python",
   "nbconvert_exporter": "python",
   "pygments_lexer": "ipython3",
   "version": "3.9.13"
  },
  "toc-autonumbering": false
 },
 "nbformat": 4,
 "nbformat_minor": 5
}
