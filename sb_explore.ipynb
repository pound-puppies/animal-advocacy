{
 "cells": [
  {
   "cell_type": "code",
   "execution_count": 1,
   "id": "7b9d0e6c-493f-4d0a-a1d5-3e9003dfdcfb",
   "metadata": {},
   "outputs": [],
   "source": [
    "import warnings\n",
    "warnings.filterwarnings(\"ignore\")\n",
    "import wrangle as w\n",
    "\n",
    "import pandas as pd\n",
    "import numpy as np\n",
    "\n",
    "#splits\n",
    "from sklearn.model_selection import train_test_split\n",
    "\n",
    "#visualization\n",
    "import matplotlib.pyplot as plt\n",
    "from matplotlib import cm\n",
    "import seaborn as sns\n",
    "\n",
    "#scaling\n",
    "from sklearn.preprocessing import MinMaxScaler, StandardScaler, RobustScaler\n",
    "from sklearn.metrics import precision_score, accuracy_score, recall_score, classification_report\n",
    "\n",
    "#model\n",
    "from sklearn.ensemble import RandomForestClassifier\n",
    "from sklearn.tree import DecisionTreeClassifier, plot_tree\n",
    "from sklearn.linear_model import LogisticRegression\n"
   ]
  },
  {
   "cell_type": "markdown",
   "id": "4b134300-0dab-42ab-8e31-b5c646ae8d3d",
   "metadata": {},
   "source": [
    "# Acquire"
   ]
  },
  {
   "cell_type": "code",
   "execution_count": 4,
   "id": "33238931-8ffd-4243-a79a-efaf0981984b",
   "metadata": {},
   "outputs": [],
   "source": [
    "df = w.left_join_csv('austin_animal_outcomes.csv', 'austin_animal_intakes.csv', 'merged_data.csv')\n"
   ]
  },
  {
   "cell_type": "code",
   "execution_count": null,
   "id": "2a544c45-1ba7-4280-9c37-f57534c3f73f",
   "metadata": {},
   "outputs": [],
   "source": []
  },
  {
   "cell_type": "code",
   "execution_count": 6,
   "id": "afb3147d-e98e-4d0f-83c7-14d5c2a56a4c",
   "metadata": {},
   "outputs": [],
   "source": [
    "df=w.get_prep_aa(df)"
   ]
  },
  {
   "cell_type": "code",
   "execution_count": 7,
   "id": "4aa0092c-cd1c-4cd6-80a6-1925bbb62d16",
   "metadata": {},
   "outputs": [
    {
     "data": {
      "text/html": [
       "<div>\n",
       "<style scoped>\n",
       "    .dataframe tbody tr th:only-of-type {\n",
       "        vertical-align: middle;\n",
       "    }\n",
       "\n",
       "    .dataframe tbody tr th {\n",
       "        vertical-align: top;\n",
       "    }\n",
       "\n",
       "    .dataframe thead th {\n",
       "        text-align: right;\n",
       "    }\n",
       "</style>\n",
       "<table border=\"1\" class=\"dataframe\">\n",
       "  <thead>\n",
       "    <tr style=\"text-align: right;\">\n",
       "      <th></th>\n",
       "      <th>animal id</th>\n",
       "      <th>name</th>\n",
       "      <th>outcome</th>\n",
       "      <th>dob</th>\n",
       "      <th>intake_type</th>\n",
       "      <th>intake_datetime</th>\n",
       "      <th>outcome_datetime</th>\n",
       "      <th>intake_condition</th>\n",
       "      <th>intake_age</th>\n",
       "      <th>outcome_age</th>\n",
       "      <th>species</th>\n",
       "      <th>found_location</th>\n",
       "      <th>intake_sex</th>\n",
       "      <th>breed</th>\n",
       "      <th>color</th>\n",
       "    </tr>\n",
       "  </thead>\n",
       "  <tbody>\n",
       "    <tr>\n",
       "      <th>0</th>\n",
       "      <td>A794011</td>\n",
       "      <td>Chunk</td>\n",
       "      <td>Rto-Adopt</td>\n",
       "      <td>2017-05-02</td>\n",
       "      <td>Owner Surrender</td>\n",
       "      <td>2019-05-02 16:51:00</td>\n",
       "      <td>2019-05-08 18:20:00</td>\n",
       "      <td>Normal</td>\n",
       "      <td>24 days 08:00:00</td>\n",
       "      <td>24 days 12:48:00</td>\n",
       "      <td>Cat</td>\n",
       "      <td>Austin (TX)</td>\n",
       "      <td>Neutered Male</td>\n",
       "      <td>Domestic Shorthair Mix</td>\n",
       "      <td>Brown Tabby/White</td>\n",
       "    </tr>\n",
       "    <tr>\n",
       "      <th>1</th>\n",
       "      <td>A776359</td>\n",
       "      <td>Gizmo</td>\n",
       "      <td>Adoption</td>\n",
       "      <td>2017-07-12</td>\n",
       "      <td>Stray</td>\n",
       "      <td>2018-07-12 12:46:00</td>\n",
       "      <td>2018-07-18 16:02:00</td>\n",
       "      <td>Normal</td>\n",
       "      <td>12 days 04:00:00</td>\n",
       "      <td>12 days 08:48:00</td>\n",
       "      <td>Dog</td>\n",
       "      <td>7201 Levander Loop in Austin (TX)</td>\n",
       "      <td>Intact Male</td>\n",
       "      <td>Chihuahua Shorthair Mix</td>\n",
       "      <td>White/Brown</td>\n",
       "    </tr>\n",
       "    <tr>\n",
       "      <th>3</th>\n",
       "      <td>A720371</td>\n",
       "      <td>Moose</td>\n",
       "      <td>Adoption</td>\n",
       "      <td>2015-10-08</td>\n",
       "      <td>Stray</td>\n",
       "      <td>2016-02-08 11:05:00</td>\n",
       "      <td>2016-02-13 17:59:00</td>\n",
       "      <td>Normal</td>\n",
       "      <td>4 days 02:24:00</td>\n",
       "      <td>4 days 06:24:00</td>\n",
       "      <td>Dog</td>\n",
       "      <td>Dove Dr And E Stassney in Austin (TX)</td>\n",
       "      <td>Intact Male</td>\n",
       "      <td>Anatol Shepherd/Labrador Retriever</td>\n",
       "      <td>Buff</td>\n",
       "    </tr>\n",
       "    <tr>\n",
       "      <th>4</th>\n",
       "      <td>A720371</td>\n",
       "      <td>Moose</td>\n",
       "      <td>Adoption</td>\n",
       "      <td>2015-10-08</td>\n",
       "      <td>Owner Surrender</td>\n",
       "      <td>2016-02-15 10:37:00</td>\n",
       "      <td>2016-02-13 17:59:00</td>\n",
       "      <td>Normal</td>\n",
       "      <td>4 days 08:00:00</td>\n",
       "      <td>4 days 06:24:00</td>\n",
       "      <td>Dog</td>\n",
       "      <td>Austin (TX)</td>\n",
       "      <td>Neutered Male</td>\n",
       "      <td>Anatol Shepherd/Labrador Retriever</td>\n",
       "      <td>Buff</td>\n",
       "    </tr>\n",
       "    <tr>\n",
       "      <th>5</th>\n",
       "      <td>A674754</td>\n",
       "      <td>NaN</td>\n",
       "      <td>Transfer</td>\n",
       "      <td>2014-03-12</td>\n",
       "      <td>Stray</td>\n",
       "      <td>2014-03-18 07:11:00</td>\n",
       "      <td>2014-03-18 11:47:00</td>\n",
       "      <td>Nursing</td>\n",
       "      <td>0 days 04:48:00</td>\n",
       "      <td>0 days 04:48:00</td>\n",
       "      <td>Cat</td>\n",
       "      <td>12034 Research in Austin (TX)</td>\n",
       "      <td>Intact Male</td>\n",
       "      <td>Domestic Shorthair Mix</td>\n",
       "      <td>Orange Tabby</td>\n",
       "    </tr>\n",
       "  </tbody>\n",
       "</table>\n",
       "</div>"
      ],
      "text/plain": [
       "  animal id   name    outcome        dob      intake_type     intake_datetime  \\\n",
       "0   A794011  Chunk  Rto-Adopt 2017-05-02  Owner Surrender 2019-05-02 16:51:00   \n",
       "1   A776359  Gizmo   Adoption 2017-07-12            Stray 2018-07-12 12:46:00   \n",
       "3   A720371  Moose   Adoption 2015-10-08            Stray 2016-02-08 11:05:00   \n",
       "4   A720371  Moose   Adoption 2015-10-08  Owner Surrender 2016-02-15 10:37:00   \n",
       "5   A674754    NaN   Transfer 2014-03-12            Stray 2014-03-18 07:11:00   \n",
       "\n",
       "     outcome_datetime intake_condition       intake_age      outcome_age  \\\n",
       "0 2019-05-08 18:20:00           Normal 24 days 08:00:00 24 days 12:48:00   \n",
       "1 2018-07-18 16:02:00           Normal 12 days 04:00:00 12 days 08:48:00   \n",
       "3 2016-02-13 17:59:00           Normal  4 days 02:24:00  4 days 06:24:00   \n",
       "4 2016-02-13 17:59:00           Normal  4 days 08:00:00  4 days 06:24:00   \n",
       "5 2014-03-18 11:47:00          Nursing  0 days 04:48:00  0 days 04:48:00   \n",
       "\n",
       "  species                         found_location     intake_sex  \\\n",
       "0     Cat                            Austin (TX)  Neutered Male   \n",
       "1     Dog      7201 Levander Loop in Austin (TX)    Intact Male   \n",
       "3     Dog  Dove Dr And E Stassney in Austin (TX)    Intact Male   \n",
       "4     Dog                            Austin (TX)  Neutered Male   \n",
       "5     Cat          12034 Research in Austin (TX)    Intact Male   \n",
       "\n",
       "                                breed              color  \n",
       "0              Domestic Shorthair Mix  Brown Tabby/White  \n",
       "1             Chihuahua Shorthair Mix        White/Brown  \n",
       "3  Anatol Shepherd/Labrador Retriever               Buff  \n",
       "4  Anatol Shepherd/Labrador Retriever               Buff  \n",
       "5              Domestic Shorthair Mix       Orange Tabby  "
      ]
     },
     "execution_count": 7,
     "metadata": {},
     "output_type": "execute_result"
    }
   ],
   "source": [
    "df.head()"
   ]
  },
  {
   "cell_type": "code",
   "execution_count": 9,
   "id": "633d1dc3-343f-4d70-838d-2a77f2214d8e",
   "metadata": {},
   "outputs": [
    {
     "data": {
      "text/plain": [
       "Adoption           92004\n",
       "Transfer           46815\n",
       "Return to Owner    40444\n",
       "Euthanasia          4702\n",
       "Rto-Adopt           1909\n",
       "Died                1234\n",
       "Disposal             177\n",
       "Missing               98\n",
       "Stolen                12\n",
       "Relocate               6\n",
       "Name: outcome, dtype: int64"
      ]
     },
     "execution_count": 9,
     "metadata": {},
     "output_type": "execute_result"
    }
   ],
   "source": [
    "df.outcome.value_counts()"
   ]
  },
  {
   "cell_type": "code",
   "execution_count": 11,
   "id": "7be79585-f4e3-4a76-bffb-3f89a69fd6c6",
   "metadata": {},
   "outputs": [
    {
     "data": {
      "text/plain": [
       "Normal        166526\n",
       "Injured         8903\n",
       "Sick            5465\n",
       "Nursing         3969\n",
       "Neonatal         884\n",
       "Aged             586\n",
       "Other            372\n",
       "Medical          302\n",
       "Feral            144\n",
       "Pregnant         143\n",
       "Behavior          97\n",
       "Med Attn          17\n",
       "Neurologic         7\n",
       "Med Urgent         7\n",
       "Space              4\n",
       "Unknown            4\n",
       "Parvo              3\n",
       "Agonal             2\n",
       "Panleuk            1\n",
       "Name: intake_condition, dtype: int64"
      ]
     },
     "execution_count": 11,
     "metadata": {},
     "output_type": "execute_result"
    }
   ],
   "source": [
    "df.intake_condition.value_counts()"
   ]
  },
  {
   "cell_type": "code",
   "execution_count": 12,
   "id": "f28abc9d-1643-441d-b361-c0c30db9186b",
   "metadata": {},
   "outputs": [
    {
     "data": {
      "text/plain": [
       "Domestic Shorthair Mix               36824\n",
       "Pit Bull Mix                         16313\n",
       "Domestic Shorthair                   16237\n",
       "Labrador Retriever Mix               11690\n",
       "Chihuahua Shorthair Mix               8335\n",
       "                                     ...  \n",
       "Schnauzer Giant/Otterhound               1\n",
       "Greyhound/Border Collie                  1\n",
       "Miniature Schnauzer/West Highland        1\n",
       "Alaskan Husky/Collie Smooth              1\n",
       "Catahoula/Black/Tan Hound                1\n",
       "Name: breed, Length: 2633, dtype: int64"
      ]
     },
     "execution_count": 12,
     "metadata": {},
     "output_type": "execute_result"
    }
   ],
   "source": [
    "df.breed.value_counts()"
   ]
  },
  {
   "cell_type": "code",
   "execution_count": 13,
   "id": "e881d917-444b-4f2f-b75f-3b5d0eb23547",
   "metadata": {},
   "outputs": [
    {
     "data": {
      "text/plain": [
       "0     Brown Tabby/White\n",
       "1           White/Brown\n",
       "3                  Buff\n",
       "4                  Buff\n",
       "5          Orange Tabby\n",
       "6                 Brown\n",
       "7                 Brown\n",
       "8           White/Brown\n",
       "9           Brown Tabby\n",
       "10                Black\n",
       "Name: color, dtype: object"
      ]
     },
     "execution_count": 13,
     "metadata": {},
     "output_type": "execute_result"
    }
   ],
   "source": [
    "df.color.head(10)"
   ]
  },
  {
   "cell_type": "markdown",
   "id": "99607fbc-daac-40f8-a791-a058c5a0bb95",
   "metadata": {},
   "source": [
    "# Prepare"
   ]
  },
  {
   "cell_type": "markdown",
   "id": "d586a198-e26b-419c-86d4-628c3ce4ff96",
   "metadata": {},
   "source": [
    "# "
   ]
  },
  {
   "cell_type": "raw",
   "id": "a9d7b846-5f54-43a7-8b76-f03e6ca69c8d",
   "metadata": {},
   "source": []
  },
  {
   "cell_type": "code",
   "execution_count": null,
   "id": "c34bed0b-0021-4df7-9f38-1a634ab84ab3",
   "metadata": {},
   "outputs": [],
   "source": []
  },
  {
   "cell_type": "code",
   "execution_count": null,
   "id": "88af8b38-8bed-4cc6-a188-ad3bddaf3920",
   "metadata": {},
   "outputs": [],
   "source": []
  },
  {
   "cell_type": "code",
   "execution_count": null,
   "id": "3df3df75-b59f-4d1a-9306-f6da7193b131",
   "metadata": {},
   "outputs": [],
   "source": []
  },
  {
   "cell_type": "markdown",
   "id": "f1967324-16f6-412c-aeb3-a4ff0453559a",
   "metadata": {},
   "source": [
    "# Question and Hypothesis Statement"
   ]
  },
  {
   "cell_type": "code",
   "execution_count": null,
   "id": "1b164e40-106e-4cce-a912-e817972eee46",
   "metadata": {},
   "outputs": [],
   "source": []
  },
  {
   "cell_type": "code",
   "execution_count": null,
   "id": "4b8cb320-d5e3-4b7e-903a-7f71d11cb2b3",
   "metadata": {},
   "outputs": [],
   "source": []
  },
  {
   "cell_type": "code",
   "execution_count": null,
   "id": "a3069868-3397-4fd4-8848-7a1cf75e7e8f",
   "metadata": {},
   "outputs": [],
   "source": []
  },
  {
   "cell_type": "code",
   "execution_count": null,
   "id": "8427a1b7-5739-45c6-b460-4b3cbe3f2ff6",
   "metadata": {},
   "outputs": [],
   "source": []
  },
  {
   "cell_type": "markdown",
   "id": "9fdf98ed-dcd0-475f-902d-c988eb6a730c",
   "metadata": {},
   "source": [
    "# Conclusion"
   ]
  },
  {
   "cell_type": "code",
   "execution_count": null,
   "id": "893a4f15-e3d6-48ae-85e2-01645b591f7e",
   "metadata": {},
   "outputs": [],
   "source": []
  },
  {
   "cell_type": "code",
   "execution_count": null,
   "id": "3024756c-d805-457e-bae3-e8dcb8d92ac2",
   "metadata": {},
   "outputs": [],
   "source": []
  },
  {
   "cell_type": "code",
   "execution_count": null,
   "id": "0992070f-9529-4a3c-a8f2-1cedc5facd85",
   "metadata": {},
   "outputs": [],
   "source": []
  },
  {
   "cell_type": "code",
   "execution_count": null,
   "id": "5bb800df-6ebf-4423-adfd-03c3a7b9ee78",
   "metadata": {},
   "outputs": [],
   "source": []
  },
  {
   "cell_type": "markdown",
   "id": "f85269e6-b7e5-443c-a004-92d0ac0d386c",
   "metadata": {},
   "source": [
    "# Question and Hypothesis Statement"
   ]
  },
  {
   "cell_type": "code",
   "execution_count": null,
   "id": "36a62b51-266b-4277-bda3-d3b3a291b53a",
   "metadata": {},
   "outputs": [],
   "source": []
  },
  {
   "cell_type": "code",
   "execution_count": null,
   "id": "2f3c45bf-e797-4362-9b46-51dd478e3b08",
   "metadata": {},
   "outputs": [],
   "source": []
  },
  {
   "cell_type": "code",
   "execution_count": null,
   "id": "38003905-7924-48a2-b19f-3e89aba68154",
   "metadata": {},
   "outputs": [],
   "source": []
  },
  {
   "cell_type": "code",
   "execution_count": null,
   "id": "785ff02a-00d8-4c1c-b655-48d879928dac",
   "metadata": {},
   "outputs": [],
   "source": []
  },
  {
   "cell_type": "markdown",
   "id": "faff10f7-71c6-49ee-8c95-8b180a9e6e62",
   "metadata": {},
   "source": [
    "# Conclusion"
   ]
  },
  {
   "cell_type": "code",
   "execution_count": null,
   "id": "14ad2e8c-de85-4b59-8d1c-9fc1aa97a349",
   "metadata": {},
   "outputs": [],
   "source": []
  },
  {
   "cell_type": "code",
   "execution_count": null,
   "id": "098adb44-18ed-47c8-ae5f-f765f4e3ce74",
   "metadata": {},
   "outputs": [],
   "source": []
  },
  {
   "cell_type": "code",
   "execution_count": null,
   "id": "f698958d-a6dc-4f2e-91ce-b89dea00842d",
   "metadata": {},
   "outputs": [],
   "source": []
  },
  {
   "cell_type": "markdown",
   "id": "a9d602fb-6d06-407c-bf72-afc1829bde73",
   "metadata": {},
   "source": [
    "# Question and Hypothesis Statement"
   ]
  },
  {
   "cell_type": "code",
   "execution_count": null,
   "id": "987c80f3-a071-4937-8f9b-0f21273761c2",
   "metadata": {},
   "outputs": [],
   "source": []
  },
  {
   "cell_type": "code",
   "execution_count": null,
   "id": "13777fc7-b5be-4ff4-8c95-2fc5e9c85958",
   "metadata": {},
   "outputs": [],
   "source": []
  },
  {
   "cell_type": "code",
   "execution_count": null,
   "id": "e0b444ea-d88d-4b9a-9663-3cd2ac585757",
   "metadata": {},
   "outputs": [],
   "source": []
  },
  {
   "cell_type": "markdown",
   "id": "0a9dd157-18a4-4e00-8450-9be9c9edcb7a",
   "metadata": {},
   "source": [
    "# Conclusion"
   ]
  }
 ],
 "metadata": {
  "kernelspec": {
   "display_name": "Python 3 (ipykernel)",
   "language": "python",
   "name": "python3"
  },
  "language_info": {
   "codemirror_mode": {
    "name": "ipython",
    "version": 3
   },
   "file_extension": ".py",
   "mimetype": "text/x-python",
   "name": "python",
   "nbconvert_exporter": "python",
   "pygments_lexer": "ipython3",
   "version": "3.9.13"
  }
 },
 "nbformat": 4,
 "nbformat_minor": 5
}
