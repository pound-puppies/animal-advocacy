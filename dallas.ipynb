{
 "cells": [
  {
   "cell_type": "code",
   "execution_count": 1,
   "id": "5d9e5ff1",
   "metadata": {},
   "outputs": [],
   "source": [
    "import warnings\n",
    "warnings.filterwarnings(\"ignore\")\n",
    "import wrangle as w\n",
    "import functions as f\n",
    "\n",
    "import pandas as pd\n",
    "import numpy as np\n",
    "\n",
    "#splits\n",
    "from sklearn.model_selection import train_test_split\n",
    "\n",
    "#visualization\n",
    "import matplotlib.pyplot as plt\n",
    "from matplotlib import cm\n",
    "import seaborn as sns\n",
    "\n",
    "#scaling\n",
    "from sklearn.preprocessing import MinMaxScaler, StandardScaler, RobustScaler\n",
    "from sklearn.metrics import precision_score, accuracy_score, recall_score, classification_report\n",
    "\n",
    "#model\n",
    "from sklearn.ensemble import RandomForestClassifier\n",
    "from sklearn.tree import DecisionTreeClassifier, plot_tree\n",
    "from sklearn.linear_model import LogisticRegression\n"
   ]
  },
  {
   "cell_type": "code",
   "execution_count": 2,
   "id": "33333f97",
   "metadata": {},
   "outputs": [],
   "source": [
    "df = pd.read_csv(\"dallas.csv\")"
   ]
  },
  {
   "cell_type": "code",
   "execution_count": 3,
   "id": "2be7ecf5",
   "metadata": {},
   "outputs": [
    {
     "name": "stdout",
     "output_type": "stream",
     "text": [
      "<class 'pandas.core.frame.DataFrame'>\n",
      "RangeIndex: 27571 entries, 0 to 27570\n",
      "Data columns (total 33 columns):\n",
      " #   Column                  Non-Null Count  Dtype \n",
      "---  ------                  --------------  ----- \n",
      " 0   Animal Id               27571 non-null  object\n",
      " 1   Animal Type             27571 non-null  object\n",
      " 2   Animal Breed            27536 non-null  object\n",
      " 3   Kennel Number           27571 non-null  object\n",
      " 4   Kennel Status           27571 non-null  object\n",
      " 5   Activity Number         10644 non-null  object\n",
      " 6   Activity Sequence       27571 non-null  int64 \n",
      " 7   Source Id               27571 non-null  object\n",
      " 8   Census Tract            17461 non-null  object\n",
      " 9   Council District        17461 non-null  object\n",
      " 10  Intake Type             27571 non-null  object\n",
      " 11  Intake Subtype          27571 non-null  object\n",
      " 12  Intake Total            27571 non-null  int64 \n",
      " 13  Reason                  23469 non-null  object\n",
      " 14  Staff Id                27571 non-null  object\n",
      " 15  Intake Date             27571 non-null  object\n",
      " 16  Intake Time             27571 non-null  object\n",
      " 17  Due Out                 27571 non-null  object\n",
      " 18  Intake Condition        27571 non-null  object\n",
      " 19  Hold Request            19497 non-null  object\n",
      " 20  Outcome Type            27571 non-null  object\n",
      " 21  Outcome Subtype         27571 non-null  object\n",
      " 22  Outcome Date            26421 non-null  object\n",
      " 23  Outcome Time            27571 non-null  object\n",
      " 24  Receipt Number          7947 non-null   object\n",
      " 25  Impound Number          27571 non-null  object\n",
      " 26  Service Request Number  11 non-null     object\n",
      " 27  Outcome Condition       22791 non-null  object\n",
      " 28  Chip Status             23469 non-null  object\n",
      " 29  Animal Origin           23469 non-null  object\n",
      " 30  Additional Information  9607 non-null   object\n",
      " 31  Month                   27571 non-null  object\n",
      " 32  Year                    27571 non-null  object\n",
      "dtypes: int64(2), object(31)\n",
      "memory usage: 6.9+ MB\n"
     ]
    }
   ],
   "source": [
    "df.info()"
   ]
  },
  {
   "cell_type": "code",
   "execution_count": 4,
   "id": "4ba71cd7",
   "metadata": {},
   "outputs": [
    {
     "data": {
      "text/html": [
       "<div>\n",
       "<style scoped>\n",
       "    .dataframe tbody tr th:only-of-type {\n",
       "        vertical-align: middle;\n",
       "    }\n",
       "\n",
       "    .dataframe tbody tr th {\n",
       "        vertical-align: top;\n",
       "    }\n",
       "\n",
       "    .dataframe thead th {\n",
       "        text-align: right;\n",
       "    }\n",
       "</style>\n",
       "<table border=\"1\" class=\"dataframe\">\n",
       "  <thead>\n",
       "    <tr style=\"text-align: right;\">\n",
       "      <th></th>\n",
       "      <th>Activity Sequence</th>\n",
       "      <th>Intake Total</th>\n",
       "    </tr>\n",
       "  </thead>\n",
       "  <tbody>\n",
       "    <tr>\n",
       "      <th>count</th>\n",
       "      <td>27571.000000</td>\n",
       "      <td>27571.0</td>\n",
       "    </tr>\n",
       "    <tr>\n",
       "      <th>mean</th>\n",
       "      <td>0.926626</td>\n",
       "      <td>1.0</td>\n",
       "    </tr>\n",
       "    <tr>\n",
       "      <th>std</th>\n",
       "      <td>0.855598</td>\n",
       "      <td>0.0</td>\n",
       "    </tr>\n",
       "    <tr>\n",
       "      <th>min</th>\n",
       "      <td>0.000000</td>\n",
       "      <td>1.0</td>\n",
       "    </tr>\n",
       "    <tr>\n",
       "      <th>25%</th>\n",
       "      <td>1.000000</td>\n",
       "      <td>1.0</td>\n",
       "    </tr>\n",
       "    <tr>\n",
       "      <th>50%</th>\n",
       "      <td>1.000000</td>\n",
       "      <td>1.0</td>\n",
       "    </tr>\n",
       "    <tr>\n",
       "      <th>75%</th>\n",
       "      <td>1.000000</td>\n",
       "      <td>1.0</td>\n",
       "    </tr>\n",
       "    <tr>\n",
       "      <th>max</th>\n",
       "      <td>27.000000</td>\n",
       "      <td>1.0</td>\n",
       "    </tr>\n",
       "  </tbody>\n",
       "</table>\n",
       "</div>"
      ],
      "text/plain": [
       "       Activity Sequence  Intake Total\n",
       "count       27571.000000       27571.0\n",
       "mean            0.926626           1.0\n",
       "std             0.855598           0.0\n",
       "min             0.000000           1.0\n",
       "25%             1.000000           1.0\n",
       "50%             1.000000           1.0\n",
       "75%             1.000000           1.0\n",
       "max            27.000000           1.0"
      ]
     },
     "execution_count": 4,
     "metadata": {},
     "output_type": "execute_result"
    }
   ],
   "source": [
    "df.describe()"
   ]
  },
  {
   "cell_type": "code",
   "execution_count": 5,
   "id": "cc240f11",
   "metadata": {},
   "outputs": [],
   "source": [
    "# lowercase everything\n",
    "df = df.apply(lambda x: x.astype(str).str.lower())\n",
    "df.columns = df.columns.str.lower()"
   ]
  },
  {
   "cell_type": "code",
   "execution_count": 6,
   "id": "d36dfbad",
   "metadata": {},
   "outputs": [],
   "source": [
    "# returns all dupes\n",
    "duplicates = df[df['animal id'].duplicated()]\n",
    "# duplicate ids -- that need to drop\n",
    "dupe_list = list(duplicates['animal id'].unique())\n",
    "# removed dupes --  shape after dropping dupes (124940, 23)\n",
    "df = df[~df['animal id'].isin(dupe_list)]\n",
    "# rename columns"
   ]
  },
  {
   "cell_type": "code",
   "execution_count": 7,
   "id": "6889102f",
   "metadata": {},
   "outputs": [],
   "source": [
    "# Filter 'species' to only return cats or dogs\n",
    "df = df[df['animal type'].isin(['dog', 'cat'])]\n"
   ]
  },
  {
   "cell_type": "code",
   "execution_count": 8,
   "id": "d9d45c0b",
   "metadata": {},
   "outputs": [
    {
     "data": {
      "text/plain": [
       "Index(['animal id', 'animal type', 'animal breed', 'kennel number',\n",
       "       'kennel status', 'activity number', 'activity sequence', 'source id',\n",
       "       'census tract', 'council district', 'intake type', 'intake subtype',\n",
       "       'intake total', 'reason', 'staff id', 'intake date', 'intake time',\n",
       "       'due out', 'intake condition', 'hold request', 'outcome type',\n",
       "       'outcome subtype', 'outcome date', 'outcome time', 'receipt number',\n",
       "       'impound number', 'service request number', 'outcome condition',\n",
       "       'chip status', 'animal origin', 'additional information', 'month',\n",
       "       'year'],\n",
       "      dtype='object')"
      ]
     },
     "execution_count": 8,
     "metadata": {},
     "output_type": "execute_result"
    }
   ],
   "source": [
    "df.columns"
   ]
  },
  {
   "cell_type": "code",
   "execution_count": 9,
   "id": "ef002091",
   "metadata": {},
   "outputs": [
    {
     "data": {
      "text/plain": [
       "over the counter    7096\n",
       "field               4827\n",
       "nan                 4067\n",
       "aggops               380\n",
       "bite                 169\n",
       "aggdd                  7\n",
       "hart                   4\n",
       "ops                    1\n",
       "Name: animal origin, dtype: int64"
      ]
     },
     "execution_count": 9,
     "metadata": {},
     "output_type": "execute_result"
    }
   ],
   "source": [
    "df[\"animal origin\"].value_counts()"
   ]
  },
  {
   "cell_type": "code",
   "execution_count": 10,
   "id": "09ebd9ad",
   "metadata": {},
   "outputs": [],
   "source": [
    "df = df[[\"animal type\", \"animal breed\", \"council district\", \"intake type\", \"intake condition\", \"outcome type\", \"outcome condition\", \"chip status\"]]"
   ]
  },
  {
   "cell_type": "code",
   "execution_count": 11,
   "id": "884b254e",
   "metadata": {},
   "outputs": [],
   "source": [
    "new_columns = {col: col.replace(' ', '_') for col in df.columns}\n",
    "df.rename(columns=new_columns, inplace=True)"
   ]
  },
  {
   "cell_type": "code",
   "execution_count": 12,
   "id": "3e82c818",
   "metadata": {},
   "outputs": [],
   "source": [
    "for col in df.columns:                                                                                                         \n",
    "    df = df[df[col] != \"as\"]"
   ]
  },
  {
   "cell_type": "code",
   "execution_count": 13,
   "id": "d587d8aa",
   "metadata": {},
   "outputs": [],
   "source": [
    "for col in df.columns:                                                                                                         \n",
    "    df = df[df[col] != \"nan\"]"
   ]
  },
  {
   "cell_type": "code",
   "execution_count": 14,
   "id": "2b66bf3e",
   "metadata": {},
   "outputs": [],
   "source": [
    "df.council_district = df.council_district.astype(\"float\")"
   ]
  },
  {
   "cell_type": "code",
   "execution_count": 15,
   "id": "9a560fa1",
   "metadata": {},
   "outputs": [
    {
     "name": "stdout",
     "output_type": "stream",
     "text": [
      "dog    8021\n",
      "cat    1891\n",
      "Name: animal_type, dtype: int64\n",
      "mixed breed      5041\n",
      "domestic sh      1713\n",
      "pit bull          887\n",
      "germ shepherd     473\n",
      "labrador retr     267\n",
      "                 ... \n",
      "bernese hound       1\n",
      "irish setter        1\n",
      "dachshund lh        1\n",
      "bull terr min       1\n",
      "belg tervuren       1\n",
      "Name: animal_breed, Length: 123, dtype: int64\n",
      "4.0     1457\n",
      "6.0     1439\n",
      "8.0     1359\n",
      "7.0      964\n",
      "5.0      948\n",
      "1.0      938\n",
      "3.0      854\n",
      "2.0      569\n",
      "9.0      379\n",
      "10.0     269\n",
      "14.0     244\n",
      "13.0     194\n",
      "11.0     177\n",
      "12.0     107\n",
      "0.0       14\n",
      "Name: council_district, dtype: int64\n",
      "stray              8185\n",
      "owner surrender     783\n",
      "confiscated         534\n",
      "keepsafe            310\n",
      "dispos req           59\n",
      "treatment            32\n",
      "transfer              5\n",
      "foster                4\n",
      "Name: intake_type, dtype: int64\n",
      "app wnl     7444\n",
      "app inj      949\n",
      "app sick     922\n",
      "critical     281\n",
      "underage     167\n",
      "deceased     139\n",
      "fatal         10\n",
      "Name: intake_condition, dtype: int64\n",
      "adoption             3048\n",
      "euthanized           2656\n",
      "returned to owner    1698\n",
      "transfer             1572\n",
      "foster                455\n",
      "died                  178\n",
      "disposal              138\n",
      "snr                   131\n",
      "treatment              32\n",
      "missing                 4\n",
      "Name: outcome_type, dtype: int64\n",
      "app wnl     6686\n",
      "app sick    1046\n",
      "critical     710\n",
      "underage     657\n",
      "app inj      487\n",
      "deceased     289\n",
      "fatal         37\n",
      "Name: outcome_condition, dtype: int64\n",
      "scan no chip      7900\n",
      "scan chip         1819\n",
      "unable to scan     193\n",
      "Name: chip_status, dtype: int64\n"
     ]
    }
   ],
   "source": [
    "for col in df.columns:                                                                                                         \n",
    "    print(df[col].value_counts())"
   ]
  },
  {
   "cell_type": "code",
   "execution_count": 16,
   "id": "f644819b",
   "metadata": {},
   "outputs": [
    {
     "data": {
      "text/html": [
       "<div>\n",
       "<style scoped>\n",
       "    .dataframe tbody tr th:only-of-type {\n",
       "        vertical-align: middle;\n",
       "    }\n",
       "\n",
       "    .dataframe tbody tr th {\n",
       "        vertical-align: top;\n",
       "    }\n",
       "\n",
       "    .dataframe thead th {\n",
       "        text-align: right;\n",
       "    }\n",
       "</style>\n",
       "<table border=\"1\" class=\"dataframe\">\n",
       "  <thead>\n",
       "    <tr style=\"text-align: right;\">\n",
       "      <th></th>\n",
       "      <th>animal_type</th>\n",
       "      <th>animal_breed</th>\n",
       "      <th>council_district</th>\n",
       "      <th>intake_type</th>\n",
       "      <th>intake_condition</th>\n",
       "      <th>outcome_type</th>\n",
       "      <th>outcome_condition</th>\n",
       "      <th>chip_status</th>\n",
       "    </tr>\n",
       "  </thead>\n",
       "  <tbody>\n",
       "    <tr>\n",
       "      <th>0</th>\n",
       "      <td>cat</td>\n",
       "      <td>domestic sh</td>\n",
       "      <td>11.0</td>\n",
       "      <td>stray</td>\n",
       "      <td>app inj</td>\n",
       "      <td>euthanized</td>\n",
       "      <td>critical</td>\n",
       "      <td>scan no chip</td>\n",
       "    </tr>\n",
       "    <tr>\n",
       "      <th>1</th>\n",
       "      <td>dog</td>\n",
       "      <td>mixed breed</td>\n",
       "      <td>5.0</td>\n",
       "      <td>stray</td>\n",
       "      <td>app wnl</td>\n",
       "      <td>adoption</td>\n",
       "      <td>app wnl</td>\n",
       "      <td>scan no chip</td>\n",
       "    </tr>\n",
       "    <tr>\n",
       "      <th>3</th>\n",
       "      <td>dog</td>\n",
       "      <td>mixed breed</td>\n",
       "      <td>9.0</td>\n",
       "      <td>stray</td>\n",
       "      <td>app wnl</td>\n",
       "      <td>adoption</td>\n",
       "      <td>app wnl</td>\n",
       "      <td>scan no chip</td>\n",
       "    </tr>\n",
       "    <tr>\n",
       "      <th>4</th>\n",
       "      <td>dog</td>\n",
       "      <td>chihuahua sh</td>\n",
       "      <td>9.0</td>\n",
       "      <td>stray</td>\n",
       "      <td>app sick</td>\n",
       "      <td>transfer</td>\n",
       "      <td>app sick</td>\n",
       "      <td>scan no chip</td>\n",
       "    </tr>\n",
       "    <tr>\n",
       "      <th>5</th>\n",
       "      <td>dog</td>\n",
       "      <td>mixed breed</td>\n",
       "      <td>6.0</td>\n",
       "      <td>stray</td>\n",
       "      <td>app wnl</td>\n",
       "      <td>adoption</td>\n",
       "      <td>app wnl</td>\n",
       "      <td>scan no chip</td>\n",
       "    </tr>\n",
       "  </tbody>\n",
       "</table>\n",
       "</div>"
      ],
      "text/plain": [
       "  animal_type  animal_breed  council_district intake_type intake_condition  \\\n",
       "0         cat   domestic sh              11.0       stray          app inj   \n",
       "1         dog   mixed breed               5.0       stray          app wnl   \n",
       "3         dog   mixed breed               9.0       stray          app wnl   \n",
       "4         dog  chihuahua sh               9.0       stray         app sick   \n",
       "5         dog   mixed breed               6.0       stray          app wnl   \n",
       "\n",
       "  outcome_type outcome_condition   chip_status  \n",
       "0   euthanized          critical  scan no chip  \n",
       "1     adoption           app wnl  scan no chip  \n",
       "3     adoption           app wnl  scan no chip  \n",
       "4     transfer          app sick  scan no chip  \n",
       "5     adoption           app wnl  scan no chip  "
      ]
     },
     "execution_count": 16,
     "metadata": {},
     "output_type": "execute_result"
    }
   ],
   "source": [
    "df.head()"
   ]
  },
  {
   "cell_type": "code",
   "execution_count": 17,
   "id": "31a12e71",
   "metadata": {},
   "outputs": [
    {
     "data": {
      "text/plain": [
       "scan no chip      7900\n",
       "scan chip         1819\n",
       "unable to scan     193\n",
       "Name: chip_status, dtype: int64"
      ]
     },
     "execution_count": 17,
     "metadata": {},
     "output_type": "execute_result"
    }
   ],
   "source": [
    "df.chip_status.value_counts()"
   ]
  },
  {
   "cell_type": "code",
   "execution_count": 18,
   "id": "5d8d846d",
   "metadata": {},
   "outputs": [],
   "source": [
    "df = df[df.chip_status != \"unable to scan\"]"
   ]
  },
  {
   "cell_type": "code",
   "execution_count": 19,
   "id": "6258a24e",
   "metadata": {},
   "outputs": [],
   "source": [
    "df['is_dog'] = df['animal_type'].apply(lambda x: 1 if x.strip() == \"dog\" else 0)"
   ]
  },
  {
   "cell_type": "code",
   "execution_count": 20,
   "id": "e24a9c73",
   "metadata": {},
   "outputs": [],
   "source": [
    "df[\"is_chip\"] = df['chip_status'].replace({\"scan no chip\": 0, \"scan chip\": 1})\n"
   ]
  },
  {
   "cell_type": "code",
   "execution_count": 21,
   "id": "9e39d0f5",
   "metadata": {},
   "outputs": [],
   "source": [
    "# creates columns if animal is normal\n",
    "df['is_normal'] = df['outcome_condition'].apply(lambda x: 1 if x.strip() == \"app wnl\" else 0)"
   ]
  },
  {
   "cell_type": "code",
   "execution_count": 22,
   "id": "3795fddf",
   "metadata": {},
   "outputs": [],
   "source": [
    "def map_outcome_condition(outcome):\n",
    "    return 1 if outcome in ['deceased', 'fatal'] else 0\n",
    "\n",
    "# Create a new column 'outcome_binary' based on the condition\n",
    "# df['outcome_binary'] = \n",
    "df['is_deceased'] = df['outcome_condition'].apply(lambda x: map_outcome_condition(x))\n"
   ]
  },
  {
   "cell_type": "code",
   "execution_count": 23,
   "id": "5a90d687",
   "metadata": {},
   "outputs": [],
   "source": [
    "# creates columns if animal is normal\n",
    "df['is_underage'] = df['outcome_condition'].apply(lambda x: 1 if x.strip() == \"underage\" else 0)"
   ]
  },
  {
   "cell_type": "code",
   "execution_count": 24,
   "id": "8468941f",
   "metadata": {},
   "outputs": [],
   "source": [
    "def map_outcome_sick(outcome):\n",
    "    return 1 if outcome in ['app sick', 'critical', 'app inj'] else 0\n",
    "\n",
    "# Create a new column 'outcome_binary' based on the condition\n",
    "# df['outcome_binary'] = \n",
    "# df['is_deceased'] =\n",
    "df[\"is_sick\"] = df['outcome_condition'].apply(lambda x: map_outcome_sick(x))\n"
   ]
  },
  {
   "cell_type": "code",
   "execution_count": 25,
   "id": "26e1a94d",
   "metadata": {},
   "outputs": [
    {
     "data": {
      "text/plain": [
       "dog    7872\n",
       "cat    1847\n",
       "Name: animal_type, dtype: int64"
      ]
     },
     "execution_count": 25,
     "metadata": {},
     "output_type": "execute_result"
    }
   ],
   "source": [
    "df.animal_type.value_counts()"
   ]
  },
  {
   "cell_type": "code",
   "execution_count": 26,
   "id": "270703eb",
   "metadata": {},
   "outputs": [],
   "source": [
    "# creates columns if animal is stary\n",
    "df['is_stray'] = df['intake_type'].apply(lambda x: 1 if x.strip() == \"stray\" else 0)"
   ]
  },
  {
   "cell_type": "code",
   "execution_count": 27,
   "id": "822ec4ff",
   "metadata": {},
   "outputs": [],
   "source": [
    "# creates columns if animal is stary\n",
    "df['is_owner_surrender'] = df['intake_type'].apply(lambda x: 1 if x.strip() == \"owner surrender\" else 0)"
   ]
  },
  {
   "cell_type": "code",
   "execution_count": 28,
   "id": "46dc534a",
   "metadata": {},
   "outputs": [],
   "source": [
    "# creates columns if animal is stary\n",
    "df['is_confiscated'] = df['intake_type'].apply(lambda x: 1 if x.strip() == \"confiscated\" else 0)"
   ]
  },
  {
   "cell_type": "code",
   "execution_count": 29,
   "id": "bd116591",
   "metadata": {},
   "outputs": [],
   "source": [
    "# creates columns if animal is stary\n",
    "df['is_adopted'] = df['outcome_type'].apply(lambda x: 1 if x.strip() == \"adoption\" else 0)"
   ]
  },
  {
   "cell_type": "code",
   "execution_count": 31,
   "id": "b6384436",
   "metadata": {},
   "outputs": [],
   "source": [
    "df = df[['is_dog', 'is_chip', 'is_normal', 'is_deceased', 'is_underage',\n",
    "       'is_sick', 'is_stray', 'is_owner_surrender', 'is_confiscated',\n",
    "       'is_adopted']]"
   ]
  },
  {
   "cell_type": "code",
   "execution_count": 32,
   "id": "9fdc3972",
   "metadata": {},
   "outputs": [
    {
     "data": {
      "text/plain": [
       "<function functions.get_models(X_train, y_train, X_validate, y_validate)>"
      ]
     },
     "execution_count": 32,
     "metadata": {},
     "output_type": "execute_result"
    }
   ],
   "source": [
    "f.get_models"
   ]
  },
  {
   "cell_type": "code",
   "execution_count": 33,
   "id": "e4103fee",
   "metadata": {},
   "outputs": [],
   "source": [
    "def get_xy(model_df):\n",
    "    '''\n",
    "    This function generates X and y for train, validate, and test to use : X_train, y_train, X_validate, y_validate, X_test, y_test = get_xy()\n",
    "\n",
    "    '''\n",
    "    train, validate, test = w.split_data(model_df,'is_adopted')\n",
    "\n",
    "    X_train = train.drop(['is_adopted'], axis=1)\n",
    "    y_train = train.is_adopted\n",
    "    X_validate = validate.drop(['is_adopted'], axis=1)\n",
    "    y_validate = validate.is_adopted\n",
    "    X_test = test.drop(['is_adopted'], axis=1)\n",
    "    y_test = test.is_adopted\n",
    "    return X_train,y_train,X_validate,y_validate,X_test,y_test"
   ]
  },
  {
   "cell_type": "code",
   "execution_count": 34,
   "id": "a576a9b2",
   "metadata": {},
   "outputs": [
    {
     "name": "stdout",
     "output_type": "stream",
     "text": [
      "train -> (5831, 10), 60.0%\n",
      "validate -> (1944, 10),20.0%\n",
      "test -> (1944, 10), 20.0%\n"
     ]
    }
   ],
   "source": [
    "train, validate, test = w.split_data(df, \"is_adopted\")"
   ]
  },
  {
   "cell_type": "code",
   "execution_count": 35,
   "id": "e9473dcd",
   "metadata": {},
   "outputs": [
    {
     "name": "stdout",
     "output_type": "stream",
     "text": [
      "train -> (5831, 10), 60.0%\n",
      "validate -> (1944, 10),20.0%\n",
      "test -> (1944, 10), 20.0%\n"
     ]
    }
   ],
   "source": [
    "# get x and y variables\n",
    "x_train,y_train,x_validate,y_validate,x_test,y_test = get_xy(df)"
   ]
  },
  {
   "cell_type": "code",
   "execution_count": 36,
   "id": "8cef3ee3",
   "metadata": {},
   "outputs": [
    {
     "data": {
      "text/html": [
       "<div>\n",
       "<style scoped>\n",
       "    .dataframe tbody tr th:only-of-type {\n",
       "        vertical-align: middle;\n",
       "    }\n",
       "\n",
       "    .dataframe tbody tr th {\n",
       "        vertical-align: top;\n",
       "    }\n",
       "\n",
       "    .dataframe thead th {\n",
       "        text-align: right;\n",
       "    }\n",
       "</style>\n",
       "<table border=\"1\" class=\"dataframe\">\n",
       "  <thead>\n",
       "    <tr style=\"text-align: right;\">\n",
       "      <th></th>\n",
       "      <th>model</th>\n",
       "      <th>set</th>\n",
       "      <th>accuracy</th>\n",
       "    </tr>\n",
       "  </thead>\n",
       "  <tbody>\n",
       "    <tr>\n",
       "      <th>0</th>\n",
       "      <td>k_nearest_neighbors</td>\n",
       "      <td>train</td>\n",
       "      <td>0.749614</td>\n",
       "    </tr>\n",
       "    <tr>\n",
       "      <th>1</th>\n",
       "      <td>k_nearest_neighbors</td>\n",
       "      <td>validate</td>\n",
       "      <td>0.748457</td>\n",
       "    </tr>\n",
       "    <tr>\n",
       "      <th>2</th>\n",
       "      <td>logistic_regression</td>\n",
       "      <td>train</td>\n",
       "      <td>0.749614</td>\n",
       "    </tr>\n",
       "    <tr>\n",
       "      <th>3</th>\n",
       "      <td>logistic_regression</td>\n",
       "      <td>validate</td>\n",
       "      <td>0.748457</td>\n",
       "    </tr>\n",
       "    <tr>\n",
       "      <th>4</th>\n",
       "      <td>DecisionTreeClassifier</td>\n",
       "      <td>train</td>\n",
       "      <td>0.750986</td>\n",
       "    </tr>\n",
       "    <tr>\n",
       "      <th>5</th>\n",
       "      <td>DecisionTreeClassifier</td>\n",
       "      <td>validate</td>\n",
       "      <td>0.750514</td>\n",
       "    </tr>\n",
       "    <tr>\n",
       "      <th>6</th>\n",
       "      <td>random_forest</td>\n",
       "      <td>train</td>\n",
       "      <td>0.753044</td>\n",
       "    </tr>\n",
       "    <tr>\n",
       "      <th>7</th>\n",
       "      <td>random_forest</td>\n",
       "      <td>validate</td>\n",
       "      <td>0.741255</td>\n",
       "    </tr>\n",
       "    <tr>\n",
       "      <th>8</th>\n",
       "      <td>support_vector_machine</td>\n",
       "      <td>train</td>\n",
       "      <td>0.756474</td>\n",
       "    </tr>\n",
       "    <tr>\n",
       "      <th>9</th>\n",
       "      <td>support_vector_machine</td>\n",
       "      <td>validate</td>\n",
       "      <td>0.742798</td>\n",
       "    </tr>\n",
       "    <tr>\n",
       "      <th>10</th>\n",
       "      <td>naive_bayes</td>\n",
       "      <td>train</td>\n",
       "      <td>0.667810</td>\n",
       "    </tr>\n",
       "    <tr>\n",
       "      <th>11</th>\n",
       "      <td>naive_bayes</td>\n",
       "      <td>validate</td>\n",
       "      <td>0.663580</td>\n",
       "    </tr>\n",
       "    <tr>\n",
       "      <th>12</th>\n",
       "      <td>gradient_boosting</td>\n",
       "      <td>train</td>\n",
       "      <td>0.756474</td>\n",
       "    </tr>\n",
       "    <tr>\n",
       "      <th>13</th>\n",
       "      <td>gradient_boosting</td>\n",
       "      <td>validate</td>\n",
       "      <td>0.742798</td>\n",
       "    </tr>\n",
       "  </tbody>\n",
       "</table>\n",
       "</div>"
      ],
      "text/plain": [
       "                     model       set  accuracy\n",
       "0      k_nearest_neighbors     train  0.749614\n",
       "1      k_nearest_neighbors  validate  0.748457\n",
       "2      logistic_regression     train  0.749614\n",
       "3      logistic_regression  validate  0.748457\n",
       "4   DecisionTreeClassifier     train  0.750986\n",
       "5   DecisionTreeClassifier  validate  0.750514\n",
       "6            random_forest     train  0.753044\n",
       "7            random_forest  validate  0.741255\n",
       "8   support_vector_machine     train  0.756474\n",
       "9   support_vector_machine  validate  0.742798\n",
       "10             naive_bayes     train  0.667810\n",
       "11             naive_bayes  validate  0.663580\n",
       "12       gradient_boosting     train  0.756474\n",
       "13       gradient_boosting  validate  0.742798"
      ]
     },
     "execution_count": 36,
     "metadata": {},
     "output_type": "execute_result"
    }
   ],
   "source": [
    "f.get_models(x_train,y_train,x_validate,y_validate)"
   ]
  },
  {
   "cell_type": "code",
   "execution_count": 37,
   "id": "41b910a8",
   "metadata": {},
   "outputs": [],
   "source": [
    "import pandas as pd\n",
    "import matplotlib.pyplot as plt\n",
    "import seaborn as sns\n",
    "import numpy as np\n",
    "import os\n",
    "from sklearn.model_selection import train_test_split\n",
    "from sqlalchemy import text, create_engine\n",
    "import scipy.stats as stats\n",
    "\n",
    "import warnings\n",
    "warnings.filterwarnings(\"ignore\")\n",
    "\n",
    "np.random.seed(42)\n",
    "\n",
    "def chi_stats(train, feature, target):\n",
    "    '''\n",
    "    This function runs a chi2 stats test on sex and outcome.\n",
    "    It returns the contingency table and results in a pandas DataFrame.\n",
    "    '''\n",
    "    # Create a contingency table\n",
    "    contingency_table = pd.crosstab(train[feature], train[target])\n",
    "\n",
    "    # Perform the chi-square test\n",
    "    chi2, p_value, dof, expected = stats.chi2_contingency(contingency_table)\n",
    "\n",
    "    # Create a DataFrame for the contingency table\n",
    "    contingency_sex = pd.DataFrame(contingency_table)\n",
    "\n",
    "    # Create a DataFrame for the results\n",
    "    results = pd.DataFrame({\n",
    "        'Chi-square statistic': [chi2],\n",
    "        'p-value': [p_value],\n",
    "        'Degrees of freedom': [dof]\n",
    "    })\n",
    "\n",
    "    # Return the contingency table and results DataFrame\n",
    "    return results"
   ]
  },
  {
   "cell_type": "code",
   "execution_count": 38,
   "id": "29fb458d",
   "metadata": {},
   "outputs": [
    {
     "data": {
      "text/html": [
       "<div>\n",
       "<style scoped>\n",
       "    .dataframe tbody tr th:only-of-type {\n",
       "        vertical-align: middle;\n",
       "    }\n",
       "\n",
       "    .dataframe tbody tr th {\n",
       "        vertical-align: top;\n",
       "    }\n",
       "\n",
       "    .dataframe thead th {\n",
       "        text-align: right;\n",
       "    }\n",
       "</style>\n",
       "<table border=\"1\" class=\"dataframe\">\n",
       "  <thead>\n",
       "    <tr style=\"text-align: right;\">\n",
       "      <th></th>\n",
       "      <th>is_dog</th>\n",
       "      <th>is_chip</th>\n",
       "      <th>is_normal</th>\n",
       "      <th>is_deceased</th>\n",
       "      <th>is_underage</th>\n",
       "      <th>is_sick</th>\n",
       "      <th>is_stray</th>\n",
       "      <th>is_owner_surrender</th>\n",
       "      <th>is_confiscated</th>\n",
       "      <th>is_adopted</th>\n",
       "    </tr>\n",
       "  </thead>\n",
       "  <tbody>\n",
       "    <tr>\n",
       "      <th>1840</th>\n",
       "      <td>1</td>\n",
       "      <td>1</td>\n",
       "      <td>1</td>\n",
       "      <td>0</td>\n",
       "      <td>0</td>\n",
       "      <td>0</td>\n",
       "      <td>0</td>\n",
       "      <td>0</td>\n",
       "      <td>1</td>\n",
       "      <td>0</td>\n",
       "    </tr>\n",
       "    <tr>\n",
       "      <th>24387</th>\n",
       "      <td>1</td>\n",
       "      <td>0</td>\n",
       "      <td>1</td>\n",
       "      <td>0</td>\n",
       "      <td>0</td>\n",
       "      <td>0</td>\n",
       "      <td>1</td>\n",
       "      <td>0</td>\n",
       "      <td>0</td>\n",
       "      <td>1</td>\n",
       "    </tr>\n",
       "    <tr>\n",
       "      <th>9123</th>\n",
       "      <td>1</td>\n",
       "      <td>0</td>\n",
       "      <td>1</td>\n",
       "      <td>0</td>\n",
       "      <td>0</td>\n",
       "      <td>0</td>\n",
       "      <td>0</td>\n",
       "      <td>1</td>\n",
       "      <td>0</td>\n",
       "      <td>0</td>\n",
       "    </tr>\n",
       "    <tr>\n",
       "      <th>18034</th>\n",
       "      <td>1</td>\n",
       "      <td>0</td>\n",
       "      <td>1</td>\n",
       "      <td>0</td>\n",
       "      <td>0</td>\n",
       "      <td>0</td>\n",
       "      <td>0</td>\n",
       "      <td>1</td>\n",
       "      <td>0</td>\n",
       "      <td>0</td>\n",
       "    </tr>\n",
       "    <tr>\n",
       "      <th>1740</th>\n",
       "      <td>0</td>\n",
       "      <td>0</td>\n",
       "      <td>1</td>\n",
       "      <td>0</td>\n",
       "      <td>0</td>\n",
       "      <td>0</td>\n",
       "      <td>0</td>\n",
       "      <td>0</td>\n",
       "      <td>0</td>\n",
       "      <td>0</td>\n",
       "    </tr>\n",
       "    <tr>\n",
       "      <th>...</th>\n",
       "      <td>...</td>\n",
       "      <td>...</td>\n",
       "      <td>...</td>\n",
       "      <td>...</td>\n",
       "      <td>...</td>\n",
       "      <td>...</td>\n",
       "      <td>...</td>\n",
       "      <td>...</td>\n",
       "      <td>...</td>\n",
       "      <td>...</td>\n",
       "    </tr>\n",
       "    <tr>\n",
       "      <th>2511</th>\n",
       "      <td>1</td>\n",
       "      <td>0</td>\n",
       "      <td>1</td>\n",
       "      <td>0</td>\n",
       "      <td>0</td>\n",
       "      <td>0</td>\n",
       "      <td>1</td>\n",
       "      <td>0</td>\n",
       "      <td>0</td>\n",
       "      <td>1</td>\n",
       "    </tr>\n",
       "    <tr>\n",
       "      <th>25016</th>\n",
       "      <td>1</td>\n",
       "      <td>0</td>\n",
       "      <td>1</td>\n",
       "      <td>0</td>\n",
       "      <td>0</td>\n",
       "      <td>0</td>\n",
       "      <td>1</td>\n",
       "      <td>0</td>\n",
       "      <td>0</td>\n",
       "      <td>0</td>\n",
       "    </tr>\n",
       "    <tr>\n",
       "      <th>26192</th>\n",
       "      <td>1</td>\n",
       "      <td>0</td>\n",
       "      <td>0</td>\n",
       "      <td>0</td>\n",
       "      <td>0</td>\n",
       "      <td>1</td>\n",
       "      <td>1</td>\n",
       "      <td>0</td>\n",
       "      <td>0</td>\n",
       "      <td>0</td>\n",
       "    </tr>\n",
       "    <tr>\n",
       "      <th>12820</th>\n",
       "      <td>0</td>\n",
       "      <td>1</td>\n",
       "      <td>0</td>\n",
       "      <td>0</td>\n",
       "      <td>0</td>\n",
       "      <td>1</td>\n",
       "      <td>1</td>\n",
       "      <td>0</td>\n",
       "      <td>0</td>\n",
       "      <td>0</td>\n",
       "    </tr>\n",
       "    <tr>\n",
       "      <th>14530</th>\n",
       "      <td>0</td>\n",
       "      <td>1</td>\n",
       "      <td>1</td>\n",
       "      <td>0</td>\n",
       "      <td>0</td>\n",
       "      <td>0</td>\n",
       "      <td>1</td>\n",
       "      <td>0</td>\n",
       "      <td>0</td>\n",
       "      <td>1</td>\n",
       "    </tr>\n",
       "  </tbody>\n",
       "</table>\n",
       "<p>5831 rows × 10 columns</p>\n",
       "</div>"
      ],
      "text/plain": [
       "       is_dog  is_chip  is_normal  is_deceased  is_underage  is_sick  \\\n",
       "1840        1        1          1            0            0        0   \n",
       "24387       1        0          1            0            0        0   \n",
       "9123        1        0          1            0            0        0   \n",
       "18034       1        0          1            0            0        0   \n",
       "1740        0        0          1            0            0        0   \n",
       "...       ...      ...        ...          ...          ...      ...   \n",
       "2511        1        0          1            0            0        0   \n",
       "25016       1        0          1            0            0        0   \n",
       "26192       1        0          0            0            0        1   \n",
       "12820       0        1          0            0            0        1   \n",
       "14530       0        1          1            0            0        0   \n",
       "\n",
       "       is_stray  is_owner_surrender  is_confiscated  is_adopted  \n",
       "1840          0                   0               1           0  \n",
       "24387         1                   0               0           1  \n",
       "9123          0                   1               0           0  \n",
       "18034         0                   1               0           0  \n",
       "1740          0                   0               0           0  \n",
       "...         ...                 ...             ...         ...  \n",
       "2511          1                   0               0           1  \n",
       "25016         1                   0               0           0  \n",
       "26192         1                   0               0           0  \n",
       "12820         1                   0               0           0  \n",
       "14530         1                   0               0           1  \n",
       "\n",
       "[5831 rows x 10 columns]"
      ]
     },
     "execution_count": 38,
     "metadata": {},
     "output_type": "execute_result"
    }
   ],
   "source": [
    "train"
   ]
  },
  {
   "cell_type": "code",
   "execution_count": 39,
   "id": "5d2ff3bf",
   "metadata": {},
   "outputs": [
    {
     "data": {
      "text/html": [
       "<div>\n",
       "<style scoped>\n",
       "    .dataframe tbody tr th:only-of-type {\n",
       "        vertical-align: middle;\n",
       "    }\n",
       "\n",
       "    .dataframe tbody tr th {\n",
       "        vertical-align: top;\n",
       "    }\n",
       "\n",
       "    .dataframe thead th {\n",
       "        text-align: right;\n",
       "    }\n",
       "</style>\n",
       "<table border=\"1\" class=\"dataframe\">\n",
       "  <thead>\n",
       "    <tr style=\"text-align: right;\">\n",
       "      <th></th>\n",
       "      <th>Chi-square statistic</th>\n",
       "      <th>p-value</th>\n",
       "      <th>Degrees of freedom</th>\n",
       "    </tr>\n",
       "  </thead>\n",
       "  <tbody>\n",
       "    <tr>\n",
       "      <th>0</th>\n",
       "      <td>102.087105</td>\n",
       "      <td>5.313328e-24</td>\n",
       "      <td>1</td>\n",
       "    </tr>\n",
       "  </tbody>\n",
       "</table>\n",
       "</div>"
      ],
      "text/plain": [
       "   Chi-square statistic       p-value  Degrees of freedom\n",
       "0            102.087105  5.313328e-24                   1"
      ]
     },
     "execution_count": 39,
     "metadata": {},
     "output_type": "execute_result"
    }
   ],
   "source": [
    "chi_stats(train, feature= \"is_chip\", target= \"is_adopted\")"
   ]
  },
  {
   "cell_type": "code",
   "execution_count": 40,
   "id": "db8b0da0",
   "metadata": {},
   "outputs": [
    {
     "name": "stdout",
     "output_type": "stream",
     "text": [
      "is_dog\n",
      "   Chi-square statistic       p-value  Degrees of freedom\n",
      "0             68.204982  1.473530e-16                   1\n",
      "is_chip\n",
      "   Chi-square statistic       p-value  Degrees of freedom\n",
      "0            102.087105  5.313328e-24                   1\n",
      "is_normal\n",
      "   Chi-square statistic        p-value  Degrees of freedom\n",
      "0           1176.232377  8.927083e-258                   1\n",
      "is_deceased\n",
      "   Chi-square statistic       p-value  Degrees of freedom\n",
      "0             87.142713  1.009663e-20                   1\n",
      "is_underage\n",
      "   Chi-square statistic       p-value  Degrees of freedom\n",
      "0            186.056674  2.307386e-42                   1\n",
      "is_sick\n",
      "   Chi-square statistic        p-value  Degrees of freedom\n",
      "0            689.046655  7.204565e-152                   1\n",
      "is_stray\n",
      "   Chi-square statistic       p-value  Degrees of freedom\n",
      "0            140.290385  2.299926e-32                   1\n",
      "is_owner_surrender\n",
      "   Chi-square statistic       p-value  Degrees of freedom\n",
      "0             35.684954  2.319485e-09                   1\n",
      "is_confiscated\n",
      "   Chi-square statistic       p-value  Degrees of freedom\n",
      "0             89.141745  3.675135e-21                   1\n",
      "is_adopted\n",
      "   Chi-square statistic  p-value  Degrees of freedom\n",
      "0           5826.353062      0.0                   1\n"
     ]
    }
   ],
   "source": [
    "for col in train.columns:\n",
    "    print(col)\n",
    "    print(chi_stats(train, feature= col, target= \"is_adopted\"))"
   ]
  },
  {
   "cell_type": "code",
   "execution_count": 41,
   "id": "12c91595",
   "metadata": {},
   "outputs": [
    {
     "data": {
      "text/plain": [
       "0    6674\n",
       "1    3045\n",
       "Name: is_adopted, dtype: int64"
      ]
     },
     "execution_count": 41,
     "metadata": {},
     "output_type": "execute_result"
    }
   ],
   "source": [
    "df.is_adopted.value_counts()"
   ]
  },
  {
   "cell_type": "code",
   "execution_count": 42,
   "id": "71af4fa0",
   "metadata": {},
   "outputs": [
    {
     "data": {
      "text/plain": [
       "(9719, 10)"
      ]
     },
     "execution_count": 42,
     "metadata": {},
     "output_type": "execute_result"
    }
   ],
   "source": [
    "df.shape"
   ]
  },
  {
   "cell_type": "code",
   "execution_count": null,
   "id": "be80b691",
   "metadata": {},
   "outputs": [],
   "source": [
    "68.66%"
   ]
  }
 ],
 "metadata": {
  "kernelspec": {
   "display_name": "Python 3 (ipykernel)",
   "language": "python",
   "name": "python3"
  },
  "language_info": {
   "codemirror_mode": {
    "name": "ipython",
    "version": 3
   },
   "file_extension": ".py",
   "mimetype": "text/x-python",
   "name": "python",
   "nbconvert_exporter": "python",
   "pygments_lexer": "ipython3",
   "version": "3.9.13"
  }
 },
 "nbformat": 4,
 "nbformat_minor": 5
}
