{
 "cells": [
  {
   "cell_type": "code",
   "execution_count": 1,
   "id": "7b9d0e6c-493f-4d0a-a1d5-3e9003dfdcfb",
   "metadata": {
    "tags": []
   },
   "outputs": [],
   "source": [
    "import warnings\n",
    "warnings.filterwarnings(\"ignore\")\n",
    "import bo_wrangle as wra\n",
    "import wrangle as w\n",
    "import functions as f\n",
    "\n",
    "import pandas as pd\n",
    "import numpy as np\n",
    "\n",
    "#splits\n",
    "from sklearn.model_selection import train_test_split\n",
    "\n",
    "#visualization\n",
    "import matplotlib.pyplot as plt\n",
    "from matplotlib import cm\n",
    "import seaborn as sns\n",
    "\n",
    "#statistical\n",
    "from scipy.stats import chi2_contingency\n",
    "\n",
    "#scaling\n",
    "from sklearn.preprocessing import MinMaxScaler, StandardScaler, RobustScaler\n",
    "from sklearn.metrics import precision_score, accuracy_score, recall_score, classification_report\n",
    "\n",
    "#model\n",
    "from sklearn.ensemble import RandomForestClassifier\n",
    "from sklearn.tree import DecisionTreeClassifier, plot_tree\n",
    "from sklearn.linear_model import LogisticRegression\n"
   ]
  },
  {
   "cell_type": "markdown",
   "id": "4b134300-0dab-42ab-8e31-b5c646ae8d3d",
   "metadata": {},
   "source": [
    "# Acquire"
   ]
  },
  {
   "cell_type": "code",
   "execution_count": 2,
   "id": "703f227e-d9f1-444c-9454-cc5d5391e95c",
   "metadata": {},
   "outputs": [],
   "source": [
    "merged_data = w.left_join_csv('austin_animal_outcomes.csv', 'austin_animal_intakes.csv', 'merged_data.csv')"
   ]
  },
  {
   "cell_type": "code",
   "execution_count": 3,
   "id": "3d9f8084-dfbe-481b-b162-914c92a951ec",
   "metadata": {},
   "outputs": [],
   "source": [
    "df = merged_data"
   ]
  },
  {
   "cell_type": "markdown",
   "id": "1316d042-4c15-48d0-b6ac-96d96b284aa5",
   "metadata": {},
   "source": [
    "# Prepare"
   ]
  },
  {
   "cell_type": "code",
   "execution_count": 4,
   "id": "7c0ab79f-215f-4239-b5cc-7302cc40fa13",
   "metadata": {},
   "outputs": [],
   "source": [
    "df, model_df = w.prep_df(df)"
   ]
  },
  {
   "cell_type": "code",
   "execution_count": 5,
   "id": "a142e7ad-a1ff-42bf-8130-2dfc94a9387c",
   "metadata": {},
   "outputs": [
    {
     "data": {
      "text/html": [
       "<div>\n",
       "<style scoped>\n",
       "    .dataframe tbody tr th:only-of-type {\n",
       "        vertical-align: middle;\n",
       "    }\n",
       "\n",
       "    .dataframe tbody tr th {\n",
       "        vertical-align: top;\n",
       "    }\n",
       "\n",
       "    .dataframe thead th {\n",
       "        text-align: right;\n",
       "    }\n",
       "</style>\n",
       "<table border=\"1\" class=\"dataframe\">\n",
       "  <thead>\n",
       "    <tr style=\"text-align: right;\">\n",
       "      <th></th>\n",
       "      <th>dob</th>\n",
       "      <th>outcome</th>\n",
       "      <th>sex</th>\n",
       "      <th>name</th>\n",
       "      <th>intake_type</th>\n",
       "      <th>condition</th>\n",
       "      <th>species</th>\n",
       "      <th>breed</th>\n",
       "      <th>outcome_age</th>\n",
       "      <th>rel_month</th>\n",
       "      <th>rel_year</th>\n",
       "      <th>primary_color</th>\n",
       "      <th>is_tabby</th>\n",
       "      <th>mix_color</th>\n",
       "    </tr>\n",
       "  </thead>\n",
       "  <tbody>\n",
       "    <tr>\n",
       "      <th>0</th>\n",
       "      <td>2017-05-02</td>\n",
       "      <td>adoption</td>\n",
       "      <td>neutered male</td>\n",
       "      <td>1</td>\n",
       "      <td>owner surrender</td>\n",
       "      <td>normal</td>\n",
       "      <td>cat</td>\n",
       "      <td>mix</td>\n",
       "      <td>736</td>\n",
       "      <td>may</td>\n",
       "      <td>2019</td>\n",
       "      <td>brown</td>\n",
       "      <td>1</td>\n",
       "      <td>1</td>\n",
       "    </tr>\n",
       "    <tr>\n",
       "      <th>1</th>\n",
       "      <td>2017-07-12</td>\n",
       "      <td>adoption</td>\n",
       "      <td>neutered male</td>\n",
       "      <td>1</td>\n",
       "      <td>stray</td>\n",
       "      <td>normal</td>\n",
       "      <td>dog</td>\n",
       "      <td>mix</td>\n",
       "      <td>371</td>\n",
       "      <td>jul</td>\n",
       "      <td>2018</td>\n",
       "      <td>white</td>\n",
       "      <td>0</td>\n",
       "      <td>1</td>\n",
       "    </tr>\n",
       "    <tr>\n",
       "      <th>5</th>\n",
       "      <td>2014-03-12</td>\n",
       "      <td>transfer</td>\n",
       "      <td>intact male</td>\n",
       "      <td>1</td>\n",
       "      <td>stray</td>\n",
       "      <td>medical attention</td>\n",
       "      <td>cat</td>\n",
       "      <td>mix</td>\n",
       "      <td>6</td>\n",
       "      <td>mar</td>\n",
       "      <td>2014</td>\n",
       "      <td>orange</td>\n",
       "      <td>1</td>\n",
       "      <td>0</td>\n",
       "    </tr>\n",
       "    <tr>\n",
       "      <th>8</th>\n",
       "      <td>2018-03-01</td>\n",
       "      <td>adoption</td>\n",
       "      <td>neutered male</td>\n",
       "      <td>1</td>\n",
       "      <td>owner surrender</td>\n",
       "      <td>normal</td>\n",
       "      <td>dog</td>\n",
       "      <td>two breeds</td>\n",
       "      <td>797</td>\n",
       "      <td>may</td>\n",
       "      <td>2020</td>\n",
       "      <td>white</td>\n",
       "      <td>0</td>\n",
       "      <td>1</td>\n",
       "    </tr>\n",
       "    <tr>\n",
       "      <th>9</th>\n",
       "      <td>2022-05-04</td>\n",
       "      <td>adoption</td>\n",
       "      <td>neutered male</td>\n",
       "      <td>1</td>\n",
       "      <td>stray</td>\n",
       "      <td>normal</td>\n",
       "      <td>cat</td>\n",
       "      <td>mix</td>\n",
       "      <td>76</td>\n",
       "      <td>jul</td>\n",
       "      <td>2022</td>\n",
       "      <td>brown</td>\n",
       "      <td>1</td>\n",
       "      <td>0</td>\n",
       "    </tr>\n",
       "  </tbody>\n",
       "</table>\n",
       "</div>"
      ],
      "text/plain": [
       "         dob   outcome            sex  name      intake_type  \\\n",
       "0 2017-05-02  adoption  neutered male     1  owner surrender   \n",
       "1 2017-07-12  adoption  neutered male     1            stray   \n",
       "5 2014-03-12  transfer    intact male     1            stray   \n",
       "8 2018-03-01  adoption  neutered male     1  owner surrender   \n",
       "9 2022-05-04  adoption  neutered male     1            stray   \n",
       "\n",
       "           condition species       breed  outcome_age rel_month rel_year  \\\n",
       "0             normal     cat         mix          736       may     2019   \n",
       "1             normal     dog         mix          371       jul     2018   \n",
       "5  medical attention     cat         mix            6       mar     2014   \n",
       "8             normal     dog  two breeds          797       may     2020   \n",
       "9             normal     cat         mix           76       jul     2022   \n",
       "\n",
       "  primary_color  is_tabby  mix_color  \n",
       "0         brown         1          1  \n",
       "1         white         0          1  \n",
       "5        orange         1          0  \n",
       "8         white         0          1  \n",
       "9         brown         1          0  "
      ]
     },
     "execution_count": 5,
     "metadata": {},
     "output_type": "execute_result"
    }
   ],
   "source": [
    "df.head(5) "
   ]
  },
  {
   "cell_type": "code",
   "execution_count": 6,
   "id": "af287144-2eaf-4a39-bcf7-21929a51e2ec",
   "metadata": {},
   "outputs": [],
   "source": [
    "# Save the DataFrame as a JSON file\n",
    "df.to_json('super_clean.json', orient='records')"
   ]
  },
  {
   "cell_type": "code",
   "execution_count": 7,
   "id": "a2aed763-12af-4cce-8005-b4a32cc6d21a",
   "metadata": {},
   "outputs": [
    {
     "data": {
      "text/html": [
       "<div>\n",
       "<style scoped>\n",
       "    .dataframe tbody tr th:only-of-type {\n",
       "        vertical-align: middle;\n",
       "    }\n",
       "\n",
       "    .dataframe tbody tr th {\n",
       "        vertical-align: top;\n",
       "    }\n",
       "\n",
       "    .dataframe thead th {\n",
       "        text-align: right;\n",
       "    }\n",
       "</style>\n",
       "<table border=\"1\" class=\"dataframe\">\n",
       "  <thead>\n",
       "    <tr style=\"text-align: right;\">\n",
       "      <th></th>\n",
       "      <th>outcome</th>\n",
       "      <th>name</th>\n",
       "      <th>is_tabby</th>\n",
       "      <th>mix_color</th>\n",
       "      <th>sex_intact male</th>\n",
       "      <th>sex_neutered male</th>\n",
       "      <th>sex_spayed female</th>\n",
       "      <th>intake_type_euthanasia request</th>\n",
       "      <th>intake_type_owner surrender</th>\n",
       "      <th>intake_type_public assist</th>\n",
       "      <th>...</th>\n",
       "      <th>primary_color_gray</th>\n",
       "      <th>primary_color_lilac point</th>\n",
       "      <th>primary_color_lynx point</th>\n",
       "      <th>primary_color_orange</th>\n",
       "      <th>primary_color_red</th>\n",
       "      <th>primary_color_sable</th>\n",
       "      <th>primary_color_seal point</th>\n",
       "      <th>primary_color_tan</th>\n",
       "      <th>primary_color_tricolor</th>\n",
       "      <th>primary_color_white</th>\n",
       "    </tr>\n",
       "  </thead>\n",
       "  <tbody>\n",
       "    <tr>\n",
       "      <th>0</th>\n",
       "      <td>adoption</td>\n",
       "      <td>1</td>\n",
       "      <td>1</td>\n",
       "      <td>1</td>\n",
       "      <td>0</td>\n",
       "      <td>1</td>\n",
       "      <td>0</td>\n",
       "      <td>0</td>\n",
       "      <td>1</td>\n",
       "      <td>0</td>\n",
       "      <td>...</td>\n",
       "      <td>0</td>\n",
       "      <td>0</td>\n",
       "      <td>0</td>\n",
       "      <td>0</td>\n",
       "      <td>0</td>\n",
       "      <td>0</td>\n",
       "      <td>0</td>\n",
       "      <td>0</td>\n",
       "      <td>0</td>\n",
       "      <td>0</td>\n",
       "    </tr>\n",
       "    <tr>\n",
       "      <th>1</th>\n",
       "      <td>adoption</td>\n",
       "      <td>1</td>\n",
       "      <td>0</td>\n",
       "      <td>1</td>\n",
       "      <td>0</td>\n",
       "      <td>1</td>\n",
       "      <td>0</td>\n",
       "      <td>0</td>\n",
       "      <td>0</td>\n",
       "      <td>0</td>\n",
       "      <td>...</td>\n",
       "      <td>0</td>\n",
       "      <td>0</td>\n",
       "      <td>0</td>\n",
       "      <td>0</td>\n",
       "      <td>0</td>\n",
       "      <td>0</td>\n",
       "      <td>0</td>\n",
       "      <td>0</td>\n",
       "      <td>0</td>\n",
       "      <td>1</td>\n",
       "    </tr>\n",
       "    <tr>\n",
       "      <th>5</th>\n",
       "      <td>transfer</td>\n",
       "      <td>1</td>\n",
       "      <td>1</td>\n",
       "      <td>0</td>\n",
       "      <td>1</td>\n",
       "      <td>0</td>\n",
       "      <td>0</td>\n",
       "      <td>0</td>\n",
       "      <td>0</td>\n",
       "      <td>0</td>\n",
       "      <td>...</td>\n",
       "      <td>0</td>\n",
       "      <td>0</td>\n",
       "      <td>0</td>\n",
       "      <td>1</td>\n",
       "      <td>0</td>\n",
       "      <td>0</td>\n",
       "      <td>0</td>\n",
       "      <td>0</td>\n",
       "      <td>0</td>\n",
       "      <td>0</td>\n",
       "    </tr>\n",
       "    <tr>\n",
       "      <th>8</th>\n",
       "      <td>adoption</td>\n",
       "      <td>1</td>\n",
       "      <td>0</td>\n",
       "      <td>1</td>\n",
       "      <td>0</td>\n",
       "      <td>1</td>\n",
       "      <td>0</td>\n",
       "      <td>0</td>\n",
       "      <td>1</td>\n",
       "      <td>0</td>\n",
       "      <td>...</td>\n",
       "      <td>0</td>\n",
       "      <td>0</td>\n",
       "      <td>0</td>\n",
       "      <td>0</td>\n",
       "      <td>0</td>\n",
       "      <td>0</td>\n",
       "      <td>0</td>\n",
       "      <td>0</td>\n",
       "      <td>0</td>\n",
       "      <td>1</td>\n",
       "    </tr>\n",
       "    <tr>\n",
       "      <th>9</th>\n",
       "      <td>adoption</td>\n",
       "      <td>1</td>\n",
       "      <td>1</td>\n",
       "      <td>0</td>\n",
       "      <td>0</td>\n",
       "      <td>1</td>\n",
       "      <td>0</td>\n",
       "      <td>0</td>\n",
       "      <td>0</td>\n",
       "      <td>0</td>\n",
       "      <td>...</td>\n",
       "      <td>0</td>\n",
       "      <td>0</td>\n",
       "      <td>0</td>\n",
       "      <td>0</td>\n",
       "      <td>0</td>\n",
       "      <td>0</td>\n",
       "      <td>0</td>\n",
       "      <td>0</td>\n",
       "      <td>0</td>\n",
       "      <td>0</td>\n",
       "    </tr>\n",
       "  </tbody>\n",
       "</table>\n",
       "<p>5 rows × 34 columns</p>\n",
       "</div>"
      ],
      "text/plain": [
       "    outcome  name  is_tabby  mix_color  sex_intact male  sex_neutered male  \\\n",
       "0  adoption     1         1          1                0                  1   \n",
       "1  adoption     1         0          1                0                  1   \n",
       "5  transfer     1         1          0                1                  0   \n",
       "8  adoption     1         0          1                0                  1   \n",
       "9  adoption     1         1          0                0                  1   \n",
       "\n",
       "   sex_spayed female  intake_type_euthanasia request  \\\n",
       "0                  0                               0   \n",
       "1                  0                               0   \n",
       "5                  0                               0   \n",
       "8                  0                               0   \n",
       "9                  0                               0   \n",
       "\n",
       "   intake_type_owner surrender  intake_type_public assist  ...  \\\n",
       "0                            1                          0  ...   \n",
       "1                            0                          0  ...   \n",
       "5                            0                          0  ...   \n",
       "8                            1                          0  ...   \n",
       "9                            0                          0  ...   \n",
       "\n",
       "   primary_color_gray  primary_color_lilac point  primary_color_lynx point  \\\n",
       "0                   0                          0                         0   \n",
       "1                   0                          0                         0   \n",
       "5                   0                          0                         0   \n",
       "8                   0                          0                         0   \n",
       "9                   0                          0                         0   \n",
       "\n",
       "   primary_color_orange  primary_color_red  primary_color_sable  \\\n",
       "0                     0                  0                    0   \n",
       "1                     0                  0                    0   \n",
       "5                     1                  0                    0   \n",
       "8                     0                  0                    0   \n",
       "9                     0                  0                    0   \n",
       "\n",
       "   primary_color_seal point  primary_color_tan  primary_color_tricolor  \\\n",
       "0                         0                  0                       0   \n",
       "1                         0                  0                       0   \n",
       "5                         0                  0                       0   \n",
       "8                         0                  0                       0   \n",
       "9                         0                  0                       0   \n",
       "\n",
       "   primary_color_white  \n",
       "0                    0  \n",
       "1                    1  \n",
       "5                    0  \n",
       "8                    1  \n",
       "9                    0  \n",
       "\n",
       "[5 rows x 34 columns]"
      ]
     },
     "execution_count": 7,
     "metadata": {},
     "output_type": "execute_result"
    }
   ],
   "source": [
    "model_df.head()"
   ]
  },
  {
   "cell_type": "code",
   "execution_count": 8,
   "id": "4aa0092c-cd1c-4cd6-80a6-1925bbb62d16",
   "metadata": {},
   "outputs": [
    {
     "data": {
      "text/plain": [
       "(110079, 14)"
      ]
     },
     "execution_count": 8,
     "metadata": {},
     "output_type": "execute_result"
    }
   ],
   "source": [
    "df.shape"
   ]
  },
  {
   "cell_type": "code",
   "execution_count": 9,
   "id": "1bbfb74d-31b7-4ba4-8ee5-aecb89abdb00",
   "metadata": {},
   "outputs": [
    {
     "data": {
      "text/plain": [
       "(110079, 34)"
      ]
     },
     "execution_count": 9,
     "metadata": {},
     "output_type": "execute_result"
    }
   ],
   "source": [
    "model_df.shape"
   ]
  },
  {
   "cell_type": "code",
   "execution_count": 10,
   "id": "acbf6d61-9722-423c-b5b9-8f1357de817d",
   "metadata": {},
   "outputs": [
    {
     "name": "stdout",
     "output_type": "stream",
     "text": [
      "<class 'pandas.core.frame.DataFrame'>\n",
      "Int64Index: 110079 entries, 0 to 197201\n",
      "Data columns (total 14 columns):\n",
      " #   Column         Non-Null Count   Dtype         \n",
      "---  ------         --------------   -----         \n",
      " 0   dob            110079 non-null  datetime64[ns]\n",
      " 1   outcome        110079 non-null  object        \n",
      " 2   sex            110079 non-null  object        \n",
      " 3   name           110079 non-null  int64         \n",
      " 4   intake_type    110079 non-null  object        \n",
      " 5   condition      110079 non-null  object        \n",
      " 6   species        110079 non-null  object        \n",
      " 7   breed          110079 non-null  object        \n",
      " 8   outcome_age    110079 non-null  int64         \n",
      " 9   rel_month      110079 non-null  object        \n",
      " 10  rel_year       110079 non-null  object        \n",
      " 11  primary_color  110079 non-null  object        \n",
      " 12  is_tabby       110079 non-null  int64         \n",
      " 13  mix_color      110079 non-null  int64         \n",
      "dtypes: datetime64[ns](1), int64(4), object(9)\n",
      "memory usage: 16.6+ MB\n"
     ]
    }
   ],
   "source": [
    "df.info()"
   ]
  },
  {
   "cell_type": "code",
   "execution_count": 11,
   "id": "b4b1c035-9815-4125-96e9-6d8075910591",
   "metadata": {},
   "outputs": [
    {
     "name": "stdout",
     "output_type": "stream",
     "text": [
      "<class 'pandas.core.frame.DataFrame'>\n",
      "Int64Index: 110079 entries, 0 to 197201\n",
      "Data columns (total 34 columns):\n",
      " #   Column                          Non-Null Count   Dtype \n",
      "---  ------                          --------------   ----- \n",
      " 0   outcome                         110079 non-null  object\n",
      " 1   name                            110079 non-null  int64 \n",
      " 2   is_tabby                        110079 non-null  int64 \n",
      " 3   mix_color                       110079 non-null  int64 \n",
      " 4   sex_intact male                 110079 non-null  uint8 \n",
      " 5   sex_neutered male               110079 non-null  uint8 \n",
      " 6   sex_spayed female               110079 non-null  uint8 \n",
      " 7   intake_type_euthanasia request  110079 non-null  uint8 \n",
      " 8   intake_type_owner surrender     110079 non-null  uint8 \n",
      " 9   intake_type_public assist       110079 non-null  uint8 \n",
      " 10  intake_type_stray               110079 non-null  uint8 \n",
      " 11  condition_injured               110079 non-null  uint8 \n",
      " 12  condition_medical attention     110079 non-null  uint8 \n",
      " 13  condition_mental                110079 non-null  uint8 \n",
      " 14  condition_normal                110079 non-null  uint8 \n",
      " 15  condition_sick                  110079 non-null  uint8 \n",
      " 16  species_dog                     110079 non-null  uint8 \n",
      " 17  breed_single breed              110079 non-null  uint8 \n",
      " 18  breed_two breeds                110079 non-null  uint8 \n",
      " 19  primary_color_black             110079 non-null  uint8 \n",
      " 20  primary_color_brown             110079 non-null  uint8 \n",
      " 21  primary_color_buff              110079 non-null  uint8 \n",
      " 22  primary_color_fawn              110079 non-null  uint8 \n",
      " 23  primary_color_gold              110079 non-null  uint8 \n",
      " 24  primary_color_gray              110079 non-null  uint8 \n",
      " 25  primary_color_lilac point       110079 non-null  uint8 \n",
      " 26  primary_color_lynx point        110079 non-null  uint8 \n",
      " 27  primary_color_orange            110079 non-null  uint8 \n",
      " 28  primary_color_red               110079 non-null  uint8 \n",
      " 29  primary_color_sable             110079 non-null  uint8 \n",
      " 30  primary_color_seal point        110079 non-null  uint8 \n",
      " 31  primary_color_tan               110079 non-null  uint8 \n",
      " 32  primary_color_tricolor          110079 non-null  uint8 \n",
      " 33  primary_color_white             110079 non-null  uint8 \n",
      "dtypes: int64(3), object(1), uint8(30)\n",
      "memory usage: 11.4+ MB\n"
     ]
    }
   ],
   "source": [
    "model_df.info()"
   ]
  },
  {
   "cell_type": "code",
   "execution_count": 12,
   "id": "45f78a00-1d4e-4a34-9c2a-15fbe9bc06ba",
   "metadata": {},
   "outputs": [
    {
     "name": "stdout",
     "output_type": "stream",
     "text": [
      "train -> (66047, 14), 60.0%\n",
      "validate -> (22016, 14),20.0%\n",
      "test -> (22016, 14), 20.0%\n"
     ]
    }
   ],
   "source": [
    "train, validate, test = w.split_data(df, \"outcome\")"
   ]
  },
  {
   "cell_type": "markdown",
   "id": "f1967324-16f6-412c-aeb3-a4ff0453559a",
   "metadata": {},
   "source": [
    "# Question and Hypothesis Statement"
   ]
  },
  {
   "cell_type": "markdown",
   "id": "620ed766-e74e-4fb3-a850-733f1617a3eb",
   "metadata": {},
   "source": [
    "## Does breed affect whether an animal will be adopted?"
   ]
  },
  {
   "cell_type": "code",
   "execution_count": 13,
   "id": "4b8cb320-d5e3-4b7e-903a-7f71d11cb2b3",
   "metadata": {},
   "outputs": [
    {
     "data": {
      "image/png": "[encoded data removed]",
      "text/plain": [
       "<Figure size 1200x800 with 1 Axes>"
      ]
     },
     "metadata": {},
     "output_type": "display_data"
    }
   ],
   "source": [
    "# visualize relationship breed affect adoption\n",
    "plt.figure(figsize=(12,8))\n",
    "sns.countplot(x='breed', hue='outcome', data=train, palette=['green', 'gold', 'silver'])\n",
    "plt.title('Does breed affect animal adoption?')\n",
    "plt.xlabel('Breed')\n",
    "plt.ylabel('Outcome')\n",
    "plt.show()"
   ]
  },
  {
   "cell_type": "markdown",
   "id": "2234efd6-7d32-40ce-8426-69cd4a050e70",
   "metadata": {},
   "source": [
    "* Looking at the three breed types there may be some indication that there might be a slight indication of no relationship.\n",
    "* The chi-squared test of independence tests the null hypothesis that there is no relationship between the two variables (breed and outcome) in the population. If the p-value is less than the significance level (e.g., 0.05), we reject the null hypothesis and conclude that there is a significant relationship between the two variables.\n",
    "* $H0$ = There is no relationship between breed and outcome.\n",
    "* $Ha$ = There is a relationship between breed and outcome."
   ]
  },
  {
   "cell_type": "code",
   "execution_count": 14,
   "id": "8427a1b7-5739-45c6-b460-4b3cbe3f2ff6",
   "metadata": {},
   "outputs": [
    {
     "name": "stdout",
     "output_type": "stream",
     "text": [
      "Chi-squared statistic: 254.21904352195457\n",
      "p-value: 8.028187589209715e-54\n"
     ]
    }
   ],
   "source": [
    "# Create a contingency table of breed and outcome\n",
    "contingency_table = pd.crosstab(train['breed'], train['outcome'])\n",
    "\n",
    "# Perform a chi-squared test of independence\n",
    "chi2, p, dof, expected = chi2_contingency(contingency_table)\n",
    "\n",
    "# Print the results of the chi-squared test\n",
    "print('Chi-squared statistic:', chi2)\n",
    "print('p-value:', p)"
   ]
  },
  {
   "cell_type": "markdown",
   "id": "e4a30ad2-a86f-4b4a-b340-24e006e403b8",
   "metadata": {},
   "source": [
    "## Findings\n",
    "* There is a higher volume of mixed breeds that are not adopted or transfered\n",
    "* The Chi-squared statistic indicates substantial difference between the observed and expected frequencies\n",
    "* The p-value is extremely small, indicating strong evidence to reject the null hypothesis\n",
    "* Recommendation: Send forward to modeling"
   ]
  },
  {
   "cell_type": "markdown",
   "id": "39dd8d4d-602c-43cf-9ea9-93491f9b1165",
   "metadata": {},
   "source": [
    "## Does intake type affect whether an animal will be adopted?"
   ]
  },
  {
   "cell_type": "code",
   "execution_count": 15,
   "id": "b502226b-232b-4fc5-a701-30cae660b22d",
   "metadata": {},
   "outputs": [
    {
     "data": {
      "image/png": "[encoded data removed]",
      "text/plain": [
       "<Figure size 1200x800 with 1 Axes>"
      ]
     },
     "metadata": {},
     "output_type": "display_data"
    }
   ],
   "source": [
    "# visualize relationship breed affect adoption\n",
    "plt.figure(figsize=(12,8))\n",
    "sns.countplot(x='intake_type', hue='outcome', data=train, palette=['green', 'gold', 'silver'])\n",
    "plt.title('Does intake type affect animal adoption?')\n",
    "plt.xlabel('Intake Type')\n",
    "plt.ylabel('Outcome')\n",
    "plt.show()"
   ]
  },
  {
   "cell_type": "markdown",
   "id": "462a02e5-18a3-4946-ab46-2f869199588c",
   "metadata": {},
   "source": [
    "* Looking at the five intake types there may be some indication of a relationship.\n",
    "* The chi-squared test of independence tests the null hypothesis that there is no relationship between the two variables (intake_type and outcome) in the population. If the p-value is less than the significance level (e.g., 0.05), we reject the null hypothesis and conclude that there is a significant relationship between the two variables.\n",
    "* $H0$ = There is no relationship between intake type and outcome.\n",
    "* $Ha$ = There is a relationship between intake type and outcome."
   ]
  },
  {
   "cell_type": "code",
   "execution_count": 16,
   "id": "2d7c9c11-7770-47c5-893f-e1c6c1498f37",
   "metadata": {},
   "outputs": [
    {
     "name": "stdout",
     "output_type": "stream",
     "text": [
      "Chi-squared statistic: 2408.018143837644\n",
      "p-value: 0.0\n"
     ]
    }
   ],
   "source": [
    "# Create a contingency table of breed and outcome\n",
    "contingency_table = pd.crosstab(train['intake_type'], train['outcome'])\n",
    "\n",
    "# Perform a chi-squared test of independence\n",
    "chi2, p, dof, expected = chi2_contingency(contingency_table)\n",
    "\n",
    "# Print the results of the chi-squared test\n",
    "print('Chi-squared statistic:', chi2)\n",
    "print('p-value:', p)"
   ]
  },
  {
   "cell_type": "markdown",
   "id": "c7e7eb24-32cf-4da1-91a8-78ec628cfb74",
   "metadata": {},
   "source": [
    "## Findings\n",
    "* There is a higher volume of strays that are not adopted or transfered\n",
    "* The Chi-squared statistic indicates substantial difference between the observed and expected frequencies\n",
    "* The p-value is small, indicating strong evidence to reject the null hypothesis\n",
    "* Recommendation: Send forward to modeling"
   ]
  },
  {
   "cell_type": "markdown",
   "id": "9fdf98ed-dcd0-475f-902d-c988eb6a730c",
   "metadata": {},
   "source": [
    "## Modeling Conclusion"
   ]
  },
  {
   "cell_type": "code",
   "execution_count": 17,
   "id": "893a4f15-e3d6-48ae-85e2-01645b591f7e",
   "metadata": {},
   "outputs": [
    {
     "name": "stdout",
     "output_type": "stream",
     "text": [
      "train -> (66047, 34), 60.0%\n",
      "validate -> (22016, 34),20.0%\n",
      "test -> (22016, 34), 20.0%\n"
     ]
    }
   ],
   "source": [
    "X_train,y_train,X_validate,y_validate,X_test,y_test = f.get_xy()"
   ]
  },
  {
   "cell_type": "code",
   "execution_count": 18,
   "id": "3024756c-d805-457e-bae3-e8dcb8d92ac2",
   "metadata": {},
   "outputs": [],
   "source": [
    "baseline_df = f.get_baseline(y_train)"
   ]
  },
  {
   "cell_type": "code",
   "execution_count": 19,
   "id": "0992070f-9529-4a3c-a8f2-1cedc5facd85",
   "metadata": {},
   "outputs": [
    {
     "data": {
      "text/html": [
       "<div>\n",
       "<style scoped>\n",
       "    .dataframe tbody tr th:only-of-type {\n",
       "        vertical-align: middle;\n",
       "    }\n",
       "\n",
       "    .dataframe tbody tr th {\n",
       "        vertical-align: top;\n",
       "    }\n",
       "\n",
       "    .dataframe thead th {\n",
       "        text-align: right;\n",
       "    }\n",
       "</style>\n",
       "<table border=\"1\" class=\"dataframe\">\n",
       "  <thead>\n",
       "    <tr style=\"text-align: right;\">\n",
       "      <th></th>\n",
       "      <th>Baseline</th>\n",
       "      <th>Metric</th>\n",
       "      <th>Score</th>\n",
       "    </tr>\n",
       "  </thead>\n",
       "  <tbody>\n",
       "    <tr>\n",
       "      <th>0</th>\n",
       "      <td>0    adoption\n",
       "Name: outcome, dtype: object</td>\n",
       "      <td>Accuracy</td>\n",
       "      <td>0.638727</td>\n",
       "    </tr>\n",
       "  </tbody>\n",
       "</table>\n",
       "</div>"
      ],
      "text/plain": [
       "                                     Baseline    Metric     Score\n",
       "0  0    adoption\n",
       "Name: outcome, dtype: object  Accuracy  0.638727"
      ]
     },
     "execution_count": 19,
     "metadata": {},
     "output_type": "execute_result"
    }
   ],
   "source": [
    "baseline_df"
   ]
  },
  {
   "cell_type": "markdown",
   "id": "10fd45ab-54fe-44de-969d-0209f1e26c6a",
   "metadata": {},
   "source": [
    "## Comparing Models\n",
    "* Baseline: 63.87\n",
    "* The KNN Model yielded a train accuracy of 79.08 and a validate accuracy of 78.99\n",
    "* The Logistics Regression Model yielded a train accuracy of 79.46 and a validate accuracy of 79.60\n",
    "* The Decision Tree Model yielded a train accuracy of 79.06 and a validate accuracy of 79.18\n",
    "* The Random Forest Model yielded a train accuracy of 71.23 and a validate accuracy of 71.31\n",
    "* The Support Vector Machine Model yielded a train accuracy of 79.87 and a validate accuracy of 79.78\n",
    "* The Naive Bayes Model yielded a train accuracy of 67.73 and a validate accuracy of 67.66\n",
    "* The Gradient Boosting Model yielded a train accuracy of 79.74 and a validate accuracy of 79.76"
   ]
  },
  {
   "cell_type": "markdown",
   "id": "a77ef87e-5840-400e-9e76-5200b4400df7",
   "metadata": {},
   "source": [
    "## Model Selection\n",
    "* The Gradient Boosting Model maintained a 79.75 % average accuracy with only a 0.02 differential in both train and validate. While most of the models did well with the exception of the Naive Bayes model, there were slight variances between the train and validate sets. We beat the baseline accuracy score of 63.87% by 15.88% when using the average of the Gradient Boosting Model. We will move forward with the Gradient Boosting Model using the final test data set."
   ]
  },
  {
   "cell_type": "code",
   "execution_count": null,
   "id": "5bb800df-6ebf-4423-adfd-03c3a7b9ee78",
   "metadata": {},
   "outputs": [],
   "source": []
  },
  {
   "cell_type": "markdown",
   "id": "f85269e6-b7e5-443c-a004-92d0ac0d386c",
   "metadata": {},
   "source": [
    "# Question and Hypothesis Statement"
   ]
  },
  {
   "cell_type": "code",
   "execution_count": null,
   "id": "36a62b51-266b-4277-bda3-d3b3a291b53a",
   "metadata": {},
   "outputs": [],
   "source": []
  },
  {
   "cell_type": "code",
   "execution_count": null,
   "id": "2f3c45bf-e797-4362-9b46-51dd478e3b08",
   "metadata": {},
   "outputs": [],
   "source": []
  },
  {
   "cell_type": "code",
   "execution_count": null,
   "id": "38003905-7924-48a2-b19f-3e89aba68154",
   "metadata": {},
   "outputs": [],
   "source": []
  },
  {
   "cell_type": "code",
   "execution_count": null,
   "id": "785ff02a-00d8-4c1c-b655-48d879928dac",
   "metadata": {},
   "outputs": [],
   "source": []
  },
  {
   "cell_type": "markdown",
   "id": "faff10f7-71c6-49ee-8c95-8b180a9e6e62",
   "metadata": {},
   "source": [
    "# Conclusion"
   ]
  },
  {
   "cell_type": "code",
   "execution_count": null,
   "id": "14ad2e8c-de85-4b59-8d1c-9fc1aa97a349",
   "metadata": {},
   "outputs": [],
   "source": []
  },
  {
   "cell_type": "code",
   "execution_count": null,
   "id": "098adb44-18ed-47c8-ae5f-f765f4e3ce74",
   "metadata": {},
   "outputs": [],
   "source": []
  },
  {
   "cell_type": "code",
   "execution_count": null,
   "id": "f698958d-a6dc-4f2e-91ce-b89dea00842d",
   "metadata": {},
   "outputs": [],
   "source": []
  },
  {
   "cell_type": "markdown",
   "id": "a9d602fb-6d06-407c-bf72-afc1829bde73",
   "metadata": {},
   "source": [
    "# Question and Hypothesis Statement"
   ]
  },
  {
   "cell_type": "code",
   "execution_count": null,
   "id": "987c80f3-a071-4937-8f9b-0f21273761c2",
   "metadata": {},
   "outputs": [],
   "source": []
  },
  {
   "cell_type": "code",
   "execution_count": null,
   "id": "13777fc7-b5be-4ff4-8c95-2fc5e9c85958",
   "metadata": {},
   "outputs": [],
   "source": []
  },
  {
   "cell_type": "code",
   "execution_count": null,
   "id": "e0b444ea-d88d-4b9a-9663-3cd2ac585757",
   "metadata": {},
   "outputs": [],
   "source": []
  },
  {
   "cell_type": "markdown",
   "id": "0a9dd157-18a4-4e00-8450-9be9c9edcb7a",
   "metadata": {},
   "source": [
    "# Conclusion"
   ]
  }
 ],
 "metadata": {
  "kernelspec": {
   "display_name": "Python 3 (ipykernel)",
   "language": "python",
   "name": "python3"
  },
  "language_info": {
   "codemirror_mode": {
    "name": "ipython",
    "version": 3
   },
   "file_extension": ".py",
   "mimetype": "text/x-python",
   "name": "python",
   "nbconvert_exporter": "python",
   "pygments_lexer": "ipython3",
   "version": "3.9.13"
  }
 },
 "nbformat": 4,
 "nbformat_minor": 5
}
